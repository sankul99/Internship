{
 "cells": [
  {
   "cell_type": "code",
   "execution_count": null,
   "id": "34b5768d",
   "metadata": {},
   "outputs": [],
   "source": [
    "!pip install selenium"
   ]
  },
  {
   "cell_type": "code",
   "execution_count": null,
   "id": "eb279fa5",
   "metadata": {},
   "outputs": [],
   "source": [
    "import selenium\n",
    "import pandas as pd\n",
    "from selenium import webdriver\n",
    "import warnings\n",
    "warnings.filterwarnings('ignore')\n",
    "from selenium.webdriver.common.by import By\n",
    "import time"
   ]
  },
  {
   "cell_type": "code",
   "execution_count": null,
   "id": "8023fecb",
   "metadata": {},
   "outputs": [],
   "source": [
    "driver = webdriver.Chrome(r\"chromerdriver.exe\")"
   ]
  },
  {
   "cell_type": "markdown",
   "id": "9f62055a",
   "metadata": {},
   "source": [
    "Q1: Write a python program to scrape data for “Data Analyst” Job position in “Bangalore” location. You \n",
    "have to scrape the job-title, job-location, company_name, experience_required. You have to scrape first 10 \n",
    "jobs data.\n"
   ]
  },
  {
   "cell_type": "code",
   "execution_count": null,
   "id": "3db499b0",
   "metadata": {},
   "outputs": [],
   "source": [
    "#getting the website to the the driver\n",
    "driver.get(\"https://www.naukri.com/\")"
   ]
  },
  {
   "cell_type": "code",
   "execution_count": null,
   "id": "965a3916",
   "metadata": {},
   "outputs": [],
   "source": [
    "designation = driver.find_element(By.CLASS_NAME,\"suggestor-input \")\n",
    "designation.send_keys('Data Analyst')"
   ]
  },
  {
   "cell_type": "code",
   "execution_count": null,
   "id": "6d491efd",
   "metadata": {},
   "outputs": [],
   "source": [
    "location = driver.find_element(By.XPATH,\"/html/body/div[1]/div[6]/div/div/div[5]/div/div/div/input\")\n",
    "location.send_keys('Bangalore')"
   ]
  },
  {
   "cell_type": "code",
   "execution_count": null,
   "id": "0cf6754a",
   "metadata": {},
   "outputs": [],
   "source": [
    "search = driver.find_element(By.CLASS_NAME,\"qsbSubmit\")\n",
    "search.click()"
   ]
  },
  {
   "cell_type": "code",
   "execution_count": null,
   "id": "cfed3f80",
   "metadata": {},
   "outputs": [],
   "source": [
    "job_title = []\n",
    "job_location = []\n",
    "company_name = []\n",
    "experience_req = []"
   ]
  },
  {
   "cell_type": "code",
   "execution_count": null,
   "id": "5a9b3b98",
   "metadata": {},
   "outputs": [],
   "source": [
    "title_tags = driver.find_elements(By.XPATH,'//a[@class=\"title ellipsis\"]')\n",
    "for data in title_tags[0:10]:\n",
    "    title = data.text\n",
    "    job_title.append(title)\n",
    "\n",
    "location_tags = driver.find_elements(By.XPATH,'//span[@class=\"ellipsis fleft locWdth\"]')\n",
    "for data in location_tags[0:10]:\n",
    "    location = data.text\n",
    "    job_location.append(location)\n",
    "    \n",
    "company_tags = driver.find_elements(By.XPATH,'//a[@class=\"subTitle ellipsis fleft\"]')\n",
    "for data in company_tags[0:10]:\n",
    "    company = data.text\n",
    "    company_name.append(company)\n",
    "    \n",
    "experience_tags = driver.find_elements(By.XPATH,'//span[@class=\"ellipsis fleft expwdth\"]')\n",
    "for data in experience_tags[0:10]:\n",
    "    experience = data.text\n",
    "    experience_req.append(experience)"
   ]
  },
  {
   "cell_type": "code",
   "execution_count": null,
   "id": "9e63a430",
   "metadata": {},
   "outputs": [],
   "source": [
    "print(len(job_title),len(job_location),len(company_name),len(experience_req))"
   ]
  },
  {
   "cell_type": "code",
   "execution_count": null,
   "id": "915ae432",
   "metadata": {},
   "outputs": [],
   "source": [
    "df = pd.DataFrame({'Title':job_title,'Location':job_location,'Company':company_name,'Experience Required':experience_req})"
   ]
  },
  {
   "cell_type": "code",
   "execution_count": null,
   "id": "3a5b993d",
   "metadata": {},
   "outputs": [],
   "source": [
    "df"
   ]
  },
  {
   "cell_type": "markdown",
   "id": "e82dc815",
   "metadata": {},
   "source": [
    "Q2:Write a python program to scrape data for “Data Scientist” Job position in “Bangalore” location. You \n",
    "have to scrape the job-title, job-location, company_name. You have to scrape first 10 jobs data.\n"
   ]
  },
  {
   "cell_type": "code",
   "execution_count": null,
   "id": "b334aa5f",
   "metadata": {},
   "outputs": [],
   "source": [
    "driver.get(\"https://www.naukri.com/\")"
   ]
  },
  {
   "cell_type": "code",
   "execution_count": null,
   "id": "c5746cc5",
   "metadata": {},
   "outputs": [],
   "source": [
    "designation = driver.find_element(By.CLASS_NAME,\"suggestor-input \")\n",
    "designation.send_keys('Data Scientist')"
   ]
  },
  {
   "cell_type": "code",
   "execution_count": null,
   "id": "8361c60b",
   "metadata": {},
   "outputs": [],
   "source": [
    "location = driver.find_element(By.XPATH,\"/html/body/div[1]/div[6]/div/div/div[5]/div/div/div/input\")\n",
    "location.send_keys('Bangalore')"
   ]
  },
  {
   "cell_type": "code",
   "execution_count": null,
   "id": "57be02d1",
   "metadata": {},
   "outputs": [],
   "source": [
    "search = driver.find_element(By.CLASS_NAME,\"qsbSubmit\")\n",
    "search.click()"
   ]
  },
  {
   "cell_type": "code",
   "execution_count": null,
   "id": "f846dc9d",
   "metadata": {},
   "outputs": [],
   "source": [
    "job_location = []\n",
    "job_title = []\n",
    "company_name = []"
   ]
  },
  {
   "cell_type": "code",
   "execution_count": null,
   "id": "19372b5b",
   "metadata": {},
   "outputs": [],
   "source": [
    "title_tags = driver.find_elements(By.XPATH,'//a[@class=\"title ellipsis\"]')\n",
    "for data in title_tags[0:10]:\n",
    "    title = data.text\n",
    "    job_title.append(title)\n",
    "    \n",
    "company_tags = driver.find_elements(By.XPATH,'//a[@class=\"subTitle ellipsis fleft\"]')\n",
    "for data in company_tags[0:10]:\n",
    "    company = data.text\n",
    "    company_name.append(company)\n",
    "    \n",
    "location_tags = driver.find_elements(By.XPATH,'//span[@class=\"ellipsis fleft locWdth\"]')\n",
    "for data in location_tags[0:10]:\n",
    "    location = data.text\n",
    "    job_location.append(location)\n",
    "\n",
    "    \n",
    "\n",
    "    \n"
   ]
  },
  {
   "cell_type": "code",
   "execution_count": null,
   "id": "a6b170bd",
   "metadata": {},
   "outputs": [],
   "source": [
    "df = pd.DataFrame({'Title': job_title,'Name of the Company':company_name,'Location':job_location})"
   ]
  },
  {
   "cell_type": "code",
   "execution_count": null,
   "id": "bae46c9a",
   "metadata": {},
   "outputs": [],
   "source": [
    "df"
   ]
  },
  {
   "cell_type": "markdown",
   "id": "d4c2fc44",
   "metadata": {},
   "source": [
    "Q3. In this question you have to scrape data using the filters available on the webpage as shown below:\n",
    "\n",
    "You have to use the location and salary filter.\n",
    "You have to scrape data for “Data Scientist” designation for first 10 job results. \n",
    "You have to scrape the job-title, job-location, company name, experience required.\n",
    "The location filter to be used is “Delhi/NCR”. The salary filter to be used is “3-6” lakhs"
   ]
  },
  {
   "cell_type": "code",
   "execution_count": null,
   "id": "301cdccc",
   "metadata": {},
   "outputs": [],
   "source": [
    "driver.get(\"https://www.naukri.com/\")"
   ]
  },
  {
   "cell_type": "code",
   "execution_count": null,
   "id": "1430bf90",
   "metadata": {},
   "outputs": [],
   "source": [
    "designation = driver.find_element(By.CLASS_NAME,\"suggestor-input \")\n",
    "designation.send_keys('Data Scientist')"
   ]
  },
  {
   "cell_type": "code",
   "execution_count": null,
   "id": "a4649d39",
   "metadata": {},
   "outputs": [],
   "source": [
    "search = driver.find_element(By.CLASS_NAME,\"qsbSubmit\")\n",
    "search.click()"
   ]
  },
  {
   "cell_type": "code",
   "execution_count": null,
   "id": "4a3c30d5",
   "metadata": {},
   "outputs": [],
   "source": [
    "salary_filter = driver.find_element(By.XPATH,\"/html/body/div[1]/div[4]/div/div/section[1]/div[2]/div[6]/div[2]/div[2]/label/i\")\n",
    "salary_filter.click()"
   ]
  },
  {
   "cell_type": "code",
   "execution_count": null,
   "id": "5347891a",
   "metadata": {},
   "outputs": [],
   "source": [
    "location_filter = driver.find_element(By.XPATH,\"/html/body/div[1]/div[4]/div/div/section[1]/div[2]/div[6]/div[2]/div[4]/label/p/span[1]\")\n",
    "location_filter.click()"
   ]
  },
  {
   "cell_type": "code",
   "execution_count": null,
   "id": "0b9d6c6a",
   "metadata": {},
   "outputs": [],
   "source": [
    "job_title = []\n",
    "job_location = []\n",
    "company_name = []\n",
    "exp_req = []"
   ]
  },
  {
   "cell_type": "code",
   "execution_count": null,
   "id": "5180b60f",
   "metadata": {},
   "outputs": [],
   "source": [
    "title_tags = driver.find_elements(By.XPATH,'//a[@class=\"title ellipsis\"]')\n",
    "for data in title_tags[0:11]:\n",
    "    data.text\n",
    "    job_title.append(title_tags)\n",
    "    \n",
    "location_tags = driver.find_elements(By.XPATH,'//li[@class=\"fleft br2 placeHolderLi location\"]')\n",
    "for data in location_tags[0:11]:\n",
    "    data.text\n",
    "    job_location.append(location_tags)\n",
    "    \n",
    "company_tags = driver.find_elements(By.XPATH,'//a[@class=\"subTitle ellipsis fleft\"]')\n",
    "for data in company_tags[0:11]:\n",
    "    data.text\n",
    "    company_name.append(company_tags)\n",
    "    \n",
    "exp_tags = driver.find_elements(By.XPATH,'//span[@class=\"ellipsis fleft expwdth\"]')\n",
    "for data in exp_tags[0:11]:\n",
    "    data.text\n",
    "    exp_req.append(exp_tags)"
   ]
  },
  {
   "cell_type": "code",
   "execution_count": null,
   "id": "9b5b4bc1",
   "metadata": {},
   "outputs": [],
   "source": [
    "df = pd.DataFrame({'Title':job_title,'Job Location':job_location,'Company Name':company_name,'Experience':exp_req})\n"
   ]
  },
  {
   "cell_type": "code",
   "execution_count": null,
   "id": "1c7ba9e8",
   "metadata": {},
   "outputs": [],
   "source": [
    "df"
   ]
  },
  {
   "cell_type": "code",
   "execution_count": null,
   "id": "62af54ca",
   "metadata": {},
   "outputs": [],
   "source": [
    "!pip install selenium\n"
   ]
  },
  {
   "cell_type": "code",
   "execution_count": null,
   "id": "b5694fe0",
   "metadata": {},
   "outputs": [],
   "source": [
    "import selenium\n",
    "import pandas as pd\n",
    "from selenium import webdriver\n",
    "import warnings\n",
    "warnings.filterwarnings('ignore')\n",
    "from selenium.common.exceptions import StaleElementReferenceException, NoSuchElementException\n",
    "from selenium.webdriver.common.by import By\n",
    "import time"
   ]
  },
  {
   "cell_type": "code",
   "execution_count": null,
   "id": "fbc91d87",
   "metadata": {},
   "outputs": [],
   "source": [
    "driver = webdriver.Chrome(r\"chromedriver.exe\")\n"
   ]
  },
  {
   "cell_type": "markdown",
   "id": "437c6aef",
   "metadata": {},
   "source": [
    "4. Scrape data of first 100 sunglasses listings on flipkart.com. You have to scrape four attributes:\n",
    "1. Brand\n",
    "2. ProductDescription\n",
    "3. Price"
   ]
  },
  {
   "cell_type": "code",
   "execution_count": null,
   "id": "40c06684",
   "metadata": {},
   "outputs": [],
   "source": [
    "driver.get(\"https://www.flipkart.com/\")"
   ]
  },
  {
   "cell_type": "code",
   "execution_count": null,
   "id": "4addded2",
   "metadata": {},
   "outputs": [],
   "source": [
    "sunglasses = driver.find_element(By.CLASS_NAME,\"_3704LK \")\n",
    "sunglasses.send_keys('Sunglasses') "
   ]
  },
  {
   "cell_type": "code",
   "execution_count": null,
   "id": "f45d03e0",
   "metadata": {},
   "outputs": [],
   "source": [
    "search = driver.find_element(By.CLASS_NAME,\"L0Z3Pu\")\n",
    "search.click()"
   ]
  },
  {
   "cell_type": "code",
   "execution_count": null,
   "id": "c1361336",
   "metadata": {},
   "outputs": [],
   "source": [
    "brand = []\n",
    "product = []\n",
    "price = []"
   ]
  },
  {
   "cell_type": "code",
   "execution_count": null,
   "id": "fc58e662",
   "metadata": {},
   "outputs": [],
   "source": [
    "start = 0\n",
    "end = 3\n",
    "for page in range(start,end):\n",
    "    brand_tag = driver.find_elements(By.XPATH,'//div[@class=\"_2WkVRV\"]')\n",
    "    for data in brand_tag[0:100]:\n",
    "        brand.append(brand_tag)\n",
    "     \n",
    "    product_tag = driver.find_elements(By.XPATH,'//div[@class=\"_2WkVRV\"]')\n",
    "    for data in brand_tag[0:100]:\n",
    "        product.append(product_tag)\n",
    "        \n",
    "    price_tag = driver.find_elements(By.XPATH,'//div[@class=\"_30jeq3\"]')\n",
    "    for data in price_tag[0:100]:\n",
    "        price.append(price_tag)\n",
    "        \n",
    "    next_button = driver.find_element(By.XPATH,'//a[@class=\"_1LKTO3\"]')\n",
    "    next_button.click()\n",
    "    time.sleep(4)"
   ]
  },
  {
   "cell_type": "code",
   "execution_count": null,
   "id": "25149f09",
   "metadata": {},
   "outputs": [],
   "source": [
    "print(len(brand))"
   ]
  },
  {
   "cell_type": "code",
   "execution_count": null,
   "id": "3f03455a",
   "metadata": {},
   "outputs": [],
   "source": [
    "df = pd.DataFrame({'Brand':brand,'Product name':product,'Price':price})"
   ]
  },
  {
   "cell_type": "code",
   "execution_count": null,
   "id": "a2562557",
   "metadata": {},
   "outputs": [],
   "source": [
    "df"
   ]
  },
  {
   "cell_type": "markdown",
   "id": "57e661a0",
   "metadata": {},
   "source": [
    "Q5: Scrape 100 reviews data from flipkart.com for iphone11 phone. You have to go the link: \n",
    "https://www.flipkart.com/apple-iphone-11-black-64-gb/product\u0002reviews/itm4e5041ba101fd?pid=MOBFWQ6BXGJCEYNY&lid=LSTMOBFWQ6BXGJCEYNYZXSHRJ&market \n",
    "place=FLIPKART"
   ]
  },
  {
   "cell_type": "code",
   "execution_count": null,
   "id": "db018cd7",
   "metadata": {},
   "outputs": [],
   "source": [
    "driver = webdriver.Chrome(r\"chromedriver.exe\")"
   ]
  },
  {
   "cell_type": "code",
   "execution_count": null,
   "id": "df47b297",
   "metadata": {},
   "outputs": [],
   "source": [
    "driver.get(\"https://www.flipkart.com/apple-iphone-11-black-64-gb/product-reviews/itm4e5041ba101fd?pid=MOBFWQ6BXGJCEYNY&lid=LSTMOBFWQ6BXGJCEYNYZXSHRJ&marketplace=FLIPKART\")"
   ]
  },
  {
   "cell_type": "code",
   "execution_count": null,
   "id": "dc7e4707",
   "metadata": {},
   "outputs": [],
   "source": [
    "ratings = []\n",
    "review = []\n",
    "tot_review = []"
   ]
  },
  {
   "cell_type": "code",
   "execution_count": null,
   "id": "4370bb91",
   "metadata": {},
   "outputs": [],
   "source": [
    "start = 0\n",
    "end = 3\n",
    "for page in range(start,end):\n",
    "    ratings_tag = driver.find_elements(By.XPATH,'//div[@class=\"_3LWZlK _1BLPMq\"]]')\n",
    "    for data in ratings_tag[0:100]:\n",
    "        ratings.append(ratings_tag)\n",
    "     \n",
    "    review_tag = driver.find_elements(By.XPATH,'//p[@class=\"_2-N8zT\"]')\n",
    "    for data in review_tag[0:100]:\n",
    "        review.append(review_tag)\n",
    "        \n",
    "    main_review = driver.find_elements(By.XPATH,'//div[@class=\"t-ZTKy\"]')\n",
    "    for data in main_review[0:100]:\n",
    "        tot_review.append(main_review)\n",
    "        \n",
    "    next_button = driver.find_element(By.XPATH,'//a[@class=\"_1LKTO3\"]')\n",
    "    next_button.click()\n",
    "    time.sleep(4)"
   ]
  },
  {
   "cell_type": "code",
   "execution_count": null,
   "id": "8f850160",
   "metadata": {},
   "outputs": [],
   "source": [
    "print(len(ratings))"
   ]
  },
  {
   "cell_type": "code",
   "execution_count": null,
   "id": "4f48133a",
   "metadata": {},
   "outputs": [],
   "source": [
    "df = pd.DataFrame({'Ratings':review,'Review':review,'Full Review':tot_review})"
   ]
  },
  {
   "cell_type": "code",
   "execution_count": null,
   "id": "60d9beab",
   "metadata": {},
   "outputs": [],
   "source": [
    "df\n"
   ]
  },
  {
   "cell_type": "markdown",
   "id": "edd9e49f",
   "metadata": {},
   "source": [
    "6. Scrape data for first 100 sneakers you find when you visit flipkart.com and search for “sneakers” in the \n",
    "search field.\n",
    "You have to scrape 3 attributes of each sneaker:\n",
    "1. Brand\n",
    "2. ProductDescription\n",
    "3. Price"
   ]
  },
  {
   "cell_type": "code",
   "execution_count": null,
   "id": "70c003ff",
   "metadata": {},
   "outputs": [],
   "source": [
    "!pip install selenium"
   ]
  },
  {
   "cell_type": "code",
   "execution_count": null,
   "id": "2b902015",
   "metadata": {},
   "outputs": [],
   "source": [
    "import selenium\n",
    "import pandas as pd\n",
    "from selenium import webdriver\n",
    "import warnings\n",
    "warnings.filterwarnings('ignore')\n",
    "from selenium.webdriver.common.by import By\n",
    "import time"
   ]
  },
  {
   "cell_type": "code",
   "execution_count": null,
   "id": "5f55de2a",
   "metadata": {},
   "outputs": [],
   "source": [
    "driver = webdriver.Chrome(r\"chromerdriver.exe\")"
   ]
  },
  {
   "cell_type": "code",
   "execution_count": null,
   "id": "a639aa4a",
   "metadata": {},
   "outputs": [],
   "source": [
    "driver.get(\"https://www.flipkart.com/\")\n"
   ]
  },
  {
   "cell_type": "code",
   "execution_count": null,
   "id": "666c02b6",
   "metadata": {},
   "outputs": [],
   "source": [
    "search = driver.find_element(By.CLASS_NAME,\"_3704LK\")\n",
    "search.send_keys('Sneakers')"
   ]
  },
  {
   "cell_type": "code",
   "execution_count": null,
   "id": "24cbe9bd",
   "metadata": {},
   "outputs": [],
   "source": [
    "button = driver.find_element(By.CLASS_NAME,\"L0Z3Pu\")\n",
    "button.click()"
   ]
  },
  {
   "cell_type": "code",
   "execution_count": null,
   "id": "e6972ee4",
   "metadata": {},
   "outputs": [],
   "source": [
    "brand = []\n",
    "production= []\n",
    "price = []"
   ]
  },
  {
   "cell_type": "code",
   "execution_count": null,
   "id": "b3ea1e31",
   "metadata": {},
   "outputs": [],
   "source": [
    "start = 0\n",
    "end = 3\n",
    "for page in range(start,end):\n",
    "    brand_tag = driver.find_elements(By.XPATH,'//div[@class=\"_2WkVRV\"]')\n",
    "    for data in brand_tag[0:100]:\n",
    "        brand.append(brand_tag)\n",
    "     \n",
    "    production_tag = driver.find_elements(By.XPATH,'//a[@class=\"IRpwTa\"]')\n",
    "    for data in production_tag[0:100]:\n",
    "        production.append(production_tag)\n",
    "        \n",
    "    price_tag = driver.find_elements(By.XPATH,'//div[@class=\"_30jeq3\"]')\n",
    "    for data in price_tag[0:100]:\n",
    "        price.append(price_tag)\n",
    "        \n",
    "    next_button = driver.find_element(By.XPATH,'//a[@class=\"_1LKTO3\"]')\n",
    "    next_button.click()\n",
    "    time.sleep(4)"
   ]
  },
  {
   "cell_type": "code",
   "execution_count": null,
   "id": "9b2167f1",
   "metadata": {},
   "outputs": [],
   "source": [
    "df = pd.DataFrame({'Brand':brand,'Product Description':production,'Price':price})\n"
   ]
  },
  {
   "cell_type": "code",
   "execution_count": null,
   "id": "57318d29",
   "metadata": {},
   "outputs": [],
   "source": [
    "df"
   ]
  },
  {
   "cell_type": "markdown",
   "id": "d63c385c",
   "metadata": {},
   "source": [
    "Q7: Go to webpage https://www.amazon.in/ Enter “Laptop” in the search field and then click the search icon. Then \n",
    "set CPU Type filter to “Intel Core i7” as shown in the below image:\n"
   ]
  },
  {
   "cell_type": "code",
   "execution_count": null,
   "id": "0033e6f6",
   "metadata": {},
   "outputs": [],
   "source": [
    "!pip install selenium"
   ]
  },
  {
   "cell_type": "code",
   "execution_count": null,
   "id": "71f7daf8",
   "metadata": {},
   "outputs": [],
   "source": [
    "import selenium\n",
    "import pandas as pd\n",
    "from selenium import webdriver\n",
    "import warnings\n",
    "warnings.filterwarnings('ignore')\n",
    "from selenium.webdriver.common.by import By\n",
    "import time"
   ]
  },
  {
   "cell_type": "code",
   "execution_count": null,
   "id": "7121043a",
   "metadata": {},
   "outputs": [],
   "source": [
    "driver = webdriver.Chrome(r\"chromerdriver.exe\")"
   ]
  },
  {
   "cell_type": "code",
   "execution_count": null,
   "id": "24ff5420",
   "metadata": {},
   "outputs": [],
   "source": [
    "\n",
    "driver.get(\"https://www.amazon.in/\")"
   ]
  },
  {
   "cell_type": "code",
   "execution_count": null,
   "id": "0f7ee7af",
   "metadata": {},
   "outputs": [],
   "source": [
    "search = driver.find_element(By.XPATH,\"/html/body/div[1]/header/div/div[1]/div[2]/div/form/div[2]/div[1]/input\")\n",
    "search.send_keys('Laptop')\n"
   ]
  },
  {
   "cell_type": "code",
   "execution_count": null,
   "id": "fe89e0c4",
   "metadata": {},
   "outputs": [],
   "source": [
    "button = driver.find_element(By.XPATH,\"/html/body/div[1]/header/div/div[1]/div[2]/div/form/div[3]/div/span/input\")\n",
    "button.click()"
   ]
  },
  {
   "cell_type": "code",
   "execution_count": null,
   "id": "acac648c",
   "metadata": {},
   "outputs": [],
   "source": [
    "cpu = driver.find_element(By.XPATH,\"/html/body/div[1]/div[2]/div[1]/div[2]/div/div[3]/span/div[1]/div/div/div[5]/ul[6]/li[13]\")\n",
    "cpu.click()"
   ]
  },
  {
   "cell_type": "code",
   "execution_count": null,
   "id": "9b7c7858",
   "metadata": {},
   "outputs": [],
   "source": [
    "title = []\n",
    "ratings = []\n",
    "price = []"
   ]
  },
  {
   "cell_type": "code",
   "execution_count": null,
   "id": "ae25fbf8",
   "metadata": {},
   "outputs": [],
   "source": [
    "title_tags = driver.find_elements(By.XPATH,'//span[@class=\"a-size-medium a-color-base a-text-normal\"]')\n",
    "for data in title_tags[0:10]:\n",
    "    title = data.text\n",
    "    job_title.append(title)\n",
    "\n",
    "ratings_tags = driver.find_elements(By.XPATH,'//i[@class=\"a-icon a-icon-star-small a-star-small-4 aok-align-bottom\"]')\n",
    "for data in ratings_tags[0:10]:\n",
    "    location = data.text\n",
    "    job_location.append(location)\n",
    "    \n",
    "price_tags = driver.find_elements(By.XPATH,'//span[@class=\"a-price-whole\"]')\n",
    "for data in price_tags[0:10]:\n",
    "    price_tags = data.text\n",
    "    price.append(price_tags)"
   ]
  },
  {
   "cell_type": "code",
   "execution_count": null,
   "id": "d146f16e",
   "metadata": {},
   "outputs": [],
   "source": [
    "df = pd.DataFrame({'TITLE':title,'Ratings':rating,'Price':price})\n",
    "df"
   ]
  },
  {
   "cell_type": "markdown",
   "id": "0ae0c489",
   "metadata": {},
   "source": [
    "Q8: Write a python program to scrape data for Top 1000 Quotes of All Time.\n",
    "The above task will be done in following steps:"
   ]
  },
  {
   "cell_type": "code",
   "execution_count": null,
   "id": "255f007c",
   "metadata": {},
   "outputs": [],
   "source": [
    "driver = webdriver.Chrome(r\"chromerdriver.exe\")"
   ]
  },
  {
   "cell_type": "code",
   "execution_count": 1,
   "id": "0dad7a30",
   "metadata": {},
   "outputs": [
    {
     "ename": "NameError",
     "evalue": "name 'driver' is not defined",
     "output_type": "error",
     "traceback": [
      "\u001b[1;31m---------------------------------------------------------------------------\u001b[0m",
      "\u001b[1;31mNameError\u001b[0m                                 Traceback (most recent call last)",
      "\u001b[1;32m<ipython-input-1-aeb6c0307f9a>\u001b[0m in \u001b[0;36m<module>\u001b[1;34m\u001b[0m\n\u001b[1;32m----> 1\u001b[1;33m \u001b[0mdriver\u001b[0m\u001b[1;33m.\u001b[0m\u001b[0mget\u001b[0m\u001b[1;33m(\u001b[0m\u001b[1;34m\"https://www.azquotes.com/\"\u001b[0m\u001b[1;33m)\u001b[0m\u001b[1;33m\u001b[0m\u001b[1;33m\u001b[0m\u001b[0m\n\u001b[0m",
      "\u001b[1;31mNameError\u001b[0m: name 'driver' is not defined"
     ]
    }
   ],
   "source": [
    "driver.get(\"https://www.azquotes.com/\")"
   ]
  },
  {
   "cell_type": "code",
   "execution_count": null,
   "id": "ea4fe057",
   "metadata": {},
   "outputs": [],
   "source": [
    "top = driver.find_element(By.CLASS_NAME,\"mainmenu\")\n",
    "top.send_keys('Top Quotes')\n",
    "top.click()\n"
   ]
  },
  {
   "cell_type": "code",
   "execution_count": null,
   "id": "7e025b6e",
   "metadata": {},
   "outputs": [],
   "source": [
    "quote= []\n",
    "author = []\n",
    "quote_type = []"
   ]
  },
  {
   "cell_type": "code",
   "execution_count": null,
   "id": "1fb9e23b",
   "metadata": {},
   "outputs": [],
   "source": [
    "start = 0\n",
    "end = 10\n",
    "for page in range(start,end):\n",
    "    quote_tag = driver.find_elements(By.XPATH,'//a[@class=\"title\"]')\n",
    "    for data in quote_tag[0:1000]:\n",
    "        quote.append(quote_tag)\n",
    "     \n",
    "    author_tag = driver.find_elements(By.XPATH,'//div[@class=\"author\"]')\n",
    "    for data in author_tag[0:1000]:\n",
    "        author.append(author_tag)\n",
    "        \n",
    "    type_tag = driver.find_elements(By.XPATH,'//div[@class=\"tags\"]')\n",
    "    for data in type_tag[0:1000]:\n",
    "        quote_type.append(type_tag)\n",
    "        \n",
    "    next_button = driver.find_element(By.XPATH,'//li[@class=\"next\"]')\n",
    "    next_button.click()\n",
    "    time.sleep(4)"
   ]
  },
  {
   "cell_type": "code",
   "execution_count": null,
   "id": "c4183b9a",
   "metadata": {},
   "outputs": [],
   "source": [
    "df = pd.DataFrame({'Quote':quote,'Author':author,'Type':quote_type})\n",
    "df"
   ]
  },
  {
   "cell_type": "markdown",
   "id": "e740546f",
   "metadata": {},
   "source": [
    "9. Write a python program to display list of respected former Prime Ministers of India(i.e. Name, Born-Dead, \n",
    "Term of office, Remarks) from https://www.jagranjosh.com/."
   ]
  },
  {
   "cell_type": "code",
   "execution_count": null,
   "id": "db2c74e3",
   "metadata": {},
   "outputs": [],
   "source": [
    "driver = webdriver.Chrome(r\"chromerdriver.exe\")"
   ]
  },
  {
   "cell_type": "code",
   "execution_count": null,
   "id": "50479469",
   "metadata": {},
   "outputs": [],
   "source": [
    "driver.get(\"https://www.jagranjosh.com/\")"
   ]
  },
  {
   "cell_type": "code",
   "execution_count": null,
   "id": "650c9fcd",
   "metadata": {},
   "outputs": [],
   "source": [
    "gk = driver.find_element(By.CLASS_NAME,\"hashtag\")\n",
    "gk.keys('Gk')"
   ]
  },
  {
   "cell_type": "code",
   "execution_count": null,
   "id": "741434ec",
   "metadata": {},
   "outputs": [],
   "source": []
  },
  {
   "cell_type": "code",
   "execution_count": null,
   "id": "b18e2d18",
   "metadata": {},
   "outputs": [],
   "source": []
  },
  {
   "cell_type": "code",
   "execution_count": null,
   "id": "75934f1f",
   "metadata": {},
   "outputs": [],
   "source": []
  },
  {
   "cell_type": "code",
   "execution_count": null,
   "id": "d2dc1694",
   "metadata": {},
   "outputs": [],
   "source": []
  },
  {
   "cell_type": "markdown",
   "id": "eae7e7e4",
   "metadata": {},
   "source": [
    "10. Q10: Write a python program to display list of 50 Most expensive cars in the world (i.e. \n",
    "Car name and Price) from https://www.motor1.com/"
   ]
  },
  {
   "cell_type": "code",
   "execution_count": null,
   "id": "2274a38c",
   "metadata": {},
   "outputs": [],
   "source": [
    "driver = webdriver.Chrome(r\"chromerdriver.exe\")"
   ]
  },
  {
   "cell_type": "code",
   "execution_count": null,
   "id": "eafe9f8c",
   "metadata": {},
   "outputs": [],
   "source": [
    "driver.get(\"https://www.motor1.com/\")"
   ]
  },
  {
   "cell_type": "code",
   "execution_count": null,
   "id": "32766942",
   "metadata": {},
   "outputs": [],
   "source": []
  },
  {
   "cell_type": "code",
   "execution_count": null,
   "id": "d29d82dc",
   "metadata": {},
   "outputs": [],
   "source": []
  },
  {
   "cell_type": "code",
   "execution_count": null,
   "id": "222374ff",
   "metadata": {},
   "outputs": [],
   "source": []
  },
  {
   "cell_type": "code",
   "execution_count": null,
   "id": "d99012d1",
   "metadata": {},
   "outputs": [],
   "source": []
  }
 ],
 "metadata": {
  "kernelspec": {
   "display_name": "Python 3",
   "language": "python",
   "name": "python3"
  },
  "language_info": {
   "codemirror_mode": {
    "name": "ipython",
    "version": 3
   },
   "file_extension": ".py",
   "mimetype": "text/x-python",
   "name": "python",
   "nbconvert_exporter": "python",
   "pygments_lexer": "ipython3",
   "version": "3.8.8"
  }
 },
 "nbformat": 4,
 "nbformat_minor": 5
}
