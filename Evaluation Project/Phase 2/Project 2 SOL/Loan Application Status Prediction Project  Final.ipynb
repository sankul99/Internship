{
 "cells": [
  {
   "cell_type": "markdown",
   "id": "c04b871e",
   "metadata": {},
   "source": [
    "<br><font face = \"Times New Roman\" size = \"4\"> <b>Name: Sankul Pandey  DS0722\n",
    "<br><font face = \"Times New Roman\" size = \"4\"> <b>Email: sankul99@gmail.com\n",
    "    \n",
    "    \n",
    "    \n",
    "    \n",
    "    \n",
    "\n",
    "\n",
    "<br><font face = \"Muller Text\" size = \"8\"> <b> Loan Application Status Prediction \n",
    "    \n",
    "    \n",
    "    \n",
    "    \n",
    "\n",
    "<br><font face = \"TImes New Roman\" size = \"5\"> <b> Problem Statement"
   ]
  },
  {
   "cell_type": "markdown",
   "id": "ce618ece",
   "metadata": {},
   "source": [
    "\n",
    "<br><font face = \"TImes New Roman\" size = \"4\"> <b> Description"
   ]
  },
  {
   "cell_type": "markdown",
   "id": "42b6c096",
   "metadata": {},
   "source": [
    "This dataset includes details of applicants who have applied for loan. The dataset includes \n",
    "details like credit history, loan amount, their income, dependents etc. \n",
    "\n",
    "Independent Variables:\n",
    "\n",
    "1. Loan_ID - This refer to the unique identifier of the applicant's affirmed purchases\n",
    "\n",
    "2. Gender - This refers to either of the two main categories (male and female) into which \n",
    "applicants are divided on the basis of their reproductive functions\n",
    "3. Married - This refers to applicant being in a state of matrimony\n",
    "4. Dependents - This refres to persons who depends on the applicants for survival\n",
    "5. Education - This refers to number of years in which applicant received systematic \n",
    "instruction, especially at a school or university\n",
    "6. Self_Employed - This refers to applicant working for oneself as a freelancer or the owner \n",
    "of a business rather than for an employer\n",
    "7. Applicant Income - This refers to disposable income available for the applicant's use \n",
    "under State law.\n",
    "8. CoapplicantIncome - This refers to disposable income available for the people that \n",
    "participate in the loan application process alongside the main applicant use under State \n",
    "law.\n",
    "9. Loan_Amount - This refers to the amount of money an applicant owe at any given time.\n",
    "10. Loan_Amount_Term - This refers to the duaration in which the loan is availed to the \n",
    "applicant\n",
    "11. Credit History - This refers to a record of applicant's ability to repay debts and \n",
    "demonstrated responsibility in repaying them.\n",
    "12. Property_Area - This refers to the total area within the boundaries of the property as set \n",
    "out in Schedule.\n",
    "13. Loan_Status - This refres to whether applicant is eligible to be availed the Loan \n",
    "requested.\n",
    "You have to build a model that can predict whether the loan of the applicant will be \n",
    "approved(Loan_status) or not on the basis of the details provided in the dataset"
   ]
  },
  {
   "cell_type": "markdown",
   "id": "22586372",
   "metadata": {},
   "source": [
    "<br><font face = \"TImes New Roman\" size = \"4\"> <b> Dataset Link"
   ]
  },
  {
   "cell_type": "markdown",
   "id": "89f8b1b1",
   "metadata": {},
   "source": [
    "https://github.com/dsrscientist/DSData/blob/master/loan_prediction.csv"
   ]
  },
  {
   "cell_type": "markdown",
   "id": "9286342b",
   "metadata": {},
   "source": [
    "# 1) Necessary Libraries "
   ]
  },
  {
   "cell_type": "code",
   "execution_count": 1,
   "id": "1b5985c0",
   "metadata": {},
   "outputs": [],
   "source": [
    "import numpy as np\n",
    "import pandas as pd\n",
    "import matplotlib.pyplot as plt\n",
    "import seaborn as sns\n",
    "import plotly.express as px\n",
    "\n",
    "import warnings\n",
    "warnings.filterwarnings('ignore')"
   ]
  },
  {
   "cell_type": "markdown",
   "id": "aa4acab0",
   "metadata": {},
   "source": [
    "# 2) Importing Data "
   ]
  },
  {
   "cell_type": "code",
   "execution_count": 2,
   "id": "e3e21ea2",
   "metadata": {},
   "outputs": [],
   "source": [
    "df=pd.read_csv('https://raw.githubusercontent.com/dsrscientist/DSData/master/loan_prediction.csv')"
   ]
  },
  {
   "cell_type": "code",
   "execution_count": 3,
   "id": "003eb5c4",
   "metadata": {},
   "outputs": [
    {
     "data": {
      "text/html": [
       "<div>\n",
       "<style scoped>\n",
       "    .dataframe tbody tr th:only-of-type {\n",
       "        vertical-align: middle;\n",
       "    }\n",
       "\n",
       "    .dataframe tbody tr th {\n",
       "        vertical-align: top;\n",
       "    }\n",
       "\n",
       "    .dataframe thead th {\n",
       "        text-align: right;\n",
       "    }\n",
       "</style>\n",
       "<table border=\"1\" class=\"dataframe\">\n",
       "  <thead>\n",
       "    <tr style=\"text-align: right;\">\n",
       "      <th></th>\n",
       "      <th>Loan_ID</th>\n",
       "      <th>Gender</th>\n",
       "      <th>Married</th>\n",
       "      <th>Dependents</th>\n",
       "      <th>Education</th>\n",
       "      <th>Self_Employed</th>\n",
       "      <th>ApplicantIncome</th>\n",
       "      <th>CoapplicantIncome</th>\n",
       "      <th>LoanAmount</th>\n",
       "      <th>Loan_Amount_Term</th>\n",
       "      <th>Credit_History</th>\n",
       "      <th>Property_Area</th>\n",
       "      <th>Loan_Status</th>\n",
       "    </tr>\n",
       "  </thead>\n",
       "  <tbody>\n",
       "    <tr>\n",
       "      <th>0</th>\n",
       "      <td>LP001002</td>\n",
       "      <td>Male</td>\n",
       "      <td>No</td>\n",
       "      <td>0</td>\n",
       "      <td>Graduate</td>\n",
       "      <td>No</td>\n",
       "      <td>5849</td>\n",
       "      <td>0.0</td>\n",
       "      <td>NaN</td>\n",
       "      <td>360.0</td>\n",
       "      <td>1.0</td>\n",
       "      <td>Urban</td>\n",
       "      <td>Y</td>\n",
       "    </tr>\n",
       "    <tr>\n",
       "      <th>1</th>\n",
       "      <td>LP001003</td>\n",
       "      <td>Male</td>\n",
       "      <td>Yes</td>\n",
       "      <td>1</td>\n",
       "      <td>Graduate</td>\n",
       "      <td>No</td>\n",
       "      <td>4583</td>\n",
       "      <td>1508.0</td>\n",
       "      <td>128.0</td>\n",
       "      <td>360.0</td>\n",
       "      <td>1.0</td>\n",
       "      <td>Rural</td>\n",
       "      <td>N</td>\n",
       "    </tr>\n",
       "    <tr>\n",
       "      <th>2</th>\n",
       "      <td>LP001005</td>\n",
       "      <td>Male</td>\n",
       "      <td>Yes</td>\n",
       "      <td>0</td>\n",
       "      <td>Graduate</td>\n",
       "      <td>Yes</td>\n",
       "      <td>3000</td>\n",
       "      <td>0.0</td>\n",
       "      <td>66.0</td>\n",
       "      <td>360.0</td>\n",
       "      <td>1.0</td>\n",
       "      <td>Urban</td>\n",
       "      <td>Y</td>\n",
       "    </tr>\n",
       "    <tr>\n",
       "      <th>3</th>\n",
       "      <td>LP001006</td>\n",
       "      <td>Male</td>\n",
       "      <td>Yes</td>\n",
       "      <td>0</td>\n",
       "      <td>Not Graduate</td>\n",
       "      <td>No</td>\n",
       "      <td>2583</td>\n",
       "      <td>2358.0</td>\n",
       "      <td>120.0</td>\n",
       "      <td>360.0</td>\n",
       "      <td>1.0</td>\n",
       "      <td>Urban</td>\n",
       "      <td>Y</td>\n",
       "    </tr>\n",
       "    <tr>\n",
       "      <th>4</th>\n",
       "      <td>LP001008</td>\n",
       "      <td>Male</td>\n",
       "      <td>No</td>\n",
       "      <td>0</td>\n",
       "      <td>Graduate</td>\n",
       "      <td>No</td>\n",
       "      <td>6000</td>\n",
       "      <td>0.0</td>\n",
       "      <td>141.0</td>\n",
       "      <td>360.0</td>\n",
       "      <td>1.0</td>\n",
       "      <td>Urban</td>\n",
       "      <td>Y</td>\n",
       "    </tr>\n",
       "  </tbody>\n",
       "</table>\n",
       "</div>"
      ],
      "text/plain": [
       "    Loan_ID Gender Married Dependents     Education Self_Employed  \\\n",
       "0  LP001002   Male      No          0      Graduate            No   \n",
       "1  LP001003   Male     Yes          1      Graduate            No   \n",
       "2  LP001005   Male     Yes          0      Graduate           Yes   \n",
       "3  LP001006   Male     Yes          0  Not Graduate            No   \n",
       "4  LP001008   Male      No          0      Graduate            No   \n",
       "\n",
       "   ApplicantIncome  CoapplicantIncome  LoanAmount  Loan_Amount_Term  \\\n",
       "0             5849                0.0         NaN             360.0   \n",
       "1             4583             1508.0       128.0             360.0   \n",
       "2             3000                0.0        66.0             360.0   \n",
       "3             2583             2358.0       120.0             360.0   \n",
       "4             6000                0.0       141.0             360.0   \n",
       "\n",
       "   Credit_History Property_Area Loan_Status  \n",
       "0             1.0         Urban           Y  \n",
       "1             1.0         Rural           N  \n",
       "2             1.0         Urban           Y  \n",
       "3             1.0         Urban           Y  \n",
       "4             1.0         Urban           Y  "
      ]
     },
     "execution_count": 3,
     "metadata": {},
     "output_type": "execute_result"
    }
   ],
   "source": [
    "df.head()"
   ]
  },
  {
   "cell_type": "markdown",
   "id": "d6b20d35",
   "metadata": {},
   "source": [
    "# 3) Checking Columns, Datatypes and Shapes"
   ]
  },
  {
   "cell_type": "code",
   "execution_count": 4,
   "id": "5b919998",
   "metadata": {},
   "outputs": [
    {
     "data": {
      "text/plain": [
       "Index(['Loan_ID', 'Gender', 'Married', 'Dependents', 'Education',\n",
       "       'Self_Employed', 'ApplicantIncome', 'CoapplicantIncome', 'LoanAmount',\n",
       "       'Loan_Amount_Term', 'Credit_History', 'Property_Area', 'Loan_Status'],\n",
       "      dtype='object')"
      ]
     },
     "execution_count": 4,
     "metadata": {},
     "output_type": "execute_result"
    }
   ],
   "source": [
    "df.columns"
   ]
  },
  {
   "cell_type": "code",
   "execution_count": 5,
   "id": "bec51e5c",
   "metadata": {},
   "outputs": [
    {
     "data": {
      "text/plain": [
       "Loan_ID               object\n",
       "Gender                object\n",
       "Married               object\n",
       "Dependents            object\n",
       "Education             object\n",
       "Self_Employed         object\n",
       "ApplicantIncome        int64\n",
       "CoapplicantIncome    float64\n",
       "LoanAmount           float64\n",
       "Loan_Amount_Term     float64\n",
       "Credit_History       float64\n",
       "Property_Area         object\n",
       "Loan_Status           object\n",
       "dtype: object"
      ]
     },
     "execution_count": 5,
     "metadata": {},
     "output_type": "execute_result"
    }
   ],
   "source": [
    "df.dtypes"
   ]
  },
  {
   "cell_type": "markdown",
   "id": "a7b717a6",
   "metadata": {},
   "source": [
    "We can observe from the above that the particular dataset has majority of the data in the form of objects and float64. \n",
    "One particular column has integer values. "
   ]
  },
  {
   "cell_type": "code",
   "execution_count": 6,
   "id": "8e0f8896",
   "metadata": {},
   "outputs": [
    {
     "data": {
      "text/plain": [
       "(614, 13)"
      ]
     },
     "execution_count": 6,
     "metadata": {},
     "output_type": "execute_result"
    }
   ],
   "source": [
    "df.shape"
   ]
  },
  {
   "cell_type": "markdown",
   "id": "422b1866",
   "metadata": {},
   "source": [
    "# 4) Checking For Empty Spaces and Null Values "
   ]
  },
  {
   "cell_type": "code",
   "execution_count": 7,
   "id": "ce562273",
   "metadata": {},
   "outputs": [
    {
     "name": "stdout",
     "output_type": "stream",
     "text": [
      "Empty DataFrame\n",
      "Columns: [Loan_ID, Gender, Married, Dependents, Education, Self_Employed, ApplicantIncome, CoapplicantIncome, LoanAmount, Loan_Amount_Term, Credit_History, Property_Area, Loan_Status]\n",
      "Index: []\n",
      "Empty DataFrame\n",
      "Columns: [Loan_ID, Gender, Married, Dependents, Education, Self_Employed, ApplicantIncome, CoapplicantIncome, LoanAmount, Loan_Amount_Term, Credit_History, Property_Area, Loan_Status]\n",
      "Index: []\n",
      "Empty DataFrame\n",
      "Columns: [Loan_ID, Gender, Married, Dependents, Education, Self_Employed, ApplicantIncome, CoapplicantIncome, LoanAmount, Loan_Amount_Term, Credit_History, Property_Area, Loan_Status]\n",
      "Index: []\n",
      "Empty DataFrame\n",
      "Columns: [Loan_ID, Gender, Married, Dependents, Education, Self_Employed, ApplicantIncome, CoapplicantIncome, LoanAmount, Loan_Amount_Term, Credit_History, Property_Area, Loan_Status]\n",
      "Index: []\n",
      "Empty DataFrame\n",
      "Columns: [Loan_ID, Gender, Married, Dependents, Education, Self_Employed, ApplicantIncome, CoapplicantIncome, LoanAmount, Loan_Amount_Term, Credit_History, Property_Area, Loan_Status]\n",
      "Index: []\n",
      "Empty DataFrame\n",
      "Columns: [Loan_ID, Gender, Married, Dependents, Education, Self_Employed, ApplicantIncome, CoapplicantIncome, LoanAmount, Loan_Amount_Term, Credit_History, Property_Area, Loan_Status]\n",
      "Index: []\n",
      "Empty DataFrame\n",
      "Columns: [Loan_ID, Gender, Married, Dependents, Education, Self_Employed, ApplicantIncome, CoapplicantIncome, LoanAmount, Loan_Amount_Term, Credit_History, Property_Area, Loan_Status]\n",
      "Index: []\n",
      "Empty DataFrame\n",
      "Columns: [Loan_ID, Gender, Married, Dependents, Education, Self_Employed, ApplicantIncome, CoapplicantIncome, LoanAmount, Loan_Amount_Term, Credit_History, Property_Area, Loan_Status]\n",
      "Index: []\n",
      "Empty DataFrame\n",
      "Columns: [Loan_ID, Gender, Married, Dependents, Education, Self_Employed, ApplicantIncome, CoapplicantIncome, LoanAmount, Loan_Amount_Term, Credit_History, Property_Area, Loan_Status]\n",
      "Index: []\n",
      "Empty DataFrame\n",
      "Columns: [Loan_ID, Gender, Married, Dependents, Education, Self_Employed, ApplicantIncome, CoapplicantIncome, LoanAmount, Loan_Amount_Term, Credit_History, Property_Area, Loan_Status]\n",
      "Index: []\n",
      "Empty DataFrame\n",
      "Columns: [Loan_ID, Gender, Married, Dependents, Education, Self_Employed, ApplicantIncome, CoapplicantIncome, LoanAmount, Loan_Amount_Term, Credit_History, Property_Area, Loan_Status]\n",
      "Index: []\n",
      "Empty DataFrame\n",
      "Columns: [Loan_ID, Gender, Married, Dependents, Education, Self_Employed, ApplicantIncome, CoapplicantIncome, LoanAmount, Loan_Amount_Term, Credit_History, Property_Area, Loan_Status]\n",
      "Index: []\n",
      "Empty DataFrame\n",
      "Columns: [Loan_ID, Gender, Married, Dependents, Education, Self_Employed, ApplicantIncome, CoapplicantIncome, LoanAmount, Loan_Amount_Term, Credit_History, Property_Area, Loan_Status]\n",
      "Index: []\n"
     ]
    }
   ],
   "source": [
    "for x in df.columns:\n",
    "    print(df.loc[df[x]==\" \"])"
   ]
  },
  {
   "cell_type": "code",
   "execution_count": 8,
   "id": "438c7c2b",
   "metadata": {},
   "outputs": [
    {
     "data": {
      "text/plain": [
       "Loan_ID               0\n",
       "Gender               13\n",
       "Married               3\n",
       "Dependents           15\n",
       "Education             0\n",
       "Self_Employed        32\n",
       "ApplicantIncome       0\n",
       "CoapplicantIncome     0\n",
       "LoanAmount           22\n",
       "Loan_Amount_Term     14\n",
       "Credit_History       50\n",
       "Property_Area         0\n",
       "Loan_Status           0\n",
       "dtype: int64"
      ]
     },
     "execution_count": 8,
     "metadata": {},
     "output_type": "execute_result"
    }
   ],
   "source": [
    "df.isnull().sum()"
   ]
  },
  {
   "cell_type": "code",
   "execution_count": 9,
   "id": "b4f6d472",
   "metadata": {},
   "outputs": [
    {
     "data": {
      "text/plain": [
       "<AxesSubplot:>"
      ]
     },
     "execution_count": 9,
     "metadata": {},
     "output_type": "execute_result"
    },
    {
     "data": {
      "image/png": "[encoded data removed]",
      "text/plain": [
       "<Figure size 648x576 with 2 Axes>"
      ]
     },
     "metadata": {
      "needs_background": "light"
     },
     "output_type": "display_data"
    }
   ],
   "source": [
    "plt.figure(figsize=(9,8))\n",
    "sns.heatmap(df.isnull(),cmap='Greens')"
   ]
  },
  {
   "cell_type": "markdown",
   "id": "ee80cbee",
   "metadata": {},
   "source": [
    "After going through the steps from above we have come to this conclusion that the dataset clearly has some null values. We can deal with the null values in two ways\n",
    "\n",
    "1. We can either remove or drop these null values from the dataset \n",
    "2. We can use an imputer and impute data. This will fill the data that has null values using some techniques. "
   ]
  },
  {
   "cell_type": "markdown",
   "id": "96610981",
   "metadata": {},
   "source": [
    "# 5) Imputing The Null Values In The Dataset "
   ]
  },
  {
   "cell_type": "code",
   "execution_count": 10,
   "id": "2b10697c",
   "metadata": {},
   "outputs": [],
   "source": [
    "from sklearn.impute import SimpleImputer"
   ]
  },
  {
   "cell_type": "code",
   "execution_count": 11,
   "id": "e5f4171c",
   "metadata": {},
   "outputs": [],
   "source": [
    "impute_int=SimpleImputer(strategy='mean')\n",
    "impute_object=SimpleImputer(strategy='most_frequent')"
   ]
  },
  {
   "cell_type": "code",
   "execution_count": 12,
   "id": "c0455446",
   "metadata": {},
   "outputs": [],
   "source": [
    "list_int=['LoanAmount','Loan_Amount_Term']\n",
    "list_object=['Gender','Married','Dependents','Self_Employed','Credit_History']"
   ]
  },
  {
   "cell_type": "code",
   "execution_count": 13,
   "id": "1cb006d0",
   "metadata": {},
   "outputs": [],
   "source": [
    "for i in list_int:\n",
    "    df[i]=impute_int.fit_transform(df[i].values.reshape(-1,1))\n",
    "for i in list_object:\n",
    "    df[i]=impute_object.fit_transform(df[i].values.reshape(-1,1))"
   ]
  },
  {
   "cell_type": "code",
   "execution_count": 14,
   "id": "7434e3aa",
   "metadata": {},
   "outputs": [
    {
     "data": {
      "text/plain": [
       "<AxesSubplot:>"
      ]
     },
     "execution_count": 14,
     "metadata": {},
     "output_type": "execute_result"
    },
    {
     "data": {
      "image/png": "[encoded data removed]",
      "text/plain": [
       "<Figure size 648x576 with 2 Axes>"
      ]
     },
     "metadata": {
      "needs_background": "light"
     },
     "output_type": "display_data"
    }
   ],
   "source": [
    "#Now checking if the null values are removed or not using a heatmap again\n",
    "\n",
    "plt.figure(figsize=(9,8))\n",
    "sns.heatmap(df.isnull(),cmap='Greens')"
   ]
  },
  {
   "cell_type": "markdown",
   "id": "7d02d6a7",
   "metadata": {},
   "source": [
    "We can see from the above heatmap that all the possible null values have been removed"
   ]
  },
  {
   "cell_type": "markdown",
   "id": "e3f3b111",
   "metadata": {},
   "source": [
    "# 6) Checking Uniques & Duplicates "
   ]
  },
  {
   "cell_type": "code",
   "execution_count": 15,
   "id": "f01670df",
   "metadata": {},
   "outputs": [
    {
     "name": "stdout",
     "output_type": "stream",
     "text": [
      "<class 'pandas.core.frame.DataFrame'>\n",
      "RangeIndex: 614 entries, 0 to 613\n",
      "Data columns (total 13 columns):\n",
      " #   Column             Non-Null Count  Dtype  \n",
      "---  ------             --------------  -----  \n",
      " 0   Loan_ID            614 non-null    object \n",
      " 1   Gender             614 non-null    object \n",
      " 2   Married            614 non-null    object \n",
      " 3   Dependents         614 non-null    object \n",
      " 4   Education          614 non-null    object \n",
      " 5   Self_Employed      614 non-null    object \n",
      " 6   ApplicantIncome    614 non-null    int64  \n",
      " 7   CoapplicantIncome  614 non-null    float64\n",
      " 8   LoanAmount         614 non-null    float64\n",
      " 9   Loan_Amount_Term   614 non-null    float64\n",
      " 10  Credit_History     614 non-null    float64\n",
      " 11  Property_Area      614 non-null    object \n",
      " 12  Loan_Status        614 non-null    object \n",
      "dtypes: float64(4), int64(1), object(8)\n",
      "memory usage: 62.5+ KB\n"
     ]
    }
   ],
   "source": [
    "df.info()"
   ]
  },
  {
   "cell_type": "code",
   "execution_count": 16,
   "id": "7c2aceb3",
   "metadata": {},
   "outputs": [
    {
     "name": "stdout",
     "output_type": "stream",
     "text": [
      "All the Duplicate Rows are: \n"
     ]
    },
    {
     "data": {
      "text/html": [
       "<div>\n",
       "<style scoped>\n",
       "    .dataframe tbody tr th:only-of-type {\n",
       "        vertical-align: middle;\n",
       "    }\n",
       "\n",
       "    .dataframe tbody tr th {\n",
       "        vertical-align: top;\n",
       "    }\n",
       "\n",
       "    .dataframe thead th {\n",
       "        text-align: right;\n",
       "    }\n",
       "</style>\n",
       "<table border=\"1\" class=\"dataframe\">\n",
       "  <thead>\n",
       "    <tr style=\"text-align: right;\">\n",
       "      <th></th>\n",
       "      <th>Loan_ID</th>\n",
       "      <th>Gender</th>\n",
       "      <th>Married</th>\n",
       "      <th>Dependents</th>\n",
       "      <th>Education</th>\n",
       "      <th>Self_Employed</th>\n",
       "      <th>ApplicantIncome</th>\n",
       "      <th>CoapplicantIncome</th>\n",
       "      <th>LoanAmount</th>\n",
       "      <th>Loan_Amount_Term</th>\n",
       "      <th>Credit_History</th>\n",
       "      <th>Property_Area</th>\n",
       "      <th>Loan_Status</th>\n",
       "    </tr>\n",
       "  </thead>\n",
       "  <tbody>\n",
       "  </tbody>\n",
       "</table>\n",
       "</div>"
      ],
      "text/plain": [
       "Empty DataFrame\n",
       "Columns: [Loan_ID, Gender, Married, Dependents, Education, Self_Employed, ApplicantIncome, CoapplicantIncome, LoanAmount, Loan_Amount_Term, Credit_History, Property_Area, Loan_Status]\n",
       "Index: []"
      ]
     },
     "execution_count": 16,
     "metadata": {},
     "output_type": "execute_result"
    }
   ],
   "source": [
    "dupli = df[df.duplicated()]\n",
    "print(\"All the Duplicate Rows are: \")\n",
    "\n",
    "dupli"
   ]
  },
  {
   "cell_type": "code",
   "execution_count": 17,
   "id": "a8ea33fa",
   "metadata": {},
   "outputs": [
    {
     "data": {
      "text/plain": [
       "Loan_ID              614\n",
       "Gender                 2\n",
       "Married                2\n",
       "Dependents             4\n",
       "Education              2\n",
       "Self_Employed          2\n",
       "ApplicantIncome      505\n",
       "CoapplicantIncome    287\n",
       "LoanAmount           204\n",
       "Loan_Amount_Term      11\n",
       "Credit_History         2\n",
       "Property_Area          3\n",
       "Loan_Status            2\n",
       "dtype: int64"
      ]
     },
     "execution_count": 17,
     "metadata": {},
     "output_type": "execute_result"
    }
   ],
   "source": [
    "df.nunique()"
   ]
  },
  {
   "cell_type": "markdown",
   "id": "143d8d22",
   "metadata": {},
   "source": [
    "We can observe from the above part of the analysis is that\n",
    "\n",
    "1. After using the imputer the dataset has no more null values \n",
    "2. There are no duplicate rows in this particular dataset \n",
    "3. Each column has amounts of unique values \n",
    "4. Loan_id , ApplicantIncome, CoapplicantIncome, LoanAmount have most amount of unique values present"
   ]
  },
  {
   "cell_type": "markdown",
   "id": "d157e839",
   "metadata": {},
   "source": [
    "# 7) EDA Analysis "
   ]
  },
  {
   "cell_type": "markdown",
   "id": "22879f9b",
   "metadata": {},
   "source": [
    "We will go through each column individually and perform basic visual analysis to get a better understanding of each columns and the dataset as a whole "
   ]
  },
  {
   "cell_type": "markdown",
   "id": "8ddb9254",
   "metadata": {},
   "source": [
    "### Loan_ID"
   ]
  },
  {
   "cell_type": "markdown",
   "id": "4a1f0e4a",
   "metadata": {},
   "source": [
    "Loan_ID for the dataset is the primary key of the following dataset meaning Loan_ID contains unique values that identifies each and every column that is present in the dataset. This particular column of the dataset is thus not important to our analysis and can be removed"
   ]
  },
  {
   "cell_type": "code",
   "execution_count": 18,
   "id": "24f2847c",
   "metadata": {},
   "outputs": [],
   "source": [
    "df=df.drop(['Loan_ID',],axis=1)"
   ]
  },
  {
   "cell_type": "markdown",
   "id": "6323d745",
   "metadata": {},
   "source": [
    "### Gender"
   ]
  },
  {
   "cell_type": "code",
   "execution_count": 19,
   "id": "ef009d34",
   "metadata": {},
   "outputs": [
    {
     "data": {
      "text/plain": [
       "count      614\n",
       "unique       2\n",
       "top       Male\n",
       "freq       502\n",
       "Name: Gender, dtype: object"
      ]
     },
     "execution_count": 19,
     "metadata": {},
     "output_type": "execute_result"
    }
   ],
   "source": [
    "df['Gender'].describe()"
   ]
  },
  {
   "cell_type": "code",
   "execution_count": 20,
   "id": "f595b7bd",
   "metadata": {},
   "outputs": [
    {
     "data": {
      "text/plain": [
       "0"
      ]
     },
     "execution_count": 20,
     "metadata": {},
     "output_type": "execute_result"
    }
   ],
   "source": [
    "df['Gender'].isnull().sum()"
   ]
  },
  {
   "cell_type": "code",
   "execution_count": 21,
   "id": "27da7099",
   "metadata": {},
   "outputs": [
    {
     "name": "stdout",
     "output_type": "stream",
     "text": [
      "['Male' 'Female']\n",
      "Male      502\n",
      "Female    112\n",
      "Name: Gender, dtype: int64\n"
     ]
    }
   ],
   "source": [
    "#Checking Uniques\n",
    "\n",
    "print(df['Gender'].unique())\n",
    "print(df['Gender'].value_counts())"
   ]
  },
  {
   "cell_type": "markdown",
   "id": "028a5dba",
   "metadata": {},
   "source": [
    "The Males are in the majority here compared to females"
   ]
  },
  {
   "cell_type": "code",
   "execution_count": 22,
   "id": "9c7bcc08",
   "metadata": {},
   "outputs": [
    {
     "data": {
      "image/png": "[encoded data removed]",
      "text/plain": [
       "<Figure size 432x288 with 1 Axes>"
      ]
     },
     "metadata": {
      "needs_background": "light"
     },
     "output_type": "display_data"
    }
   ],
   "source": [
    "sns.countplot('Gender',data=df,hue='Loan_Status');"
   ]
  },
  {
   "cell_type": "code",
   "execution_count": 23,
   "id": "fdcf3f7e",
   "metadata": {},
   "outputs": [
    {
     "data": {
      "image/png": "[encoded data removed]",
      "text/plain": [
       "<Figure size 432x288 with 1 Axes>"
      ]
     },
     "metadata": {},
     "output_type": "display_data"
    }
   ],
   "source": [
    "label=df['Gender'].unique()\n",
    "y=df['Gender'].value_counts()\n",
    "\n",
    "plt.title('Gender')\n",
    "plt.pie(y,labels=label,autopct='%.0f%%',shadow=True)\n",
    "plt.show()"
   ]
  },
  {
   "cell_type": "markdown",
   "id": "e24214d2",
   "metadata": {},
   "source": [
    "1. 82% are male and 18% are female \n",
    "2. Gender Data is Object type therefore we will be needing to encode the data to a form that is understandable for the Machine Learning models."
   ]
  },
  {
   "cell_type": "code",
   "execution_count": 24,
   "id": "f75d882a",
   "metadata": {},
   "outputs": [],
   "source": [
    "df['Gender']=df['Gender'].replace('Female',0)\n",
    "df['Gender']=df['Gender'].replace('Male',1)"
   ]
  },
  {
   "cell_type": "markdown",
   "id": "88807997",
   "metadata": {},
   "source": [
    "### Married "
   ]
  },
  {
   "cell_type": "code",
   "execution_count": 25,
   "id": "e4628a07",
   "metadata": {},
   "outputs": [
    {
     "data": {
      "text/plain": [
       "count     614\n",
       "unique      2\n",
       "top       Yes\n",
       "freq      401\n",
       "Name: Married, dtype: object"
      ]
     },
     "execution_count": 25,
     "metadata": {},
     "output_type": "execute_result"
    }
   ],
   "source": [
    "df['Married'].describe()"
   ]
  },
  {
   "cell_type": "code",
   "execution_count": 26,
   "id": "b45ec0a6",
   "metadata": {},
   "outputs": [
    {
     "data": {
      "text/plain": [
       "0"
      ]
     },
     "execution_count": 26,
     "metadata": {},
     "output_type": "execute_result"
    }
   ],
   "source": [
    "df['Married'].isnull().sum()"
   ]
  },
  {
   "cell_type": "code",
   "execution_count": 27,
   "id": "1494755b",
   "metadata": {},
   "outputs": [
    {
     "name": "stdout",
     "output_type": "stream",
     "text": [
      "['No' 'Yes']\n",
      "Yes    401\n",
      "No     213\n",
      "Name: Married, dtype: int64\n"
     ]
    }
   ],
   "source": [
    "print(df['Married'].unique())\n",
    "print(df['Married'].value_counts())"
   ]
  },
  {
   "cell_type": "code",
   "execution_count": 28,
   "id": "4cfd5527",
   "metadata": {},
   "outputs": [
    {
     "data": {
      "image/png": "[encoded data removed]",
      "text/plain": [
       "<Figure size 432x288 with 1 Axes>"
      ]
     },
     "metadata": {
      "needs_background": "light"
     },
     "output_type": "display_data"
    }
   ],
   "source": [
    "sns.countplot('Married',data=df,hue='Loan_Status');"
   ]
  },
  {
   "cell_type": "code",
   "execution_count": 29,
   "id": "74a65dab",
   "metadata": {},
   "outputs": [
    {
     "data": {
      "image/png": "[encoded data removed]",
      "text/plain": [
       "<Figure size 432x288 with 1 Axes>"
      ]
     },
     "metadata": {},
     "output_type": "display_data"
    }
   ],
   "source": [
    "label=df['Married'].unique()\n",
    "y=df['Married'].value_counts()\n",
    "\n",
    "plt.title('Married')\n",
    "plt.pie(y,labels=label,autopct='%.0f%%',shadow=True)\n",
    "plt.show()"
   ]
  },
  {
   "cell_type": "markdown",
   "id": "02e1370e",
   "metadata": {},
   "source": [
    "1. 65% Who are on Loan list are not married\n",
    "2. 35% are married \n",
    "3. Married column also has data type as Object so we will be needing encoding for this particular column too "
   ]
  },
  {
   "cell_type": "code",
   "execution_count": 30,
   "id": "d7d9e27c",
   "metadata": {},
   "outputs": [],
   "source": [
    "df['Married']=df['Married'].replace('No',0)\n",
    "df['Married']=df['Married'].replace('Yes',1)"
   ]
  },
  {
   "cell_type": "markdown",
   "id": "7271e039",
   "metadata": {},
   "source": [
    "### Dependents "
   ]
  },
  {
   "cell_type": "code",
   "execution_count": 31,
   "id": "ddf1376c",
   "metadata": {},
   "outputs": [
    {
     "data": {
      "text/plain": [
       "count     614\n",
       "unique      4\n",
       "top         0\n",
       "freq      360\n",
       "Name: Dependents, dtype: object"
      ]
     },
     "execution_count": 31,
     "metadata": {},
     "output_type": "execute_result"
    }
   ],
   "source": [
    "df['Dependents'].describe()"
   ]
  },
  {
   "cell_type": "code",
   "execution_count": 32,
   "id": "f5072e84",
   "metadata": {},
   "outputs": [
    {
     "data": {
      "text/plain": [
       "0"
      ]
     },
     "execution_count": 32,
     "metadata": {},
     "output_type": "execute_result"
    }
   ],
   "source": [
    "df['Dependents'].isnull().sum() "
   ]
  },
  {
   "cell_type": "code",
   "execution_count": 33,
   "id": "332d123d",
   "metadata": {},
   "outputs": [
    {
     "name": "stdout",
     "output_type": "stream",
     "text": [
      "['0' '1' '2' '3+']\n",
      "0     360\n",
      "1     102\n",
      "2     101\n",
      "3+     51\n",
      "Name: Dependents, dtype: int64\n"
     ]
    }
   ],
   "source": [
    "print(df['Dependents'].unique())\n",
    "print(df['Dependents'].value_counts())"
   ]
  },
  {
   "cell_type": "code",
   "execution_count": 34,
   "id": "84bdcec7",
   "metadata": {},
   "outputs": [
    {
     "data": {
      "image/png": "[encoded data removed]",
      "text/plain": [
       "<Figure size 432x288 with 1 Axes>"
      ]
     },
     "metadata": {
      "needs_background": "light"
     },
     "output_type": "display_data"
    }
   ],
   "source": [
    "sns.countplot('Dependents',data=df,hue='Loan_Status');"
   ]
  },
  {
   "cell_type": "code",
   "execution_count": 35,
   "id": "8cb2f3b3",
   "metadata": {},
   "outputs": [
    {
     "data": {
      "image/png": "[encoded data removed]",
      "text/plain": [
       "<Figure size 432x288 with 1 Axes>"
      ]
     },
     "metadata": {},
     "output_type": "display_data"
    }
   ],
   "source": [
    "label=df['Dependents'].unique()\n",
    "y=df['Dependents'].value_counts()\n",
    "\n",
    "plt.title('Dependents')\n",
    "plt.pie(y,labels=label,autopct='%.0f%%',shadow=True)\n",
    "plt.show()"
   ]
  },
  {
   "cell_type": "markdown",
   "id": "6aff1aba",
   "metadata": {},
   "source": [
    "1. 59% 0 Dependents\n",
    "2. 17% 1 Dependent\n",
    "3. 16% 2 Dependents\n",
    "4. 8% 3 or more Dependents\n",
    "5. We can see in the unique value for this particular column that the a certain series is being followed so we can undergo Label encoding here instead of the basic encoding technique"
   ]
  },
  {
   "cell_type": "code",
   "execution_count": 36,
   "id": "f60bbe10",
   "metadata": {},
   "outputs": [],
   "source": [
    "from sklearn.preprocessing import LabelEncoder"
   ]
  },
  {
   "cell_type": "code",
   "execution_count": 37,
   "id": "c9f43eb8",
   "metadata": {},
   "outputs": [],
   "source": [
    "labe= LabelEncoder ()"
   ]
  },
  {
   "cell_type": "code",
   "execution_count": 38,
   "id": "cd402124",
   "metadata": {},
   "outputs": [],
   "source": [
    "df[\"Dependents\"] = labe.fit_transform(df[ 'Dependents'])"
   ]
  },
  {
   "cell_type": "markdown",
   "id": "0c21fe3d",
   "metadata": {},
   "source": [
    "### Education "
   ]
  },
  {
   "cell_type": "code",
   "execution_count": 39,
   "id": "69bf6db9",
   "metadata": {},
   "outputs": [
    {
     "data": {
      "text/plain": [
       "count          614\n",
       "unique           2\n",
       "top       Graduate\n",
       "freq           480\n",
       "Name: Education, dtype: object"
      ]
     },
     "execution_count": 39,
     "metadata": {},
     "output_type": "execute_result"
    }
   ],
   "source": [
    "df['Education'].describe() "
   ]
  },
  {
   "cell_type": "code",
   "execution_count": 40,
   "id": "ad2fa4a0",
   "metadata": {},
   "outputs": [
    {
     "data": {
      "text/plain": [
       "0"
      ]
     },
     "execution_count": 40,
     "metadata": {},
     "output_type": "execute_result"
    }
   ],
   "source": [
    "df['Education'].isnull().sum()"
   ]
  },
  {
   "cell_type": "code",
   "execution_count": 41,
   "id": "46f8f083",
   "metadata": {},
   "outputs": [
    {
     "name": "stdout",
     "output_type": "stream",
     "text": [
      "['Graduate' 'Not Graduate']\n",
      "Graduate        480\n",
      "Not Graduate    134\n",
      "Name: Education, dtype: int64\n"
     ]
    }
   ],
   "source": [
    "print(df['Education'].unique())\n",
    "print(df['Education'].value_counts())"
   ]
  },
  {
   "cell_type": "code",
   "execution_count": 42,
   "id": "11a13df3",
   "metadata": {},
   "outputs": [
    {
     "data": {
      "image/png": "[encoded data removed]",
      "text/plain": [
       "<Figure size 432x288 with 1 Axes>"
      ]
     },
     "metadata": {
      "needs_background": "light"
     },
     "output_type": "display_data"
    }
   ],
   "source": [
    "sns.countplot('Education',data=df,hue='Loan_Status');"
   ]
  },
  {
   "cell_type": "code",
   "execution_count": 43,
   "id": "cf975144",
   "metadata": {},
   "outputs": [
    {
     "data": {
      "image/png": "[encoded data removed]",
      "text/plain": [
       "<Figure size 432x288 with 1 Axes>"
      ]
     },
     "metadata": {},
     "output_type": "display_data"
    }
   ],
   "source": [
    "label=df['Education'].unique()\n",
    "y=df['Education'].value_counts()\n",
    "\n",
    "plt.title('Education')\n",
    "plt.pie(y,labels=label,autopct='%.0f%%',shadow=True)\n",
    "plt.show()"
   ]
  },
  {
   "cell_type": "markdown",
   "id": "f7e88a0f",
   "metadata": {},
   "source": [
    "1. 78% are educated on the loan status \n",
    "2. 22% are non educated on the loan status \n",
    "3. Object data type so we will have to undergo encoding here as well "
   ]
  },
  {
   "cell_type": "code",
   "execution_count": 44,
   "id": "9b16b7df",
   "metadata": {},
   "outputs": [],
   "source": [
    "df[\"Education\"] = labe.fit_transform(df[ 'Education'])"
   ]
  },
  {
   "cell_type": "markdown",
   "id": "0ff656ee",
   "metadata": {},
   "source": [
    "### Self_Employed"
   ]
  },
  {
   "cell_type": "code",
   "execution_count": 45,
   "id": "4aa8835d",
   "metadata": {},
   "outputs": [
    {
     "data": {
      "text/plain": [
       "count     614\n",
       "unique      2\n",
       "top        No\n",
       "freq      532\n",
       "Name: Self_Employed, dtype: object"
      ]
     },
     "execution_count": 45,
     "metadata": {},
     "output_type": "execute_result"
    }
   ],
   "source": [
    "df['Self_Employed'].describe() "
   ]
  },
  {
   "cell_type": "code",
   "execution_count": 46,
   "id": "3424b3ed",
   "metadata": {},
   "outputs": [
    {
     "data": {
      "text/plain": [
       "0"
      ]
     },
     "execution_count": 46,
     "metadata": {},
     "output_type": "execute_result"
    }
   ],
   "source": [
    "df['Self_Employed'].isnull().sum()"
   ]
  },
  {
   "cell_type": "code",
   "execution_count": 47,
   "id": "2d93825e",
   "metadata": {},
   "outputs": [
    {
     "name": "stdout",
     "output_type": "stream",
     "text": [
      "['No' 'Yes']\n",
      "No     532\n",
      "Yes     82\n",
      "Name: Self_Employed, dtype: int64\n"
     ]
    }
   ],
   "source": [
    "print(df['Self_Employed'].unique())\n",
    "print(df['Self_Employed'].value_counts())"
   ]
  },
  {
   "cell_type": "code",
   "execution_count": 48,
   "id": "2cb4a4e3",
   "metadata": {},
   "outputs": [
    {
     "data": {
      "image/png": "[encoded data removed]",
      "text/plain": [
       "<Figure size 432x288 with 1 Axes>"
      ]
     },
     "metadata": {
      "needs_background": "light"
     },
     "output_type": "display_data"
    }
   ],
   "source": [
    "sns.countplot('Self_Employed',data=df,hue='Loan_Status');"
   ]
  },
  {
   "cell_type": "code",
   "execution_count": 49,
   "id": "652070e8",
   "metadata": {},
   "outputs": [
    {
     "data": {
      "image/png": "[encoded data removed]",
      "text/plain": [
       "<Figure size 432x288 with 1 Axes>"
      ]
     },
     "metadata": {},
     "output_type": "display_data"
    }
   ],
   "source": [
    "label=df['Self_Employed'].unique()\n",
    "y=df['Self_Employed'].value_counts()\n",
    "\n",
    "plt.title('Self_Employed')\n",
    "plt.pie(y,labels=label,autopct='%.0f%%',shadow=True)\n",
    "plt.show()"
   ]
  },
  {
   "cell_type": "markdown",
   "id": "f53c1276",
   "metadata": {},
   "source": [
    "1. 87% on the loan status are not self employed\n",
    "2. 13% on the loan status are self employed\n",
    "3. Encoding needs to be done for the data to be understandable for the ML models"
   ]
  },
  {
   "cell_type": "code",
   "execution_count": 50,
   "id": "1adef858",
   "metadata": {},
   "outputs": [],
   "source": [
    "df['Self_Employed']=df['Self_Employed'].replace('No',0)\n",
    "df['Self_Employed']=df['Self_Employed'].replace('Yes',1)"
   ]
  },
  {
   "cell_type": "markdown",
   "id": "a6dee299",
   "metadata": {},
   "source": [
    "### ApplicantIncome"
   ]
  },
  {
   "cell_type": "code",
   "execution_count": 51,
   "id": "36cbfe9d",
   "metadata": {},
   "outputs": [
    {
     "data": {
      "text/plain": [
       "count      614.000000\n",
       "mean      5403.459283\n",
       "std       6109.041673\n",
       "min        150.000000\n",
       "25%       2877.500000\n",
       "50%       3812.500000\n",
       "75%       5795.000000\n",
       "max      81000.000000\n",
       "Name: ApplicantIncome, dtype: float64"
      ]
     },
     "execution_count": 51,
     "metadata": {},
     "output_type": "execute_result"
    }
   ],
   "source": [
    "df['ApplicantIncome'].describe()"
   ]
  },
  {
   "cell_type": "code",
   "execution_count": 52,
   "id": "979a0da8",
   "metadata": {},
   "outputs": [
    {
     "data": {
      "text/plain": [
       "0"
      ]
     },
     "execution_count": 52,
     "metadata": {},
     "output_type": "execute_result"
    }
   ],
   "source": [
    "df['ApplicantIncome'].isnull().sum()"
   ]
  },
  {
   "cell_type": "code",
   "execution_count": 53,
   "id": "6c75b330",
   "metadata": {},
   "outputs": [
    {
     "name": "stdout",
     "output_type": "stream",
     "text": [
      "[ 5849  4583  3000  2583  6000  5417  2333  3036  4006 12841  3200  2500\n",
      "  3073  1853  1299  4950  3596  3510  4887  2600  7660  5955  3365  3717\n",
      "  9560  2799  4226  1442  3750  4166  3167  4692  3500 12500  2275  1828\n",
      "  3667  3748  3600  1800  2400  3941  4695  3410  5649  5821  2645  4000\n",
      "  1928  3086  4230  4616 11500  2708  2132  3366  8080  3357  3029  2609\n",
      "  4945  5726 10750  7100  4300  3208  1875  4755  5266  1000  3333  3846\n",
      "  2395  1378  3988  2366  8566  5695  2958  6250  3273  4133  3620  6782\n",
      "  2484  1977  4188  1759  4288  4843 13650  4652  3816  3052 11417  7333\n",
      "  3800  2071  5316  2929  3572  7451  5050 14583  2214  5568 10408  5667\n",
      "  2137  2957  3692 23803  3865 10513  6080 20166  2014  2718  3459  4895\n",
      "  3316 14999  4200  5042  6950  2698 11757  2330 14866  1538 10000  4860\n",
      "  6277  2577  9166  2281  3254 39999  9538  2980  1863  7933  3089  4167\n",
      "  9323  3707  2439  2237  8000  1820 51763  3522  5708  4344  3497  2045\n",
      "  5516  6400  1916  4600 33846  3625 39147  2178  2383   674  9328  4885\n",
      " 12000  6033  3858  4191  3125  8333  1907  3416 11000  4923  3992  3917\n",
      "  4408  3244  3975  2479  3418  3430  7787  5703  3173  3850   150  3727\n",
      "  5000  4283  2221  4009  2971  7578  3250  4735  4758  2491  3716  3189\n",
      "  3155  5500  5746  3463  3812  3315  5819  2510  2965  3406  6050  9703\n",
      "  6608  2882  1809  1668  3427  2661 16250  3083  6045  5250 14683  4931\n",
      "  6083  2060  3481  7200  5166  4095  4708  4333  2876  3237 11146  2833\n",
      "  2620  3900  2750  3993  3103  4100  4053  3927  2301  1811 20667  3158\n",
      "  3704  4124  9508  3075  4400  3153  4416  6875  4666  2875  1625  2000\n",
      "  3762 20233  7667  2917  2927  2507  2473  3399  2058  3541  4342  3601\n",
      "  3166 15000  8666  4917  5818  4384  2935 63337  9833  5503  1830  4160\n",
      "  2647  2378  4554  2499  3523  6333  2625  9083  8750  2666  2423  3813\n",
      "  3875  5167  4723  4750  3013  6822  6216  5124  6325 19730 15759  5185\n",
      "  3062  2764  4817  4310  3069  5391  5941  7167  4566  2346  3010  5488\n",
      "  9167  9504  1993  3100  3276  3180  3033  3902  1500  2889  2755  1963\n",
      "  7441  4547  2167  2213  8300 81000  3867  6256  6096  2253  2149  2995\n",
      "  1600  1025  3246  5829  2720  7250 14880  4606  5935  2920  2717  8624\n",
      "  6500 12876  2425 10047  1926 10416  7142  3660  7901  4707 37719  3466\n",
      "  3539  3340  2769  2309  1958  3948  2483  7085  3859  4301  3708  4354\n",
      "  8334  2083  7740  3015  5191  2947 16692   210  3450  2653  4691  5532\n",
      " 16525  6700  2873 16667  4350  3095 10833  3547 18333  2435  2699  5333\n",
      "  3691 17263  3597  3326  4625  2895  6283   645  3159  4865  4050  3814\n",
      " 20833  3583 13262  3598  6065  3283  2130  5815  2031  3074  4683  3400\n",
      "  2192  5677  7948  4680 17500  3775  5285  2679  6783  4281  3588 11250\n",
      " 18165  2550  6133  3617  6417  4608  2138  3652  2239  3017  2768  3358\n",
      "  2526  2785  6633  2492  2454  3593  5468  2667 10139  3887  4180  3675\n",
      " 19484  5923  5800  8799  4467  3417  5116 16666  6125  6406  3087  3229\n",
      "  1782  3182  6540  1836  1880  2787  2297  2165  2726  9357 16120  3833\n",
      "  6383  2987  9963  5780   416  2894  3676  3987  3232  2900  4106  8072\n",
      "  7583]\n",
      "2500    9\n",
      "6000    6\n",
      "2600    6\n",
      "4583    6\n",
      "4166    5\n",
      "       ..\n",
      "5503    1\n",
      "3450    1\n",
      "2425    1\n",
      "2423    1\n",
      "4095    1\n",
      "Name: ApplicantIncome, Length: 505, dtype: int64\n"
     ]
    }
   ],
   "source": [
    "print(df['ApplicantIncome'].unique())\n",
    "print(df['ApplicantIncome'].value_counts())"
   ]
  },
  {
   "cell_type": "code",
   "execution_count": 54,
   "id": "797f118a",
   "metadata": {},
   "outputs": [
    {
     "data": {
      "text/plain": [
       "6.539513113994625"
      ]
     },
     "execution_count": 54,
     "metadata": {},
     "output_type": "execute_result"
    }
   ],
   "source": [
    "df['ApplicantIncome'].skew()"
   ]
  },
  {
   "cell_type": "code",
   "execution_count": 55,
   "id": "d1f3ff12",
   "metadata": {},
   "outputs": [
    {
     "data": {
      "image/png": "[encoded data removed]",
      "text/plain": [
       "<Figure size 432x288 with 1 Axes>"
      ]
     },
     "metadata": {
      "needs_background": "light"
     },
     "output_type": "display_data"
    }
   ],
   "source": [
    "plt.plot()\n",
    "sns.distplot(df['ApplicantIncome']) \n",
    "plt.show()"
   ]
  },
  {
   "cell_type": "code",
   "execution_count": 56,
   "id": "82981fb1",
   "metadata": {},
   "outputs": [
    {
     "data": {
      "image/png": "[encoded data removed]",
      "text/plain": [
       "<Figure size 432x288 with 1 Axes>"
      ]
     },
     "metadata": {
      "needs_background": "light"
     },
     "output_type": "display_data"
    }
   ],
   "source": [
    "plt.plot()\n",
    "sns.boxplot(df['ApplicantIncome'])\n",
    "plt.show()"
   ]
  },
  {
   "cell_type": "markdown",
   "id": "69659303",
   "metadata": {},
   "source": [
    "We can observe in this particular column that \n",
    "\n",
    "1. data is skewed so we have to remove that skewness \n",
    "2. some otuliers are present so we have to remove them too"
   ]
  },
  {
   "cell_type": "code",
   "execution_count": 57,
   "id": "a7cd15d4",
   "metadata": {},
   "outputs": [],
   "source": [
    "logt=np.log(df[\"ApplicantIncome\"])"
   ]
  },
  {
   "cell_type": "code",
   "execution_count": 58,
   "id": "5a0f3561",
   "metadata": {},
   "outputs": [],
   "source": [
    "dff = df.copy()"
   ]
  },
  {
   "cell_type": "code",
   "execution_count": 59,
   "id": "1fd9bb4c",
   "metadata": {},
   "outputs": [],
   "source": [
    "df[\"ApplicantIncome\"]=logt"
   ]
  },
  {
   "cell_type": "code",
   "execution_count": 60,
   "id": "870943ed",
   "metadata": {},
   "outputs": [
    {
     "name": "stdout",
     "output_type": "stream",
     "text": [
      "Skewness after trying to remove the skewness is  0.4795799780016222\n"
     ]
    }
   ],
   "source": [
    "print(\"Skewness after trying to remove the skewness is \", logt.skew())"
   ]
  },
  {
   "cell_type": "markdown",
   "id": "58f16bb0",
   "metadata": {},
   "source": [
    "### Coapplicantincome"
   ]
  },
  {
   "cell_type": "code",
   "execution_count": 61,
   "id": "7425d46b",
   "metadata": {},
   "outputs": [
    {
     "data": {
      "text/plain": [
       "count      614.000000\n",
       "mean      1621.245798\n",
       "std       2926.248369\n",
       "min          0.000000\n",
       "25%          0.000000\n",
       "50%       1188.500000\n",
       "75%       2297.250000\n",
       "max      41667.000000\n",
       "Name: CoapplicantIncome, dtype: float64"
      ]
     },
     "execution_count": 61,
     "metadata": {},
     "output_type": "execute_result"
    }
   ],
   "source": [
    "df['CoapplicantIncome'].describe()"
   ]
  },
  {
   "cell_type": "code",
   "execution_count": 62,
   "id": "fa3cf96d",
   "metadata": {},
   "outputs": [
    {
     "data": {
      "text/plain": [
       "0"
      ]
     },
     "execution_count": 62,
     "metadata": {},
     "output_type": "execute_result"
    }
   ],
   "source": [
    "df['CoapplicantIncome'].isnull().sum()"
   ]
  },
  {
   "cell_type": "code",
   "execution_count": 63,
   "id": "23bc2207",
   "metadata": {},
   "outputs": [
    {
     "data": {
      "text/plain": [
       "7.491531216657306"
      ]
     },
     "execution_count": 63,
     "metadata": {},
     "output_type": "execute_result"
    }
   ],
   "source": [
    "df['CoapplicantIncome'].skew()"
   ]
  },
  {
   "cell_type": "code",
   "execution_count": 64,
   "id": "7afebcb4",
   "metadata": {},
   "outputs": [
    {
     "data": {
      "image/png": "[encoded data removed]",
      "text/plain": [
       "<Figure size 432x288 with 1 Axes>"
      ]
     },
     "metadata": {
      "needs_background": "light"
     },
     "output_type": "display_data"
    }
   ],
   "source": [
    "plt.plot()\n",
    "sns.distplot(df['CoapplicantIncome']) \n",
    "plt.show()"
   ]
  },
  {
   "cell_type": "code",
   "execution_count": 65,
   "id": "b2d5fefd",
   "metadata": {},
   "outputs": [
    {
     "data": {
      "image/png": "[encoded data removed]",
      "text/plain": [
       "<Figure size 432x288 with 1 Axes>"
      ]
     },
     "metadata": {
      "needs_background": "light"
     },
     "output_type": "display_data"
    }
   ],
   "source": [
    "plt.plot()\n",
    "sns.boxplot(df['CoapplicantIncome'])\n",
    "plt.show()"
   ]
  },
  {
   "cell_type": "markdown",
   "id": "00c988cd",
   "metadata": {},
   "source": [
    "Data is skewed in this case similar to the previous column of applicant income so we will have to remove this as well"
   ]
  },
  {
   "cell_type": "code",
   "execution_count": 66,
   "id": "0b7374d3",
   "metadata": {},
   "outputs": [],
   "source": [
    "from sklearn.preprocessing import power_transform,PowerTransformer"
   ]
  },
  {
   "cell_type": "code",
   "execution_count": 67,
   "id": "a9da88c7",
   "metadata": {},
   "outputs": [],
   "source": [
    "x=power_transform(df[[\"CoapplicantIncome\"]], method='yeo-johnson')"
   ]
  },
  {
   "cell_type": "code",
   "execution_count": 68,
   "id": "4e292188",
   "metadata": {},
   "outputs": [],
   "source": [
    "df[\"CoapplicantIncome\"]=x"
   ]
  },
  {
   "cell_type": "code",
   "execution_count": 69,
   "id": "a05cb83c",
   "metadata": {},
   "outputs": [
    {
     "name": "stdout",
     "output_type": "stream",
     "text": [
      "Skewness of the data is:  -0.14564645710551902\n"
     ]
    }
   ],
   "source": [
    "print(\"Skewness of the data is: \", df[\"CoapplicantIncome\"].skew())"
   ]
  },
  {
   "cell_type": "markdown",
   "id": "d9b33a85",
   "metadata": {},
   "source": [
    "### LoanAmount"
   ]
  },
  {
   "cell_type": "code",
   "execution_count": 70,
   "id": "8d906554",
   "metadata": {},
   "outputs": [
    {
     "data": {
      "text/plain": [
       "count    614.000000\n",
       "mean     146.412162\n",
       "std       84.037468\n",
       "min        9.000000\n",
       "25%      100.250000\n",
       "50%      129.000000\n",
       "75%      164.750000\n",
       "max      700.000000\n",
       "Name: LoanAmount, dtype: float64"
      ]
     },
     "execution_count": 70,
     "metadata": {},
     "output_type": "execute_result"
    }
   ],
   "source": [
    "df['LoanAmount'].describe()"
   ]
  },
  {
   "cell_type": "code",
   "execution_count": 71,
   "id": "27bb7708",
   "metadata": {},
   "outputs": [
    {
     "data": {
      "text/plain": [
       "0"
      ]
     },
     "execution_count": 71,
     "metadata": {},
     "output_type": "execute_result"
    }
   ],
   "source": [
    "df['LoanAmount'].isnull().sum()"
   ]
  },
  {
   "cell_type": "code",
   "execution_count": 72,
   "id": "ed056eb9",
   "metadata": {},
   "outputs": [
    {
     "data": {
      "text/plain": [
       "2.726601144105299"
      ]
     },
     "execution_count": 72,
     "metadata": {},
     "output_type": "execute_result"
    }
   ],
   "source": [
    "df['LoanAmount'].skew()"
   ]
  },
  {
   "cell_type": "code",
   "execution_count": 73,
   "id": "7761d8e2",
   "metadata": {},
   "outputs": [
    {
     "data": {
      "image/png": "[encoded data removed]",
      "text/plain": [
       "<Figure size 432x288 with 1 Axes>"
      ]
     },
     "metadata": {
      "needs_background": "light"
     },
     "output_type": "display_data"
    }
   ],
   "source": [
    "plt.plot()\n",
    "sns.distplot(df['LoanAmount'])\n",
    "plt.show()"
   ]
  },
  {
   "cell_type": "code",
   "execution_count": 74,
   "id": "3b1ea398",
   "metadata": {},
   "outputs": [
    {
     "data": {
      "image/png": "[encoded data removed]",
      "text/plain": [
       "<Figure size 432x288 with 1 Axes>"
      ]
     },
     "metadata": {
      "needs_background": "light"
     },
     "output_type": "display_data"
    }
   ],
   "source": [
    "plt.plot()\n",
    "sns.boxplot(df['LoanAmount'])\n",
    "plt.show()"
   ]
  },
  {
   "cell_type": "markdown",
   "id": "e52afda8",
   "metadata": {},
   "source": [
    "Data is skewed in this case. We will have to remove this "
   ]
  },
  {
   "cell_type": "code",
   "execution_count": 75,
   "id": "e1fa577e",
   "metadata": {},
   "outputs": [],
   "source": [
    "LA =np.sqrt(df[\"LoanAmount\"])\n",
    "df['LoanAmount'] = LA"
   ]
  },
  {
   "cell_type": "code",
   "execution_count": 76,
   "id": "71bd4eb4",
   "metadata": {},
   "outputs": [
    {
     "name": "stdout",
     "output_type": "stream",
     "text": [
      "Skewness of the data is:  1.3141619498030808\n"
     ]
    }
   ],
   "source": [
    "print(\"Skewness of the data is: \", df[\"LoanAmount\"].skew())"
   ]
  },
  {
   "cell_type": "markdown",
   "id": "195799d9",
   "metadata": {},
   "source": [
    "### Loan_Amount_Term "
   ]
  },
  {
   "cell_type": "code",
   "execution_count": 77,
   "id": "2ce7cec6",
   "metadata": {},
   "outputs": [
    {
     "data": {
      "text/plain": [
       "count    614.000000\n",
       "mean     342.000000\n",
       "std       64.372489\n",
       "min       12.000000\n",
       "25%      360.000000\n",
       "50%      360.000000\n",
       "75%      360.000000\n",
       "max      480.000000\n",
       "Name: Loan_Amount_Term, dtype: float64"
      ]
     },
     "execution_count": 77,
     "metadata": {},
     "output_type": "execute_result"
    }
   ],
   "source": [
    "df['Loan_Amount_Term'].describe()"
   ]
  },
  {
   "cell_type": "code",
   "execution_count": 78,
   "id": "b248b135",
   "metadata": {},
   "outputs": [
    {
     "data": {
      "text/plain": [
       "0"
      ]
     },
     "execution_count": 78,
     "metadata": {},
     "output_type": "execute_result"
    }
   ],
   "source": [
    "df['Loan_Amount_Term'].isnull().sum() "
   ]
  },
  {
   "cell_type": "code",
   "execution_count": 79,
   "id": "f4e187e6",
   "metadata": {},
   "outputs": [
    {
     "name": "stdout",
     "output_type": "stream",
     "text": [
      "[360. 120. 240. 342. 180.  60. 300. 480.  36.  84.  12.]\n",
      "360.0    512\n",
      "180.0     44\n",
      "480.0     15\n",
      "342.0     14\n",
      "300.0     13\n",
      "84.0       4\n",
      "240.0      4\n",
      "120.0      3\n",
      "36.0       2\n",
      "60.0       2\n",
      "12.0       1\n",
      "Name: Loan_Amount_Term, dtype: int64\n"
     ]
    }
   ],
   "source": [
    "print(df['Loan_Amount_Term'].unique())\n",
    "print(df['Loan_Amount_Term'].value_counts())"
   ]
  },
  {
   "cell_type": "code",
   "execution_count": 80,
   "id": "b5f1335c",
   "metadata": {},
   "outputs": [
    {
     "data": {
      "text/plain": [
       "-2.3896799467122745"
      ]
     },
     "execution_count": 80,
     "metadata": {},
     "output_type": "execute_result"
    }
   ],
   "source": [
    "df['Loan_Amount_Term'].skew()"
   ]
  },
  {
   "cell_type": "code",
   "execution_count": 81,
   "id": "a1990d52",
   "metadata": {},
   "outputs": [
    {
     "data": {
      "image/png": "[encoded data removed]",
      "text/plain": [
       "<Figure size 432x288 with 1 Axes>"
      ]
     },
     "metadata": {
      "needs_background": "light"
     },
     "output_type": "display_data"
    }
   ],
   "source": [
    "plt.plot()\n",
    "sns.distplot(df['Loan_Amount_Term'])\n",
    "plt.show()"
   ]
  },
  {
   "cell_type": "code",
   "execution_count": 82,
   "id": "1fdbb6e2",
   "metadata": {},
   "outputs": [
    {
     "data": {
      "image/png": "[encoded data removed]",
      "text/plain": [
       "<Figure size 432x288 with 1 Axes>"
      ]
     },
     "metadata": {
      "needs_background": "light"
     },
     "output_type": "display_data"
    }
   ],
   "source": [
    "plt.plot()\n",
    "sns.boxplot(df['Loan_Amount_Term'])\n",
    "plt.show()"
   ]
  },
  {
   "cell_type": "code",
   "execution_count": 83,
   "id": "11e9fa7f",
   "metadata": {},
   "outputs": [
    {
     "data": {
      "image/png": "[encoded data removed]",
      "text/plain": [
       "<Figure size 432x288 with 1 Axes>"
      ]
     },
     "metadata": {
      "needs_background": "light"
     },
     "output_type": "display_data"
    }
   ],
   "source": [
    "sns.countplot('Loan_Amount_Term',data=df,hue='Loan_Status');"
   ]
  },
  {
   "cell_type": "code",
   "execution_count": 84,
   "id": "3e76fd23",
   "metadata": {},
   "outputs": [
    {
     "data": {
      "image/png": "[encoded data removed]",
      "text/plain": [
       "<Figure size 432x288 with 1 Axes>"
      ]
     },
     "metadata": {},
     "output_type": "display_data"
    }
   ],
   "source": [
    "label=df['Loan_Amount_Term'].unique()\n",
    "y=df['Loan_Amount_Term'].value_counts()\n",
    "\n",
    "plt.title('Loan_Amount_Term')\n",
    "plt.pie(y,labels=label,autopct='%.0f%%',shadow=True)\n",
    "plt.show()"
   ]
  },
  {
   "cell_type": "code",
   "execution_count": 85,
   "id": "d6888b81",
   "metadata": {},
   "outputs": [],
   "source": [
    "df[\"Loan_Amount_Term\"] = labe.fit_transform(df[ 'Loan_Amount_Term'])"
   ]
  },
  {
   "cell_type": "markdown",
   "id": "085e589e",
   "metadata": {},
   "source": [
    "### Credit_History"
   ]
  },
  {
   "cell_type": "code",
   "execution_count": 86,
   "id": "0fb1d9e2",
   "metadata": {},
   "outputs": [
    {
     "data": {
      "text/plain": [
       "count    614.000000\n",
       "mean       0.855049\n",
       "std        0.352339\n",
       "min        0.000000\n",
       "25%        1.000000\n",
       "50%        1.000000\n",
       "75%        1.000000\n",
       "max        1.000000\n",
       "Name: Credit_History, dtype: float64"
      ]
     },
     "execution_count": 86,
     "metadata": {},
     "output_type": "execute_result"
    }
   ],
   "source": [
    "df['Credit_History'].describe() \n"
   ]
  },
  {
   "cell_type": "code",
   "execution_count": 87,
   "id": "ca583e05",
   "metadata": {},
   "outputs": [
    {
     "data": {
      "text/plain": [
       "0"
      ]
     },
     "execution_count": 87,
     "metadata": {},
     "output_type": "execute_result"
    }
   ],
   "source": [
    "df['Credit_History'].isnull().sum()"
   ]
  },
  {
   "cell_type": "code",
   "execution_count": 88,
   "id": "e287b7c9",
   "metadata": {},
   "outputs": [
    {
     "name": "stdout",
     "output_type": "stream",
     "text": [
      "[1. 0.]\n",
      "1.0    525\n",
      "0.0     89\n",
      "Name: Credit_History, dtype: int64\n"
     ]
    }
   ],
   "source": [
    "print(df['Credit_History'].unique())\n",
    "print(df['Credit_History'].value_counts())"
   ]
  },
  {
   "cell_type": "code",
   "execution_count": 89,
   "id": "549559dd",
   "metadata": {},
   "outputs": [
    {
     "data": {
      "image/png": "[encoded data removed]",
      "text/plain": [
       "<Figure size 432x288 with 1 Axes>"
      ]
     },
     "metadata": {
      "needs_background": "light"
     },
     "output_type": "display_data"
    }
   ],
   "source": [
    "sns.countplot('Credit_History',data=df,hue='Loan_Status');"
   ]
  },
  {
   "cell_type": "code",
   "execution_count": 90,
   "id": "cb6edad7",
   "metadata": {},
   "outputs": [
    {
     "data": {
      "image/png": "[encoded data removed]",
      "text/plain": [
       "<Figure size 432x288 with 1 Axes>"
      ]
     },
     "metadata": {},
     "output_type": "display_data"
    }
   ],
   "source": [
    "label=df['Credit_History'].unique()\n",
    "y=df['Credit_History'].value_counts()\n",
    "\n",
    "plt.title('Credit_History')\n",
    "plt.pie(y,labels=label,autopct='%.0f%%',shadow=True)\n",
    "plt.show()"
   ]
  },
  {
   "cell_type": "markdown",
   "id": "59132739",
   "metadata": {},
   "source": [
    "### Property_Area"
   ]
  },
  {
   "cell_type": "code",
   "execution_count": 91,
   "id": "8c63f99c",
   "metadata": {},
   "outputs": [
    {
     "data": {
      "text/plain": [
       "count           614\n",
       "unique            3\n",
       "top       Semiurban\n",
       "freq            233\n",
       "Name: Property_Area, dtype: object"
      ]
     },
     "execution_count": 91,
     "metadata": {},
     "output_type": "execute_result"
    }
   ],
   "source": [
    "df['Property_Area'].describe() "
   ]
  },
  {
   "cell_type": "code",
   "execution_count": 92,
   "id": "8874c9ef",
   "metadata": {},
   "outputs": [
    {
     "data": {
      "text/plain": [
       "0"
      ]
     },
     "execution_count": 92,
     "metadata": {},
     "output_type": "execute_result"
    }
   ],
   "source": [
    "df['Property_Area'].isnull().sum()"
   ]
  },
  {
   "cell_type": "code",
   "execution_count": 93,
   "id": "606a79a3",
   "metadata": {},
   "outputs": [
    {
     "name": "stdout",
     "output_type": "stream",
     "text": [
      "['Urban' 'Rural' 'Semiurban']\n",
      "Semiurban    233\n",
      "Urban        202\n",
      "Rural        179\n",
      "Name: Property_Area, dtype: int64\n"
     ]
    }
   ],
   "source": [
    "print(df['Property_Area'].unique())\n",
    "print(df['Property_Area'].value_counts())"
   ]
  },
  {
   "cell_type": "code",
   "execution_count": 94,
   "id": "1fcb0c08",
   "metadata": {},
   "outputs": [
    {
     "data": {
      "image/png": "[encoded data removed]",
      "text/plain": [
       "<Figure size 432x288 with 1 Axes>"
      ]
     },
     "metadata": {
      "needs_background": "light"
     },
     "output_type": "display_data"
    }
   ],
   "source": [
    "sns.countplot('Property_Area',data=df,hue='Loan_Status');"
   ]
  },
  {
   "cell_type": "code",
   "execution_count": 95,
   "id": "bc6dc66f",
   "metadata": {},
   "outputs": [
    {
     "data": {
      "image/png": "[encoded data removed]",
      "text/plain": [
       "<Figure size 432x288 with 1 Axes>"
      ]
     },
     "metadata": {},
     "output_type": "display_data"
    }
   ],
   "source": [
    "label=df['Property_Area'].unique()\n",
    "y=df['Property_Area'].value_counts()\n",
    "\n",
    "plt.title('Property_Area')\n",
    "plt.pie(y,labels=label,autopct='%.0f%%',shadow=True)\n",
    "plt.show()"
   ]
  },
  {
   "cell_type": "code",
   "execution_count": 96,
   "id": "ff2a11e7",
   "metadata": {},
   "outputs": [],
   "source": [
    "df[\"Property_Area\"] = labe.fit_transform(df[ 'Property_Area'])"
   ]
  },
  {
   "cell_type": "markdown",
   "id": "a48c82e8",
   "metadata": {},
   "source": [
    "### Loan_Status"
   ]
  },
  {
   "cell_type": "code",
   "execution_count": 97,
   "id": "20ed7d78",
   "metadata": {},
   "outputs": [
    {
     "data": {
      "text/plain": [
       "count     614\n",
       "unique      2\n",
       "top         Y\n",
       "freq      422\n",
       "Name: Loan_Status, dtype: object"
      ]
     },
     "execution_count": 97,
     "metadata": {},
     "output_type": "execute_result"
    }
   ],
   "source": [
    "df['Loan_Status'].describe() "
   ]
  },
  {
   "cell_type": "code",
   "execution_count": 98,
   "id": "ef37137a",
   "metadata": {},
   "outputs": [
    {
     "data": {
      "text/plain": [
       "0"
      ]
     },
     "execution_count": 98,
     "metadata": {},
     "output_type": "execute_result"
    }
   ],
   "source": [
    "df['Loan_Status'].isnull().sum()"
   ]
  },
  {
   "cell_type": "code",
   "execution_count": 99,
   "id": "a17dacde",
   "metadata": {},
   "outputs": [
    {
     "name": "stdout",
     "output_type": "stream",
     "text": [
      "['Y' 'N']\n",
      "Y    422\n",
      "N    192\n",
      "Name: Loan_Status, dtype: int64\n"
     ]
    }
   ],
   "source": [
    "print(df['Loan_Status'].unique())\n",
    "print(df['Loan_Status'].value_counts())"
   ]
  },
  {
   "cell_type": "code",
   "execution_count": 100,
   "id": "eba4e57e",
   "metadata": {},
   "outputs": [
    {
     "data": {
      "image/png": "[encoded data removed]",
      "text/plain": [
       "<Figure size 432x288 with 1 Axes>"
      ]
     },
     "metadata": {
      "needs_background": "light"
     },
     "output_type": "display_data"
    }
   ],
   "source": [
    "sns.countplot('Loan_Status',data=df);"
   ]
  },
  {
   "cell_type": "code",
   "execution_count": 101,
   "id": "0d108d13",
   "metadata": {},
   "outputs": [
    {
     "data": {
      "image/png": "[encoded data removed]",
      "text/plain": [
       "<Figure size 432x288 with 1 Axes>"
      ]
     },
     "metadata": {},
     "output_type": "display_data"
    }
   ],
   "source": [
    "y=df['Loan_Status'].value_counts()\n",
    "plt.title('Loan_Status')\n",
    "plt.pie(y,labels=['Yes' ,'No'],autopct='%.0f%%',shadow=True)\n",
    "plt.show()"
   ]
  },
  {
   "cell_type": "code",
   "execution_count": 102,
   "id": "3e8978df",
   "metadata": {},
   "outputs": [],
   "source": [
    "df['Loan_Status']=df['Loan_Status'].replace('N',0)\n",
    "df['Loan_Status']=df['Loan_Status'].replace('Y',1)"
   ]
  },
  {
   "cell_type": "markdown",
   "id": "84644836",
   "metadata": {},
   "source": [
    "\n",
    "<br><font face = \"TImes New Roman\" size = \"3\"> <b> We will now check for the skew again after doong operation on each column "
   ]
  },
  {
   "cell_type": "code",
   "execution_count": 103,
   "id": "8e358fd6",
   "metadata": {},
   "outputs": [
    {
     "data": {
      "text/plain": [
       "Gender              -1.648795\n",
       "Married             -0.644850\n",
       "Dependents           1.015551\n",
       "Education            1.367622\n",
       "Self_Employed        2.159796\n",
       "ApplicantIncome      0.479580\n",
       "CoapplicantIncome   -0.145646\n",
       "LoanAmount           1.314162\n",
       "Loan_Amount_Term    -2.907201\n",
       "Credit_History      -2.021971\n",
       "Property_Area       -0.066196\n",
       "Loan_Status         -0.809998\n",
       "dtype: float64"
      ]
     },
     "execution_count": 103,
     "metadata": {},
     "output_type": "execute_result"
    }
   ],
   "source": [
    "df.skew()"
   ]
  },
  {
   "cell_type": "markdown",
   "id": "71f39672",
   "metadata": {},
   "source": [
    "<br><font face = \"TImes New Roman\" size = \"3\"> <b> Featuring and labelling our Target Variable "
   ]
  },
  {
   "cell_type": "code",
   "execution_count": 104,
   "id": "0ea14e34",
   "metadata": {},
   "outputs": [],
   "source": [
    "f = df.drop (columns = ['Loan_Status'])\n",
    "l = df['Loan_Status']"
   ]
  },
  {
   "cell_type": "code",
   "execution_count": 105,
   "id": "0ff4abf7",
   "metadata": {},
   "outputs": [
    {
     "data": {
      "image/png": "[encoded data removed]",
      "text/plain": [
       "<Figure size 720x1440 with 9 Axes>"
      ]
     },
     "metadata": {
      "needs_background": "light"
     },
     "output_type": "display_data"
    }
   ],
   "source": [
    "plt.figure(figsize=(10,20))\n",
    "plotnumber = 1\n",
    "for column in f:\n",
    "    if plotnumber<=9 :\n",
    "        ax = plt.subplot (3,3,plotnumber)\n",
    "        sns.stripplot(l,f[column])\n",
    "    plotnumber+=1\n",
    "plt.show()"
   ]
  },
  {
   "cell_type": "markdown",
   "id": "42497955",
   "metadata": {},
   "source": [
    "# 8) Correlation "
   ]
  },
  {
   "cell_type": "code",
   "execution_count": 106,
   "id": "d1d7fe78",
   "metadata": {},
   "outputs": [
    {
     "data": {
      "text/plain": [
       "Education           -0.085884\n",
       "LoanAmount          -0.041984\n",
       "Self_Employed       -0.003700\n",
       "Loan_Amount_Term     0.002512\n",
       "Dependents           0.010118\n",
       "ApplicantIncome      0.010977\n",
       "Gender               0.017987\n",
       "Property_Area        0.032112\n",
       "CoapplicantIncome    0.056869\n",
       "Married              0.091478\n",
       "Credit_History       0.540556\n",
       "Loan_Status          1.000000\n",
       "Name: Loan_Status, dtype: float64"
      ]
     },
     "execution_count": 106,
     "metadata": {},
     "output_type": "execute_result"
    }
   ],
   "source": [
    "df.corr()['Loan_Status'].sort_values()"
   ]
  },
  {
   "cell_type": "code",
   "execution_count": 107,
   "id": "56d2d426",
   "metadata": {},
   "outputs": [
    {
     "data": {
      "text/plain": [
       "<AxesSubplot:>"
      ]
     },
     "execution_count": 107,
     "metadata": {},
     "output_type": "execute_result"
    },
    {
     "data": {
      "image/png": "[encoded data removed]",
      "text/plain": [
       "<Figure size 1584x504 with 2 Axes>"
      ]
     },
     "metadata": {
      "needs_background": "light"
     },
     "output_type": "display_data"
    }
   ],
   "source": [
    "plt.figure(figsize=(22,7)) \n",
    "sns.heatmap(df.corr(),annot=True,linewidths=0.1,linecolor=\"red\",fmt=\"0.2f\")"
   ]
  },
  {
   "cell_type": "code",
   "execution_count": 108,
   "id": "dd32dd73",
   "metadata": {},
   "outputs": [
    {
     "data": {
      "text/plain": [
       "Gender               0.017987\n",
       "Married              0.091478\n",
       "Dependents           0.010118\n",
       "Education           -0.085884\n",
       "Self_Employed       -0.003700\n",
       "ApplicantIncome      0.010977\n",
       "CoapplicantIncome    0.056869\n",
       "LoanAmount          -0.041984\n",
       "Loan_Amount_Term     0.002512\n",
       "Credit_History       0.540556\n",
       "Property_Area        0.032112\n",
       "dtype: float64"
      ]
     },
     "execution_count": 108,
     "metadata": {},
     "output_type": "execute_result"
    }
   ],
   "source": [
    "f.corrwith(l)"
   ]
  },
  {
   "cell_type": "code",
   "execution_count": 109,
   "id": "7965fe9d",
   "metadata": {},
   "outputs": [
    {
     "data": {
      "image/png": "[encoded data removed]",
      "text/plain": [
       "<Figure size 576x504 with 1 Axes>"
      ]
     },
     "metadata": {
      "needs_background": "light"
     },
     "output_type": "display_data"
    }
   ],
   "source": [
    "f.corrwith(l).plot(kind='bar',grid=True,figsize=(8,7), \n",
    "title='Correlation with the target ')\n",
    "plt.show()"
   ]
  },
  {
   "cell_type": "markdown",
   "id": "26470bf2",
   "metadata": {},
   "source": [
    "# 9) Variance Inflation Factor and Standard Scaler "
   ]
  },
  {
   "cell_type": "code",
   "execution_count": 110,
   "id": "5b60ee3f",
   "metadata": {},
   "outputs": [],
   "source": [
    "from statsmodels.stats.outliers_influence import variance_inflation_factor\n"
   ]
  },
  {
   "cell_type": "code",
   "execution_count": 111,
   "id": "cef4c4f5",
   "metadata": {},
   "outputs": [],
   "source": [
    "from sklearn.preprocessing import StandardScaler"
   ]
  },
  {
   "cell_type": "code",
   "execution_count": 112,
   "id": "182c1e57",
   "metadata": {},
   "outputs": [],
   "source": [
    "scalar = StandardScaler()\n",
    "f_scaled = scalar.fit_transform (f)"
   ]
  },
  {
   "cell_type": "code",
   "execution_count": 113,
   "id": "afe7eeea",
   "metadata": {},
   "outputs": [
    {
     "data": {
      "text/html": [
       "<div>\n",
       "<style scoped>\n",
       "    .dataframe tbody tr th:only-of-type {\n",
       "        vertical-align: middle;\n",
       "    }\n",
       "\n",
       "    .dataframe tbody tr th {\n",
       "        vertical-align: top;\n",
       "    }\n",
       "\n",
       "    .dataframe thead th {\n",
       "        text-align: right;\n",
       "    }\n",
       "</style>\n",
       "<table border=\"1\" class=\"dataframe\">\n",
       "  <thead>\n",
       "    <tr style=\"text-align: right;\">\n",
       "      <th></th>\n",
       "      <th>vif</th>\n",
       "      <th>Features</th>\n",
       "    </tr>\n",
       "  </thead>\n",
       "  <tbody>\n",
       "    <tr>\n",
       "      <th>0</th>\n",
       "      <td>1.206454</td>\n",
       "      <td>Gender</td>\n",
       "    </tr>\n",
       "    <tr>\n",
       "      <th>1</th>\n",
       "      <td>1.388767</td>\n",
       "      <td>Married</td>\n",
       "    </tr>\n",
       "    <tr>\n",
       "      <th>2</th>\n",
       "      <td>1.180442</td>\n",
       "      <td>Dependents</td>\n",
       "    </tr>\n",
       "    <tr>\n",
       "      <th>3</th>\n",
       "      <td>1.072773</td>\n",
       "      <td>Education</td>\n",
       "    </tr>\n",
       "    <tr>\n",
       "      <th>4</th>\n",
       "      <td>1.042282</td>\n",
       "      <td>Self_Employed</td>\n",
       "    </tr>\n",
       "    <tr>\n",
       "      <th>5</th>\n",
       "      <td>1.986798</td>\n",
       "      <td>ApplicantIncome</td>\n",
       "    </tr>\n",
       "    <tr>\n",
       "      <th>6</th>\n",
       "      <td>1.552945</td>\n",
       "      <td>CoapplicantIncome</td>\n",
       "    </tr>\n",
       "    <tr>\n",
       "      <th>7</th>\n",
       "      <td>1.704011</td>\n",
       "      <td>LoanAmount</td>\n",
       "    </tr>\n",
       "    <tr>\n",
       "      <th>8</th>\n",
       "      <td>1.043323</td>\n",
       "      <td>Loan_Amount_Term</td>\n",
       "    </tr>\n",
       "    <tr>\n",
       "      <th>9</th>\n",
       "      <td>1.008514</td>\n",
       "      <td>Credit_History</td>\n",
       "    </tr>\n",
       "    <tr>\n",
       "      <th>10</th>\n",
       "      <td>1.024912</td>\n",
       "      <td>Property_Area</td>\n",
       "    </tr>\n",
       "  </tbody>\n",
       "</table>\n",
       "</div>"
      ],
      "text/plain": [
       "         vif           Features\n",
       "0   1.206454             Gender\n",
       "1   1.388767            Married\n",
       "2   1.180442         Dependents\n",
       "3   1.072773          Education\n",
       "4   1.042282      Self_Employed\n",
       "5   1.986798    ApplicantIncome\n",
       "6   1.552945  CoapplicantIncome\n",
       "7   1.704011         LoanAmount\n",
       "8   1.043323   Loan_Amount_Term\n",
       "9   1.008514     Credit_History\n",
       "10  1.024912      Property_Area"
      ]
     },
     "execution_count": 113,
     "metadata": {},
     "output_type": "execute_result"
    }
   ],
   "source": [
    "vif = pd.DataFrame()\n",
    "vif[\"vif\"]= [variance_inflation_factor (f_scaled, i) for i in range (f_scaled.shape[1])]\n",
    "vif[\"Features\"] = f. columns\n",
    "vif"
   ]
  },
  {
   "cell_type": "markdown",
   "id": "d6625d81",
   "metadata": {},
   "source": [
    "# 10) Model Selection "
   ]
  },
  {
   "cell_type": "markdown",
   "id": "a826c628",
   "metadata": {},
   "source": [
    "The data has inconsistent amount of samples. high to low or vice versa so we will split the data into train and test set on the scaled dataset \n",
    "We will therefore first try the model with Logistic Regression model"
   ]
  },
  {
   "cell_type": "code",
   "execution_count": 114,
   "id": "e1ac9cd3",
   "metadata": {},
   "outputs": [],
   "source": [
    "from sklearn.linear_model import LogisticRegression\n",
    "from sklearn.model_selection import train_test_split\n",
    "from sklearn.metrics import accuracy_score, confusion_matrix, roc_curve, roc_auc_score\n",
    "import warnings\n",
    "warnings.filterwarnings ('ignore')\n",
    "from sklearn.metrics import classification_report"
   ]
  },
  {
   "cell_type": "code",
   "execution_count": 115,
   "id": "98f09b20",
   "metadata": {},
   "outputs": [],
   "source": [
    "from sklearn.naive_bayes import GaussianNB\n",
    "from sklearn.tree import DecisionTreeClassifier\n",
    "from sklearn.neighbors import KNeighborsClassifier\n",
    "from sklearn.svm import SVC\n",
    "from sklearn.ensemble import RandomForestClassifier\n",
    "from sklearn.ensemble import GradientBoostingClassifier\n",
    "from sklearn.ensemble import AdaBoostClassifier\n",
    "from sklearn.model_selection import GridSearchCV\n",
    "from sklearn.model_selection import cross_val_score\n",
    "from sklearn.metrics import accuracy_score\n",
    "from sklearn.metrics import confusion_matrix\n",
    "from sklearn.metrics import classification_report"
   ]
  },
  {
   "cell_type": "code",
   "execution_count": 116,
   "id": "7f974d73",
   "metadata": {},
   "outputs": [],
   "source": [
    "lg=LogisticRegression()\n",
    "gbc=GradientBoostingClassifier()\n",
    "dtc=DecisionTreeClassifier()\n",
    "gnb=GaussianNB()\n",
    "knc=KNeighborsClassifier()\n",
    "rfc=RandomForestClassifier()\n",
    "svc=SVC()\n",
    "abc=AdaBoostClassifier()\n"
   ]
  },
  {
   "cell_type": "code",
   "execution_count": 117,
   "id": "4765ad4c",
   "metadata": {},
   "outputs": [],
   "source": [
    "model_list=[lg,gnb,dtc,knc,svc,rfc,gbc,abc]"
   ]
  },
  {
   "cell_type": "code",
   "execution_count": 118,
   "id": "12b32ea8",
   "metadata": {},
   "outputs": [],
   "source": [
    "#Logistic Regression \n",
    "\n",
    "def confusion_plot():\n",
    "    print('accuracy_score:-',accuracy_score(pred,y_test))\n",
    "    print(classification_report(pred,y_test))\n",
    "    matrix = confusion_matrix(pred,y_test)\n",
    "    sns.heatmap(matrix, annot=True, fmt=\"d\", cmap='RdYlGn', square=True)\n",
    "    plt.xlabel(\"predicted\")\n",
    "    plt.show()"
   ]
  },
  {
   "cell_type": "code",
   "execution_count": 119,
   "id": "aa1ec4af",
   "metadata": {},
   "outputs": [
    {
     "name": "stdout",
     "output_type": "stream",
     "text": [
      "Accuracy score : 0.8651162790697674 Maximum Random Number : 8\n"
     ]
    }
   ],
   "source": [
    "maxacc=0\n",
    "maxrn=0\n",
    "\n",
    "for i in range(1,100):\n",
    "    x_train,x_test,y_train,y_test=train_test_split(f_scaled,l,test_size=.35,random_state=i)\n",
    "    lg.fit(x_train,y_train)\n",
    "    pred=lg.predict(x_test)\n",
    "    score=accuracy_score(pred,y_test)\n",
    "    if score>maxacc:\n",
    "        maxacc=score\n",
    "        maxrn=i\n",
    "print('Accuracy score :',maxacc,'Maximum Random Number :',maxrn)"
   ]
  },
  {
   "cell_type": "code",
   "execution_count": 120,
   "id": "2d15d126",
   "metadata": {},
   "outputs": [
    {
     "name": "stdout",
     "output_type": "stream",
     "text": [
      "accuracy_score:- 0.8651162790697674\n",
      "              precision    recall  f1-score   support\n",
      "\n",
      "           0       0.53      0.97      0.69        33\n",
      "           1       0.99      0.85      0.91       182\n",
      "\n",
      "    accuracy                           0.87       215\n",
      "   macro avg       0.76      0.91      0.80       215\n",
      "weighted avg       0.92      0.87      0.88       215\n",
      "\n"
     ]
    },
    {
     "data": {
      "image/png": "[encoded data removed]",
      "text/plain": [
       "<Figure size 432x288 with 2 Axes>"
      ]
     },
     "metadata": {
      "needs_background": "light"
     },
     "output_type": "display_data"
    }
   ],
   "source": [
    "x_train,x_test,y_train,y_test=train_test_split(f_scaled,l,test_size=.35,random_state=8)\n",
    "lg.fit(x_train,y_train)\n",
    "pred=lg.predict(x_test)\n",
    "confusion_plot()"
   ]
  },
  {
   "cell_type": "code",
   "execution_count": 121,
   "id": "ff94458a",
   "metadata": {},
   "outputs": [],
   "source": [
    "# Gradient Boosting Classifier \n",
    "\n",
    "def confusion_plot():\n",
    "    print('accuracy_score:-',accuracy_score(pred,y_test))\n",
    "    print(classification_report(pred,y_test))\n",
    "    matrix = confusion_matrix(pred,y_test)\n",
    "    sns.heatmap(matrix, annot=True, fmt=\"d\", cmap='Oranges', square=True)\n",
    "    plt.xlabel(\"predicted\")\n",
    "    plt.show()"
   ]
  },
  {
   "cell_type": "code",
   "execution_count": 122,
   "id": "1fbc0549",
   "metadata": {},
   "outputs": [
    {
     "name": "stdout",
     "output_type": "stream",
     "text": [
      "Accuracy score : 0.8943089430894309 Maximum Random Number : 8\n"
     ]
    }
   ],
   "source": [
    "\n",
    "maxacc=0\n",
    "maxrn=0\n",
    "\n",
    "for i in range(1,100):\n",
    "    x_train,x_test,y_train,y_test=train_test_split(f_scaled,l,test_size=.20,random_state=i)\n",
    "    gbc.fit(x_train,y_train)\n",
    "    pred=gbc.predict(x_test)\n",
    "    score=accuracy_score(pred,y_test)\n",
    "    if score>maxacc:\n",
    "        maxacc=score\n",
    "        maxrn=i\n",
    "print('Accuracy score :',maxacc,'Maximum Random Number :',maxrn)"
   ]
  },
  {
   "cell_type": "code",
   "execution_count": 123,
   "id": "1e73d651",
   "metadata": {},
   "outputs": [
    {
     "name": "stdout",
     "output_type": "stream",
     "text": [
      "accuracy_score:- 0.8325581395348837\n",
      "              precision    recall  f1-score   support\n",
      "\n",
      "           0       0.57      0.77      0.65        44\n",
      "           1       0.94      0.85      0.89       171\n",
      "\n",
      "    accuracy                           0.83       215\n",
      "   macro avg       0.75      0.81      0.77       215\n",
      "weighted avg       0.86      0.83      0.84       215\n",
      "\n"
     ]
    },
    {
     "data": {
      "image/png": "[encoded data removed]",
      "text/plain": [
       "<Figure size 432x288 with 2 Axes>"
      ]
     },
     "metadata": {
      "needs_background": "light"
     },
     "output_type": "display_data"
    }
   ],
   "source": [
    "x_train,x_test,y_train,y_test=train_test_split(f_scaled,l,test_size=.35,random_state=8)\n",
    "gbc.fit(x_train,y_train)\n",
    "pred=gbc.predict(x_test)\n",
    "confusion_plot()\n"
   ]
  },
  {
   "cell_type": "code",
   "execution_count": 124,
   "id": "c18917bf",
   "metadata": {},
   "outputs": [],
   "source": [
    "# Decision Tree Classifier \n",
    "\n",
    "def confusion_plot():\n",
    "    print('accuracy_score:-',accuracy_score(pred,y_test))\n",
    "    print(classification_report(pred,y_test))\n",
    "    matrix = confusion_matrix(pred,y_test)\n",
    "    sns.heatmap(matrix, annot=True, fmt=\"d\", cmap='viridis', square=True)\n",
    "    plt.xlabel(\"predicted\")\n",
    "    plt.show()"
   ]
  },
  {
   "cell_type": "code",
   "execution_count": 125,
   "id": "1eb2ad13",
   "metadata": {},
   "outputs": [
    {
     "name": "stdout",
     "output_type": "stream",
     "text": [
      "Accuracy score : 0.8093023255813954 Maximum Random Number : 11\n"
     ]
    }
   ],
   "source": [
    "maxacc=0\n",
    "maxrn=0\n",
    "\n",
    "for i in range(1,100):\n",
    "    x_train,x_test,y_train,y_test=train_test_split(f_scaled,l,test_size=.35,random_state=i)\n",
    "    dtc.fit(x_train,y_train)\n",
    "    pred=dtc.predict(x_test)\n",
    "    score=accuracy_score(pred,y_test)\n",
    "    if score>maxacc:\n",
    "        maxacc=score\n",
    "        maxrn=i\n",
    "print('Accuracy score :',maxacc,'Maximum Random Number :',maxrn)"
   ]
  },
  {
   "cell_type": "code",
   "execution_count": 126,
   "id": "b85aedfd",
   "metadata": {},
   "outputs": [
    {
     "name": "stdout",
     "output_type": "stream",
     "text": [
      "accuracy_score:- 0.8186046511627907\n",
      "              precision    recall  f1-score   support\n",
      "\n",
      "           0       0.67      0.74      0.70        62\n",
      "           1       0.89      0.85      0.87       153\n",
      "\n",
      "    accuracy                           0.82       215\n",
      "   macro avg       0.78      0.80      0.79       215\n",
      "weighted avg       0.83      0.82      0.82       215\n",
      "\n"
     ]
    },
    {
     "data": {
      "image/png": "[encoded data removed]",
      "text/plain": [
       "<Figure size 432x288 with 2 Axes>"
      ]
     },
     "metadata": {
      "needs_background": "light"
     },
     "output_type": "display_data"
    }
   ],
   "source": [
    "x_train,x_test,y_train,y_test=train_test_split(f_scaled,l,test_size=.35,random_state=11)\n",
    "dtc.fit(x_train,y_train)\n",
    "pred=dtc.predict(x_test)\n",
    "confusion_plot()"
   ]
  },
  {
   "cell_type": "code",
   "execution_count": 127,
   "id": "fa737942",
   "metadata": {},
   "outputs": [],
   "source": [
    "#KNeighbours Classifer \n",
    "\n",
    "def confusion_plot():\n",
    "    print('accuracy_score:-',accuracy_score(pred,y_test))\n",
    "    print(classification_report(pred,y_test))\n",
    "    matrix = confusion_matrix(pred,y_test)\n",
    "    sns.heatmap(matrix, annot=True, fmt=\"d\", cmap='YlOrBr', square=True)\n",
    "    plt.xlabel(\"predicted\")\n",
    "    plt.show()"
   ]
  },
  {
   "cell_type": "code",
   "execution_count": 128,
   "id": "a1bd9911",
   "metadata": {},
   "outputs": [
    {
     "name": "stdout",
     "output_type": "stream",
     "text": [
      "Accuracy score : 0.8861788617886179 Maximum Random Number : 8\n"
     ]
    }
   ],
   "source": [
    "maxacc=0\n",
    "maxrn=0\n",
    "\n",
    "for i in range(1,100):\n",
    "    x_train,x_test,y_train,y_test=train_test_split(f_scaled,l,test_size=.20,random_state=i)\n",
    "    knc.fit(x_train,y_train)\n",
    "    pred=knc.predict(x_test)\n",
    "    score=accuracy_score(pred,y_test)\n",
    "    if score>maxacc:\n",
    "        maxacc=score\n",
    "        maxrn=i\n",
    "print('Accuracy score :',maxacc,'Maximum Random Number :',maxrn)"
   ]
  },
  {
   "cell_type": "code",
   "execution_count": 129,
   "id": "5df8e513",
   "metadata": {},
   "outputs": [
    {
     "name": "stdout",
     "output_type": "stream",
     "text": [
      "accuracy_score:- 0.7804878048780488\n",
      "              precision    recall  f1-score   support\n",
      "\n",
      "           0       0.46      0.71      0.56        24\n",
      "           1       0.92      0.80      0.85        99\n",
      "\n",
      "    accuracy                           0.78       123\n",
      "   macro avg       0.69      0.75      0.71       123\n",
      "weighted avg       0.83      0.78      0.80       123\n",
      "\n"
     ]
    },
    {
     "data": {
      "image/png": "[encoded data removed]",
      "text/plain": [
       "<Figure size 432x288 with 2 Axes>"
      ]
     },
     "metadata": {
      "needs_background": "light"
     },
     "output_type": "display_data"
    }
   ],
   "source": [
    "x_train,x_test,y_train,y_test=train_test_split(f_scaled,l,test_size=.20,random_state=17)\n",
    "knc.fit(x_train,y_train)\n",
    "pred=knc.predict(x_test)\n",
    "confusion_plot()"
   ]
  },
  {
   "cell_type": "code",
   "execution_count": 130,
   "id": "067b13e4",
   "metadata": {},
   "outputs": [],
   "source": [
    "#Support Vector Classifier \n",
    "\n",
    "def confusion_plot():\n",
    "    print('accuracy_score:-',accuracy_score(pred,y_test))\n",
    "    print(classification_report(pred,y_test))\n",
    "    matrix = confusion_matrix(pred,y_test)\n",
    "    sns.heatmap(matrix, annot=True, fmt=\"d\", cmap='icefire', square=True)\n",
    "    plt.xlabel(\"predicted\")\n",
    "    plt.show()"
   ]
  },
  {
   "cell_type": "code",
   "execution_count": 131,
   "id": "648e539a",
   "metadata": {},
   "outputs": [
    {
     "name": "stdout",
     "output_type": "stream",
     "text": [
      "Accuracy score :  0.8861788617886179 Maximum Random Number :  8\n"
     ]
    }
   ],
   "source": [
    "maxacc=0\n",
    "maxrn=0\n",
    "\n",
    "for i in range(1,100):\n",
    "    x_train,x_test,y_train,y_test=train_test_split(f_scaled,l,test_size=.20,random_state=i)\n",
    "    svc.fit(x_train,y_train)\n",
    "    pred=svc.predict(x_test)\n",
    "    score=accuracy_score(pred,y_test)\n",
    "    if score>maxacc:\n",
    "        maxacc=score\n",
    "        maxrn=i\n",
    "print('Accuracy score : ',maxacc,'Maximum Random Number : ',maxrn)\n"
   ]
  },
  {
   "cell_type": "code",
   "execution_count": 132,
   "id": "2832cc42",
   "metadata": {},
   "outputs": [
    {
     "name": "stdout",
     "output_type": "stream",
     "text": [
      "accuracy_score:- 0.8211382113821138\n",
      "              precision    recall  f1-score   support\n",
      "\n",
      "           0       0.33      1.00      0.50        11\n",
      "           1       1.00      0.80      0.89       112\n",
      "\n",
      "    accuracy                           0.82       123\n",
      "   macro avg       0.67      0.90      0.70       123\n",
      "weighted avg       0.94      0.82      0.86       123\n",
      "\n"
     ]
    },
    {
     "data": {
      "image/png": "[encoded data removed]",
      "text/plain": [
       "<Figure size 432x288 with 2 Axes>"
      ]
     },
     "metadata": {
      "needs_background": "light"
     },
     "output_type": "display_data"
    }
   ],
   "source": [
    "x_train,x_test,y_train,y_test=train_test_split(f_scaled,l,test_size=.20,random_state=35)\n",
    "svc.fit(x_train,y_train)\n",
    "pred=svc.predict(x_test)\n",
    "confusion_plot()"
   ]
  },
  {
   "cell_type": "code",
   "execution_count": 133,
   "id": "185c5948",
   "metadata": {},
   "outputs": [],
   "source": [
    "#Random Forest Classifer \n",
    "\n",
    "def confusion_plot():\n",
    "    print('accuracy_score:-',accuracy_score(pred,y_test))\n",
    "    print(classification_report(pred,y_test))\n",
    "    matrix = confusion_matrix(pred,y_test)\n",
    "    sns.heatmap(matrix, annot=True, fmt=\"d\", cmap='PiYG', square=True)\n",
    "    plt.xlabel(\"predicted\")\n",
    "    plt.show()"
   ]
  },
  {
   "cell_type": "code",
   "execution_count": 134,
   "id": "9146b1ce",
   "metadata": {},
   "outputs": [
    {
     "name": "stdout",
     "output_type": "stream",
     "text": [
      "Accuracy score : 0.8780487804878049 Maximum Random Number : 19\n"
     ]
    }
   ],
   "source": [
    "maxacc=0\n",
    "maxrn=0\n",
    "\n",
    "for i in range(1,100):\n",
    "    x_train,x_test,y_train,y_test=train_test_split(f_scaled,l,test_size=.20,random_state=i)\n",
    "    rfc.fit(x_train,y_train)\n",
    "    pred=rfc.predict(x_test)\n",
    "    score=accuracy_score(pred,y_test)\n",
    "    if score>maxacc:\n",
    "        maxacc=score\n",
    "        maxrn=i\n",
    "print('Accuracy score :',maxacc,'Maximum Random Number :',maxrn)\n"
   ]
  },
  {
   "cell_type": "code",
   "execution_count": 135,
   "id": "c7a79e29",
   "metadata": {},
   "outputs": [
    {
     "name": "stdout",
     "output_type": "stream",
     "text": [
      "accuracy_score:- 0.8048780487804879\n",
      "              precision    recall  f1-score   support\n",
      "\n",
      "           0       0.51      0.76      0.61        25\n",
      "           1       0.93      0.82      0.87        98\n",
      "\n",
      "    accuracy                           0.80       123\n",
      "   macro avg       0.72      0.79      0.74       123\n",
      "weighted avg       0.85      0.80      0.82       123\n",
      "\n"
     ]
    },
    {
     "data": {
      "image/png": "[encoded data removed]",
      "text/plain": [
       "<Figure size 432x288 with 2 Axes>"
      ]
     },
     "metadata": {
      "needs_background": "light"
     },
     "output_type": "display_data"
    }
   ],
   "source": [
    "\n",
    "x_train,x_test,y_train,y_test=train_test_split(f_scaled,l,test_size=.20,random_state=17)\n",
    "rfc.fit(x_train,y_train)\n",
    "pred=rfc.predict(x_test)\n",
    "confusion_plot()\n"
   ]
  },
  {
   "cell_type": "code",
   "execution_count": 136,
   "id": "829d1ff8",
   "metadata": {},
   "outputs": [],
   "source": [
    "# Gradient Boosting Classifier \n",
    "\n",
    "def confusion_plot():\n",
    "    print('accuracy_score:-',accuracy_score(pred,y_test))\n",
    "    print(classification_report(pred,y_test))\n",
    "    matrix = confusion_matrix(pred,y_test)\n",
    "    sns.heatmap(matrix, annot=True, fmt=\"d\", cmap='mako', square=True)\n",
    "    plt.xlabel(\"predicted\")\n",
    "    plt.show()"
   ]
  },
  {
   "cell_type": "code",
   "execution_count": 137,
   "id": "b6f90727",
   "metadata": {},
   "outputs": [
    {
     "name": "stdout",
     "output_type": "stream",
     "text": [
      "Accuracy score :  0.8943089430894309 Maximum Random Number : 8\n"
     ]
    }
   ],
   "source": [
    "\n",
    "maxacc=0\n",
    "maxrn=0\n",
    "\n",
    "for i in range(1,100):\n",
    "    x_train,x_test,y_train,y_test=train_test_split(f_scaled,l,test_size=.20,random_state=i)\n",
    "    gbc.fit(x_train,y_train)\n",
    "    pred=gbc.predict(x_test)\n",
    "    score=accuracy_score(pred,y_test)\n",
    "    if score>maxacc:\n",
    "        maxacc=score\n",
    "        maxrn=i\n",
    "print('Accuracy score : ',maxacc,'Maximum Random Number :',maxrn)"
   ]
  },
  {
   "cell_type": "code",
   "execution_count": 138,
   "id": "e50208b4",
   "metadata": {},
   "outputs": [
    {
     "name": "stdout",
     "output_type": "stream",
     "text": [
      "accuracy_score:- 0.827906976744186\n",
      "              precision    recall  f1-score   support\n",
      "\n",
      "           0       0.57      0.76      0.65        45\n",
      "           1       0.93      0.85      0.89       170\n",
      "\n",
      "    accuracy                           0.83       215\n",
      "   macro avg       0.75      0.80      0.77       215\n",
      "weighted avg       0.85      0.83      0.84       215\n",
      "\n"
     ]
    },
    {
     "data": {
      "image/png": "[encoded data removed]",
      "text/plain": [
       "<Figure size 432x288 with 2 Axes>"
      ]
     },
     "metadata": {
      "needs_background": "light"
     },
     "output_type": "display_data"
    }
   ],
   "source": [
    "x_train,x_test,y_train,y_test=train_test_split(f_scaled,l,test_size=.35,random_state=8)\n",
    "gbc.fit(x_train,y_train)\n",
    "pred=gbc.predict(x_test)\n",
    "confusion_plot()\n"
   ]
  },
  {
   "cell_type": "code",
   "execution_count": 139,
   "id": "87816c53",
   "metadata": {},
   "outputs": [],
   "source": [
    "#Ada Boost Classifier \n",
    "\n",
    "def confusion_plot():\n",
    "    print('accuracy_score:-',accuracy_score(pred,y_test))\n",
    "    print(classification_report(pred,y_test))\n",
    "    matrix = confusion_matrix(pred,y_test)\n",
    "    sns.heatmap(matrix, annot=True, fmt=\"d\", cmap='crest', square=True)\n",
    "    plt.xlabel(\"predicted\")\n",
    "    plt.show()"
   ]
  },
  {
   "cell_type": "code",
   "execution_count": 140,
   "id": "e02200e9",
   "metadata": {},
   "outputs": [
    {
     "name": "stdout",
     "output_type": "stream",
     "text": [
      "Accuracy score : 0.8432432432432433 Maximum Random Number : 13\n"
     ]
    }
   ],
   "source": [
    "maxacc=0\n",
    "maxrn=0\n",
    "\n",
    "for i in range(1,100):\n",
    "    x_train,x_test,y_train,y_test=train_test_split(f_scaled,l,test_size=.30,random_state=i)\n",
    "    abc.fit(x_train,y_train)\n",
    "    pred=abc.predict(x_test)\n",
    "    score=accuracy_score(pred,y_test)\n",
    "    if score>maxacc:\n",
    "        maxacc=score\n",
    "        maxrn=i\n",
    "print('Accuracy score :',maxacc,'Maximum Random Number :',maxrn)"
   ]
  },
  {
   "cell_type": "code",
   "execution_count": 141,
   "id": "64dfc8d1",
   "metadata": {},
   "outputs": [
    {
     "name": "stdout",
     "output_type": "stream",
     "text": [
      "accuracy_score:- 0.8432432432432433\n",
      "              precision    recall  f1-score   support\n",
      "\n",
      "           0       0.52      0.77      0.62        31\n",
      "           1       0.95      0.86      0.90       154\n",
      "\n",
      "    accuracy                           0.84       185\n",
      "   macro avg       0.74      0.82      0.76       185\n",
      "weighted avg       0.88      0.84      0.85       185\n",
      "\n"
     ]
    },
    {
     "data": {
      "image/png": "[encoded data removed]",
      "text/plain": [
       "<Figure size 432x288 with 2 Axes>"
      ]
     },
     "metadata": {
      "needs_background": "light"
     },
     "output_type": "display_data"
    }
   ],
   "source": [
    "x_train,x_test,y_train,y_test=train_test_split(f_scaled,l,test_size=.30,random_state=13)\n",
    "abc.fit(x_train,y_train)\n",
    "pred=abc.predict(x_test)\n",
    "confusion_plot()"
   ]
  },
  {
   "cell_type": "markdown",
   "id": "60513f7e",
   "metadata": {},
   "source": [
    "# 11) Cross Validation and Hyperparameter Tuning"
   ]
  },
  {
   "cell_type": "code",
   "execution_count": 142,
   "id": "757d2783",
   "metadata": {},
   "outputs": [
    {
     "name": "stdout",
     "output_type": "stream",
     "text": [
      "LogisticRegression()\n",
      "[0.80645161 0.82258065 0.75806452 0.75806452 0.78688525 0.78688525\n",
      " 0.86885246 0.85245902 0.80327869 0.83606557]\n",
      "0.8079587519830775\n",
      "GaussianNB()\n",
      "[0.79032258 0.82258065 0.74193548 0.75806452 0.78688525 0.78688525\n",
      " 0.86885246 0.83606557 0.80327869 0.83606557]\n",
      "0.8030936012691697\n",
      "DecisionTreeClassifier()\n",
      "[0.75806452 0.67741935 0.69354839 0.74193548 0.68852459 0.75409836\n",
      " 0.86885246 0.63934426 0.7704918  0.68852459]\n",
      "0.7280803807509255\n",
      "KNeighborsClassifier()\n",
      "[0.77419355 0.82258065 0.75806452 0.74193548 0.75409836 0.72131148\n",
      " 0.85245902 0.78688525 0.7704918  0.80327869]\n",
      "0.7785298783712321\n",
      "SVC()\n",
      "[0.80645161 0.82258065 0.77419355 0.75806452 0.78688525 0.78688525\n",
      " 0.85245902 0.85245902 0.80327869 0.83606557]\n",
      "0.8079323109465891\n",
      "RandomForestClassifier()\n",
      "[0.80645161 0.77419355 0.77419355 0.74193548 0.7704918  0.7704918\n",
      " 0.86885246 0.7704918  0.78688525 0.78688525]\n",
      "0.7850872554204125\n",
      "GradientBoostingClassifier()\n",
      "[0.77419355 0.80645161 0.69354839 0.72580645 0.73770492 0.7704918\n",
      " 0.86885246 0.7704918  0.7704918  0.85245902]\n",
      "0.7770491803278688\n",
      "AdaBoostClassifier()\n",
      "[0.75806452 0.77419355 0.74193548 0.74193548 0.80327869 0.7704918\n",
      " 0.86885246 0.81967213 0.7704918  0.83606557]\n",
      "0.7884981491274459\n"
     ]
    }
   ],
   "source": [
    "for model in model_list:\n",
    "    score=cross_val_score(model,f_scaled,l,cv=10)\n",
    "    print(model)\n",
    "    print(score)\n",
    "    print(score.mean())"
   ]
  },
  {
   "cell_type": "markdown",
   "id": "a8cdd929",
   "metadata": {},
   "source": [
    "<br><font face = \"TImes New Roman\" size = \"3\"> <b> It can be confirmed from the above Cross Validation that Logistic Regression is the best model as it as the highest possible accuracy of all the other machine learning models. The random state with respect to other models is almost the same but it is well and truly confirmed from the cross validation that Logistic Regrssion is the best model. We will once again try and split the dataset to check again for the accuracy of this particular model below "
   ]
  },
  {
   "cell_type": "code",
   "execution_count": 143,
   "id": "e5e0187b",
   "metadata": {},
   "outputs": [],
   "source": [
    "x_train,x_test,y_train,y_test= train_test_split(f_scaled, l, test_size= 0.35, random_state = 355)"
   ]
  },
  {
   "cell_type": "code",
   "execution_count": 144,
   "id": "85183835",
   "metadata": {},
   "outputs": [
    {
     "data": {
      "text/html": [
       "<style>#sk-container-id-1 {color: black;background-color: white;}#sk-container-id-1 pre{padding: 0;}#sk-container-id-1 div.sk-toggleable {background-color: white;}#sk-container-id-1 label.sk-toggleable__label {cursor: pointer;display: block;width: 100%;margin-bottom: 0;padding: 0.3em;box-sizing: border-box;text-align: center;}#sk-container-id-1 label.sk-toggleable__label-arrow:before {content: \"▸\";float: left;margin-right: 0.25em;color: #696969;}#sk-container-id-1 label.sk-toggleable__label-arrow:hover:before {color: black;}#sk-container-id-1 div.sk-estimator:hover label.sk-toggleable__label-arrow:before {color: black;}#sk-container-id-1 div.sk-toggleable__content {max-height: 0;max-width: 0;overflow: hidden;text-align: left;background-color: #f0f8ff;}#sk-container-id-1 div.sk-toggleable__content pre {margin: 0.2em;color: black;border-radius: 0.25em;background-color: #f0f8ff;}#sk-container-id-1 input.sk-toggleable__control:checked~div.sk-toggleable__content {max-height: 200px;max-width: 100%;overflow: auto;}#sk-container-id-1 input.sk-toggleable__control:checked~label.sk-toggleable__label-arrow:before {content: \"▾\";}#sk-container-id-1 div.sk-estimator input.sk-toggleable__control:checked~label.sk-toggleable__label {background-color: #d4ebff;}#sk-container-id-1 div.sk-label input.sk-toggleable__control:checked~label.sk-toggleable__label {background-color: #d4ebff;}#sk-container-id-1 input.sk-hidden--visually {border: 0;clip: rect(1px 1px 1px 1px);clip: rect(1px, 1px, 1px, 1px);height: 1px;margin: -1px;overflow: hidden;padding: 0;position: absolute;width: 1px;}#sk-container-id-1 div.sk-estimator {font-family: monospace;background-color: #f0f8ff;border: 1px dotted black;border-radius: 0.25em;box-sizing: border-box;margin-bottom: 0.5em;}#sk-container-id-1 div.sk-estimator:hover {background-color: #d4ebff;}#sk-container-id-1 div.sk-parallel-item::after {content: \"\";width: 100%;border-bottom: 1px solid gray;flex-grow: 1;}#sk-container-id-1 div.sk-label:hover label.sk-toggleable__label {background-color: #d4ebff;}#sk-container-id-1 div.sk-serial::before {content: \"\";position: absolute;border-left: 1px solid gray;box-sizing: border-box;top: 0;bottom: 0;left: 50%;z-index: 0;}#sk-container-id-1 div.sk-serial {display: flex;flex-direction: column;align-items: center;background-color: white;padding-right: 0.2em;padding-left: 0.2em;position: relative;}#sk-container-id-1 div.sk-item {position: relative;z-index: 1;}#sk-container-id-1 div.sk-parallel {display: flex;align-items: stretch;justify-content: center;background-color: white;position: relative;}#sk-container-id-1 div.sk-item::before, #sk-container-id-1 div.sk-parallel-item::before {content: \"\";position: absolute;border-left: 1px solid gray;box-sizing: border-box;top: 0;bottom: 0;left: 50%;z-index: -1;}#sk-container-id-1 div.sk-parallel-item {display: flex;flex-direction: column;z-index: 1;position: relative;background-color: white;}#sk-container-id-1 div.sk-parallel-item:first-child::after {align-self: flex-end;width: 50%;}#sk-container-id-1 div.sk-parallel-item:last-child::after {align-self: flex-start;width: 50%;}#sk-container-id-1 div.sk-parallel-item:only-child::after {width: 0;}#sk-container-id-1 div.sk-dashed-wrapped {border: 1px dashed gray;margin: 0 0.4em 0.5em 0.4em;box-sizing: border-box;padding-bottom: 0.4em;background-color: white;}#sk-container-id-1 div.sk-label label {font-family: monospace;font-weight: bold;display: inline-block;line-height: 1.2em;}#sk-container-id-1 div.sk-label-container {text-align: center;}#sk-container-id-1 div.sk-container {/* jupyter's `normalize.less` sets `[hidden] { display: none; }` but bootstrap.min.css set `[hidden] { display: none !important; }` so we also need the `!important` here to be able to override the default hidden behavior on the sphinx rendered scikit-learn.org. See: https://github.com/scikit-learn/scikit-learn/issues/21755 */display: inline-block !important;position: relative;}#sk-container-id-1 div.sk-text-repr-fallback {display: none;}</style><div id=\"sk-container-id-1\" class=\"sk-top-container\"><div class=\"sk-text-repr-fallback\"><pre>LogisticRegression()</pre><b>In a Jupyter environment, please rerun this cell to show the HTML representation or trust the notebook. <br />On GitHub, the HTML representation is unable to render, please try loading this page with nbviewer.org.</b></div><div class=\"sk-container\" hidden><div class=\"sk-item\"><div class=\"sk-estimator sk-toggleable\"><input class=\"sk-toggleable__control sk-hidden--visually\" id=\"sk-estimator-id-1\" type=\"checkbox\" checked><label for=\"sk-estimator-id-1\" class=\"sk-toggleable__label sk-toggleable__label-arrow\">LogisticRegression</label><div class=\"sk-toggleable__content\"><pre>LogisticRegression()</pre></div></div></div></div></div>"
      ],
      "text/plain": [
       "LogisticRegression()"
      ]
     },
     "execution_count": 144,
     "metadata": {},
     "output_type": "execute_result"
    }
   ],
   "source": [
    "log_reg = LogisticRegression ()\n",
    "log_reg.fit(x_train, y_train)"
   ]
  },
  {
   "cell_type": "code",
   "execution_count": 145,
   "id": "3c369246",
   "metadata": {},
   "outputs": [
    {
     "data": {
      "text/plain": [
       "array([1, 0, 1, 1, 1, 1, 1, 1, 0, 1, 1, 0, 1, 1, 1, 1, 1, 0, 1, 1, 1, 1,\n",
       "       1, 1, 1, 0, 1, 1, 1, 1, 1, 1, 1, 1, 1, 1, 1, 1, 1, 1, 1, 1, 0, 1,\n",
       "       1, 0, 1, 1, 1, 1, 1, 1, 1, 1, 1, 1, 1, 1, 1, 1, 1, 1, 1, 0, 1, 0,\n",
       "       1, 1, 1, 1, 1, 1, 1, 0, 1, 1, 1, 0, 1, 0, 1, 1, 1, 1, 1, 1, 1, 0,\n",
       "       1, 1, 1, 1, 1, 1, 1, 1, 1, 1, 1, 1, 0, 1, 1, 1, 1, 1, 1, 1, 1, 1,\n",
       "       1, 0, 1, 1, 1, 1, 1, 1, 1, 1, 1, 1, 1, 1, 1, 1, 1, 1, 1, 1, 1, 0,\n",
       "       1, 1, 1, 1, 1, 1, 1, 1, 1, 0, 1, 1, 1, 1, 1, 1, 0, 0, 1, 1, 0, 1,\n",
       "       1, 1, 1, 1, 1, 1, 1, 1, 1, 1, 1, 1, 1, 1, 0, 1, 1, 1, 1, 1, 1, 1,\n",
       "       1, 1, 1, 1, 1, 0, 1, 1, 1, 1, 1, 1, 1, 1, 1, 1, 1, 1, 1, 1, 1, 1,\n",
       "       1, 1, 0, 1, 1, 1, 1, 1, 1, 1, 1, 1, 1, 1, 1, 1, 1], dtype=int64)"
      ]
     },
     "execution_count": 145,
     "metadata": {},
     "output_type": "execute_result"
    }
   ],
   "source": [
    "y_pred = log_reg.predict(x_test)\n",
    "y_pred"
   ]
  },
  {
   "cell_type": "code",
   "execution_count": 146,
   "id": "2823a126",
   "metadata": {},
   "outputs": [
    {
     "data": {
      "text/plain": [
       "0.8186046511627907"
      ]
     },
     "execution_count": 146,
     "metadata": {},
     "output_type": "execute_result"
    }
   ],
   "source": [
    "accuracy = accuracy_score(y_test,y_pred)\n",
    "accuracy"
   ]
  },
  {
   "cell_type": "code",
   "execution_count": 147,
   "id": "91a90a7f",
   "metadata": {},
   "outputs": [],
   "source": [
    "def metric_score (clf, x_train,x_test,y_train,y_test, train=True):\n",
    "    if train:\n",
    "        y_pred = clf.predict (x_train)\n",
    "        print(\"\\n==================Train Result======================\")\n",
    "        print (f\"Accuracy Score: {accuracy_score(y_train, y_pred) * 100:.2f}%\")\n",
    "    elif train==False:\n",
    "        pred = clf.predict(x_test)\n",
    "        print(\"\\n====================Test Result=========================\")\n",
    "        print (f\"Accuracy Score: {accuracy_score(y_test, pred)* 100:.2f}%\")\n",
    "        print ('\\n \\n Test Classification Report \\n', classification_report(y_test, pred, digits=2)) "
   ]
  },
  {
   "cell_type": "code",
   "execution_count": 148,
   "id": "9304c421",
   "metadata": {},
   "outputs": [
    {
     "name": "stdout",
     "output_type": "stream",
     "text": [
      "\n",
      "==================Train Result======================\n",
      "Accuracy Score: 80.45%\n",
      "\n",
      "====================Test Result=========================\n",
      "Accuracy Score: 81.86%\n",
      "\n",
      " \n",
      " Test Classification Report \n",
      "               precision    recall  f1-score   support\n",
      "\n",
      "           0       0.91      0.36      0.52        58\n",
      "           1       0.81      0.99      0.89       157\n",
      "\n",
      "    accuracy                           0.82       215\n",
      "   macro avg       0.86      0.67      0.70       215\n",
      "weighted avg       0.84      0.82      0.79       215\n",
      "\n"
     ]
    }
   ],
   "source": [
    "#Training Score \n",
    "metric_score(log_reg,x_train,x_test, y_train, y_test, train=True) \n",
    "\n",
    "#Testing Score\n",
    "metric_score(log_reg,x_train,x_test,y_train,y_test,train=False)"
   ]
  },
  {
   "cell_type": "markdown",
   "id": "dcdba66b",
   "metadata": {},
   "source": [
    "# 12) ROC Curve"
   ]
  },
  {
   "cell_type": "code",
   "execution_count": 149,
   "id": "484a7602",
   "metadata": {},
   "outputs": [],
   "source": [
    "fpr, tpr, thresholds = roc_curve (y_test, y_pred)"
   ]
  },
  {
   "cell_type": "code",
   "execution_count": 150,
   "id": "4657e656",
   "metadata": {},
   "outputs": [
    {
     "name": "stdout",
     "output_type": "stream",
     "text": [
      "Threshold Will Be = [2 1 0]\n",
      "True Positive rate =  [0.         0.98726115 1.        ]\n",
      "False Positive rate =  [0.         0.63793103 1.        ]\n"
     ]
    }
   ],
   "source": [
    "print ('Threshold Will Be =', thresholds)\n",
    "print ('True Positive rate = ',tpr)\n",
    "print ('False Positive rate = ',fpr)"
   ]
  },
  {
   "cell_type": "code",
   "execution_count": 151,
   "id": "89f4816a",
   "metadata": {},
   "outputs": [
    {
     "name": "stdout",
     "output_type": "stream",
     "text": [
      "0.6746650560070283\n"
     ]
    }
   ],
   "source": [
    "AUC = roc_auc_score (y_test,y_pred)\n",
    "print (AUC)"
   ]
  },
  {
   "cell_type": "code",
   "execution_count": 152,
   "id": "c4884f29",
   "metadata": {},
   "outputs": [
    {
     "data": {
      "text/plain": [
       "<matplotlib.legend.Legend at 0x1b41e4dde80>"
      ]
     },
     "execution_count": 152,
     "metadata": {},
     "output_type": "execute_result"
    },
    {
     "data": {
      "image/png": "[encoded data removed]",
      "text/plain": [
       "<Figure size 432x288 with 1 Axes>"
      ]
     },
     "metadata": {
      "needs_background": "light"
     },
     "output_type": "display_data"
    }
   ],
   "source": [
    "plt.plot(fpr, tpr, color='red', label='ROC Curve')\n",
    "plt.plot([0, 1], [0, 1], color='green', linestyle='--' )\n",
    "plt.xlabel('False Positive Rate')\n",
    "plt.ylabel('True Positive Rate')\n",
    "plt.title('Receiver Operating Characteristic Curve')\n",
    "plt.legend()"
   ]
  },
  {
   "cell_type": "code",
   "execution_count": null,
   "id": "f334e709",
   "metadata": {},
   "outputs": [],
   "source": []
  }
 ],
 "metadata": {
  "kernelspec": {
   "display_name": "Python 3",
   "language": "python",
   "name": "python3"
  },
  "language_info": {
   "codemirror_mode": {
    "name": "ipython",
    "version": 3
   },
   "file_extension": ".py",
   "mimetype": "text/x-python",
   "name": "python",
   "nbconvert_exporter": "python",
   "pygments_lexer": "ipython3",
   "version": "3.8.8"
  }
 },
 "nbformat": 4,
 "nbformat_minor": 5
}
