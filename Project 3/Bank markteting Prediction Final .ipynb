{
 "cells": [
  {
   "cell_type": "code",
   "execution_count": 64,
   "id": "cf1ad8ad",
   "metadata": {},
   "outputs": [
    {
     "ename": "ImportError",
     "evalue": "cannot import name '_OneToOneFeatureMixin' from 'sklearn.base' (c:\\ProgramData\\Anaconda3\\lib\\site-packages\\sklearn\\base.py)",
     "output_type": "error",
     "traceback": [
      "\u001b[1;31m---------------------------------------------------------------------------\u001b[0m",
      "\u001b[1;31mImportError\u001b[0m                               Traceback (most recent call last)",
      "\u001b[1;32mc:\\ProgramData\\Anaconda3\\lib\\site-packages\\imblearn\\base.py\u001b[0m in \u001b[0;36m<module>\u001b[1;34m\u001b[0m\n\u001b[0;32m     13\u001b[0m     \u001b[1;31m# scikit-learn >= 1.2\u001b[0m\u001b[1;33m\u001b[0m\u001b[1;33m\u001b[0m\u001b[1;33m\u001b[0m\u001b[0m\n\u001b[1;32m---> 14\u001b[1;33m     \u001b[1;32mfrom\u001b[0m \u001b[0msklearn\u001b[0m\u001b[1;33m.\u001b[0m\u001b[0mbase\u001b[0m \u001b[1;32mimport\u001b[0m \u001b[0mOneToOneFeatureMixin\u001b[0m\u001b[1;33m\u001b[0m\u001b[1;33m\u001b[0m\u001b[0m\n\u001b[0m\u001b[0;32m     15\u001b[0m \u001b[1;32mexcept\u001b[0m \u001b[0mImportError\u001b[0m\u001b[1;33m:\u001b[0m\u001b[1;33m\u001b[0m\u001b[1;33m\u001b[0m\u001b[0m\n",
      "\u001b[1;31mImportError\u001b[0m: cannot import name 'OneToOneFeatureMixin' from 'sklearn.base' (c:\\ProgramData\\Anaconda3\\lib\\site-packages\\sklearn\\base.py)",
      "\nDuring handling of the above exception, another exception occurred:\n",
      "\u001b[1;31mImportError\u001b[0m                               Traceback (most recent call last)",
      "\u001b[1;32m<ipython-input-64-79dd2295962a>\u001b[0m in \u001b[0;36m<module>\u001b[1;34m\u001b[0m\n\u001b[0;32m     13\u001b[0m \u001b[1;32mfrom\u001b[0m \u001b[0msklearn\u001b[0m\u001b[1;33m.\u001b[0m\u001b[0mneighbors\u001b[0m \u001b[1;32mimport\u001b[0m \u001b[0mKNeighborsClassifier\u001b[0m\u001b[1;33m\u001b[0m\u001b[1;33m\u001b[0m\u001b[0m\n\u001b[0;32m     14\u001b[0m \u001b[1;32mfrom\u001b[0m \u001b[0msklearn\u001b[0m\u001b[1;33m.\u001b[0m\u001b[0msvm\u001b[0m \u001b[1;32mimport\u001b[0m \u001b[0mSVC\u001b[0m\u001b[1;33m\u001b[0m\u001b[1;33m\u001b[0m\u001b[0m\n\u001b[1;32m---> 15\u001b[1;33m \u001b[1;32mfrom\u001b[0m \u001b[0mimblearn\u001b[0m\u001b[1;33m.\u001b[0m\u001b[0mover_sampling\u001b[0m \u001b[1;32mimport\u001b[0m \u001b[0mSMOTE\u001b[0m\u001b[1;33m\u001b[0m\u001b[1;33m\u001b[0m\u001b[0m\n\u001b[0m\u001b[0;32m     16\u001b[0m \u001b[0mget_ipython\u001b[0m\u001b[1;33m(\u001b[0m\u001b[1;33m)\u001b[0m\u001b[1;33m.\u001b[0m\u001b[0mrun_line_magic\u001b[0m\u001b[1;33m(\u001b[0m\u001b[1;34m'matplotlib'\u001b[0m\u001b[1;33m,\u001b[0m \u001b[1;34m'inline'\u001b[0m\u001b[1;33m)\u001b[0m\u001b[1;33m\u001b[0m\u001b[1;33m\u001b[0m\u001b[0m\n\u001b[0;32m     17\u001b[0m \u001b[0mpd\u001b[0m\u001b[1;33m.\u001b[0m\u001b[0mpandas\u001b[0m\u001b[1;33m.\u001b[0m\u001b[0mset_option\u001b[0m\u001b[1;33m(\u001b[0m\u001b[1;34m'display.max_columns'\u001b[0m\u001b[1;33m,\u001b[0m \u001b[1;32mNone\u001b[0m\u001b[1;33m)\u001b[0m\u001b[1;33m\u001b[0m\u001b[1;33m\u001b[0m\u001b[0m\n",
      "\u001b[1;32mc:\\ProgramData\\Anaconda3\\lib\\site-packages\\imblearn\\__init__.py\u001b[0m in \u001b[0;36m<module>\u001b[1;34m\u001b[0m\n\u001b[0;32m     50\u001b[0m     \u001b[1;31m# process, as it may not be compiled yet\u001b[0m\u001b[1;33m\u001b[0m\u001b[1;33m\u001b[0m\u001b[1;33m\u001b[0m\u001b[0m\n\u001b[0;32m     51\u001b[0m \u001b[1;32melse\u001b[0m\u001b[1;33m:\u001b[0m\u001b[1;33m\u001b[0m\u001b[1;33m\u001b[0m\u001b[0m\n\u001b[1;32m---> 52\u001b[1;33m     from . import (\n\u001b[0m\u001b[0;32m     53\u001b[0m         \u001b[0mcombine\u001b[0m\u001b[1;33m,\u001b[0m\u001b[1;33m\u001b[0m\u001b[1;33m\u001b[0m\u001b[0m\n\u001b[0;32m     54\u001b[0m         \u001b[0mensemble\u001b[0m\u001b[1;33m,\u001b[0m\u001b[1;33m\u001b[0m\u001b[1;33m\u001b[0m\u001b[0m\n",
      "\u001b[1;32mc:\\ProgramData\\Anaconda3\\lib\\site-packages\\imblearn\\combine\\__init__.py\u001b[0m in \u001b[0;36m<module>\u001b[1;34m\u001b[0m\n\u001b[0;32m      3\u001b[0m \"\"\"\n\u001b[0;32m      4\u001b[0m \u001b[1;33m\u001b[0m\u001b[0m\n\u001b[1;32m----> 5\u001b[1;33m \u001b[1;32mfrom\u001b[0m \u001b[1;33m.\u001b[0m\u001b[0m_smote_enn\u001b[0m \u001b[1;32mimport\u001b[0m \u001b[0mSMOTEENN\u001b[0m\u001b[1;33m\u001b[0m\u001b[1;33m\u001b[0m\u001b[0m\n\u001b[0m\u001b[0;32m      6\u001b[0m \u001b[1;32mfrom\u001b[0m \u001b[1;33m.\u001b[0m\u001b[0m_smote_tomek\u001b[0m \u001b[1;32mimport\u001b[0m \u001b[0mSMOTETomek\u001b[0m\u001b[1;33m\u001b[0m\u001b[1;33m\u001b[0m\u001b[0m\n\u001b[0;32m      7\u001b[0m \u001b[1;33m\u001b[0m\u001b[0m\n",
      "\u001b[1;32mc:\\ProgramData\\Anaconda3\\lib\\site-packages\\imblearn\\combine\\_smote_enn.py\u001b[0m in \u001b[0;36m<module>\u001b[1;34m\u001b[0m\n\u001b[0;32m     10\u001b[0m \u001b[1;32mfrom\u001b[0m \u001b[0msklearn\u001b[0m\u001b[1;33m.\u001b[0m\u001b[0mutils\u001b[0m \u001b[1;32mimport\u001b[0m \u001b[0mcheck_X_y\u001b[0m\u001b[1;33m\u001b[0m\u001b[1;33m\u001b[0m\u001b[0m\n\u001b[0;32m     11\u001b[0m \u001b[1;33m\u001b[0m\u001b[0m\n\u001b[1;32m---> 12\u001b[1;33m \u001b[1;32mfrom\u001b[0m \u001b[1;33m.\u001b[0m\u001b[1;33m.\u001b[0m\u001b[0mbase\u001b[0m \u001b[1;32mimport\u001b[0m \u001b[0mBaseSampler\u001b[0m\u001b[1;33m\u001b[0m\u001b[1;33m\u001b[0m\u001b[0m\n\u001b[0m\u001b[0;32m     13\u001b[0m \u001b[1;32mfrom\u001b[0m \u001b[1;33m.\u001b[0m\u001b[1;33m.\u001b[0m\u001b[0mover_sampling\u001b[0m \u001b[1;32mimport\u001b[0m \u001b[0mSMOTE\u001b[0m\u001b[1;33m\u001b[0m\u001b[1;33m\u001b[0m\u001b[0m\n\u001b[0;32m     14\u001b[0m \u001b[1;32mfrom\u001b[0m \u001b[1;33m.\u001b[0m\u001b[1;33m.\u001b[0m\u001b[0mover_sampling\u001b[0m\u001b[1;33m.\u001b[0m\u001b[0mbase\u001b[0m \u001b[1;32mimport\u001b[0m \u001b[0mBaseOverSampler\u001b[0m\u001b[1;33m\u001b[0m\u001b[1;33m\u001b[0m\u001b[0m\n",
      "\u001b[1;32mc:\\ProgramData\\Anaconda3\\lib\\site-packages\\imblearn\\base.py\u001b[0m in \u001b[0;36m<module>\u001b[1;34m\u001b[0m\n\u001b[0;32m     14\u001b[0m     \u001b[1;32mfrom\u001b[0m \u001b[0msklearn\u001b[0m\u001b[1;33m.\u001b[0m\u001b[0mbase\u001b[0m \u001b[1;32mimport\u001b[0m \u001b[0mOneToOneFeatureMixin\u001b[0m\u001b[1;33m\u001b[0m\u001b[1;33m\u001b[0m\u001b[0m\n\u001b[0;32m     15\u001b[0m \u001b[1;32mexcept\u001b[0m \u001b[0mImportError\u001b[0m\u001b[1;33m:\u001b[0m\u001b[1;33m\u001b[0m\u001b[1;33m\u001b[0m\u001b[0m\n\u001b[1;32m---> 16\u001b[1;33m     \u001b[1;32mfrom\u001b[0m \u001b[0msklearn\u001b[0m\u001b[1;33m.\u001b[0m\u001b[0mbase\u001b[0m \u001b[1;32mimport\u001b[0m \u001b[0m_OneToOneFeatureMixin\u001b[0m \u001b[1;32mas\u001b[0m \u001b[0mOneToOneFeatureMixin\u001b[0m\u001b[1;33m\u001b[0m\u001b[1;33m\u001b[0m\u001b[0m\n\u001b[0m\u001b[0;32m     17\u001b[0m \u001b[1;32mfrom\u001b[0m \u001b[0msklearn\u001b[0m\u001b[1;33m.\u001b[0m\u001b[0mpreprocessing\u001b[0m \u001b[1;32mimport\u001b[0m \u001b[0mlabel_binarize\u001b[0m\u001b[1;33m\u001b[0m\u001b[1;33m\u001b[0m\u001b[0m\n\u001b[0;32m     18\u001b[0m \u001b[1;32mfrom\u001b[0m \u001b[0msklearn\u001b[0m\u001b[1;33m.\u001b[0m\u001b[0mutils\u001b[0m\u001b[1;33m.\u001b[0m\u001b[0mmulticlass\u001b[0m \u001b[1;32mimport\u001b[0m \u001b[0mcheck_classification_targets\u001b[0m\u001b[1;33m\u001b[0m\u001b[1;33m\u001b[0m\u001b[0m\n",
      "\u001b[1;31mImportError\u001b[0m: cannot import name '_OneToOneFeatureMixin' from 'sklearn.base' (c:\\ProgramData\\Anaconda3\\lib\\site-packages\\sklearn\\base.py)"
     ]
    }
   ],
   "source": [
    "import pandas as pd\n",
    "import numpy as np\n",
    "import seaborn as sns\n",
    "import matplotlib.pyplot as plt\n",
    "import statsmodels.api as sm\n",
    "from sklearn.preprocessing import StandardScaler, LabelEncoder\n",
    "from sklearn.model_selection import train_test_split, RandomizedSearchCV\n",
    "from sklearn.decomposition import PCA\n",
    "from sklearn.metrics import confusion_matrix, accuracy_score, precision_score, recall_score, f1_score\n",
    "from sklearn.linear_model import LogisticRegression\n",
    "from sklearn.tree import DecisionTreeClassifier\n",
    "from sklearn.ensemble import RandomForestClassifier, AdaBoostClassifier, GradientBoostingClassifier\n",
    "from sklearn.neighbors import KNeighborsClassifier\n",
    "from sklearn.svm import SVC\n",
    "from imblearn.over_sampling import SMOTE\n",
    "%matplotlib inline\n",
    "pd.pandas.set_option('display.max_columns', None)"
   ]
  },
  {
   "cell_type": "code",
   "execution_count": 58,
   "id": "ddaa2080",
   "metadata": {},
   "outputs": [
    {
     "name": "stdout",
     "output_type": "stream",
     "text": [
      "Collecting imblearn\n",
      "  Using cached imblearn-0.0-py2.py3-none-any.whl (1.9 kB)\n",
      "Collecting imbalanced-learn\n",
      "  Using cached imbalanced_learn-0.10.1-py3-none-any.whl (226 kB)\n",
      "Requirement already satisfied: numpy>=1.17.3 in c:\\programdata\\anaconda3\\lib\\site-packages (from imbalanced-learn->imblearn) (1.19.2)\n",
      "Requirement already satisfied: joblib>=1.1.1 in c:\\programdata\\anaconda3\\lib\\site-packages (from imbalanced-learn->imblearn) (1.2.0)\n",
      "Requirement already satisfied: scipy>=1.3.2 in c:\\programdata\\anaconda3\\lib\\site-packages (from imbalanced-learn->imblearn) (1.5.2)\n",
      "Requirement already satisfied: scikit-learn>=1.0.2 in c:\\programdata\\anaconda3\\lib\\site-packages (from imbalanced-learn->imblearn) (1.2.2)\n",
      "Requirement already satisfied: threadpoolctl>=2.0.0 in c:\\programdata\\anaconda3\\lib\\site-packages (from imbalanced-learn->imblearn) (2.1.0)\n",
      "Installing collected packages: imbalanced-learn, imblearn\n",
      "Successfully installed imbalanced-learn-0.10.1 imblearn-0.0\n",
      "Note: you may need to restart the kernel to use updated packages.\n"
     ]
    }
   ],
   "source": [
    "pip install imblearn"
   ]
  },
  {
   "cell_type": "code",
   "execution_count": 2,
   "id": "271a3de2",
   "metadata": {},
   "outputs": [],
   "source": [
    "df_train = pd.read_csv('https://raw.githubusercontent.com/dsrscientist/dataset5/main/termdeposit_train.csv')\n",
    "df_test = pd.read_csv('https://raw.githubusercontent.com/dsrscientist/dataset5/main/termdeposit_test.csv')"
   ]
  },
  {
   "cell_type": "code",
   "execution_count": 3,
   "id": "345774db",
   "metadata": {},
   "outputs": [
    {
     "data": {
      "text/html": [
       "<div>\n",
       "<style scoped>\n",
       "    .dataframe tbody tr th:only-of-type {\n",
       "        vertical-align: middle;\n",
       "    }\n",
       "\n",
       "    .dataframe tbody tr th {\n",
       "        vertical-align: top;\n",
       "    }\n",
       "\n",
       "    .dataframe thead th {\n",
       "        text-align: right;\n",
       "    }\n",
       "</style>\n",
       "<table border=\"1\" class=\"dataframe\">\n",
       "  <thead>\n",
       "    <tr style=\"text-align: right;\">\n",
       "      <th></th>\n",
       "      <th>ID</th>\n",
       "      <th>age</th>\n",
       "      <th>job</th>\n",
       "      <th>marital</th>\n",
       "      <th>education</th>\n",
       "      <th>default</th>\n",
       "      <th>balance</th>\n",
       "      <th>housing</th>\n",
       "      <th>loan</th>\n",
       "      <th>contact</th>\n",
       "      <th>day</th>\n",
       "      <th>month</th>\n",
       "      <th>duration</th>\n",
       "      <th>campaign</th>\n",
       "      <th>pdays</th>\n",
       "      <th>previous</th>\n",
       "      <th>poutcome</th>\n",
       "      <th>subscribed</th>\n",
       "    </tr>\n",
       "  </thead>\n",
       "  <tbody>\n",
       "    <tr>\n",
       "      <th>0</th>\n",
       "      <td>26110</td>\n",
       "      <td>56</td>\n",
       "      <td>admin.</td>\n",
       "      <td>married</td>\n",
       "      <td>unknown</td>\n",
       "      <td>no</td>\n",
       "      <td>1933</td>\n",
       "      <td>no</td>\n",
       "      <td>no</td>\n",
       "      <td>telephone</td>\n",
       "      <td>19</td>\n",
       "      <td>nov</td>\n",
       "      <td>44</td>\n",
       "      <td>2</td>\n",
       "      <td>-1</td>\n",
       "      <td>0</td>\n",
       "      <td>unknown</td>\n",
       "      <td>no</td>\n",
       "    </tr>\n",
       "    <tr>\n",
       "      <th>1</th>\n",
       "      <td>40576</td>\n",
       "      <td>31</td>\n",
       "      <td>unknown</td>\n",
       "      <td>married</td>\n",
       "      <td>secondary</td>\n",
       "      <td>no</td>\n",
       "      <td>3</td>\n",
       "      <td>no</td>\n",
       "      <td>no</td>\n",
       "      <td>cellular</td>\n",
       "      <td>20</td>\n",
       "      <td>jul</td>\n",
       "      <td>91</td>\n",
       "      <td>2</td>\n",
       "      <td>-1</td>\n",
       "      <td>0</td>\n",
       "      <td>unknown</td>\n",
       "      <td>no</td>\n",
       "    </tr>\n",
       "    <tr>\n",
       "      <th>2</th>\n",
       "      <td>15320</td>\n",
       "      <td>27</td>\n",
       "      <td>services</td>\n",
       "      <td>married</td>\n",
       "      <td>secondary</td>\n",
       "      <td>no</td>\n",
       "      <td>891</td>\n",
       "      <td>yes</td>\n",
       "      <td>no</td>\n",
       "      <td>cellular</td>\n",
       "      <td>18</td>\n",
       "      <td>jul</td>\n",
       "      <td>240</td>\n",
       "      <td>1</td>\n",
       "      <td>-1</td>\n",
       "      <td>0</td>\n",
       "      <td>unknown</td>\n",
       "      <td>no</td>\n",
       "    </tr>\n",
       "    <tr>\n",
       "      <th>3</th>\n",
       "      <td>43962</td>\n",
       "      <td>57</td>\n",
       "      <td>management</td>\n",
       "      <td>divorced</td>\n",
       "      <td>tertiary</td>\n",
       "      <td>no</td>\n",
       "      <td>3287</td>\n",
       "      <td>no</td>\n",
       "      <td>no</td>\n",
       "      <td>cellular</td>\n",
       "      <td>22</td>\n",
       "      <td>jun</td>\n",
       "      <td>867</td>\n",
       "      <td>1</td>\n",
       "      <td>84</td>\n",
       "      <td>3</td>\n",
       "      <td>success</td>\n",
       "      <td>yes</td>\n",
       "    </tr>\n",
       "    <tr>\n",
       "      <th>4</th>\n",
       "      <td>29842</td>\n",
       "      <td>31</td>\n",
       "      <td>technician</td>\n",
       "      <td>married</td>\n",
       "      <td>secondary</td>\n",
       "      <td>no</td>\n",
       "      <td>119</td>\n",
       "      <td>yes</td>\n",
       "      <td>no</td>\n",
       "      <td>cellular</td>\n",
       "      <td>4</td>\n",
       "      <td>feb</td>\n",
       "      <td>380</td>\n",
       "      <td>1</td>\n",
       "      <td>-1</td>\n",
       "      <td>0</td>\n",
       "      <td>unknown</td>\n",
       "      <td>no</td>\n",
       "    </tr>\n",
       "  </tbody>\n",
       "</table>\n",
       "</div>"
      ],
      "text/plain": [
       "      ID  age         job   marital  education default  balance housing loan  \\\n",
       "0  26110   56      admin.   married    unknown      no     1933      no   no   \n",
       "1  40576   31     unknown   married  secondary      no        3      no   no   \n",
       "2  15320   27    services   married  secondary      no      891     yes   no   \n",
       "3  43962   57  management  divorced   tertiary      no     3287      no   no   \n",
       "4  29842   31  technician   married  secondary      no      119     yes   no   \n",
       "\n",
       "     contact  day month  duration  campaign  pdays  previous poutcome  \\\n",
       "0  telephone   19   nov        44         2     -1         0  unknown   \n",
       "1   cellular   20   jul        91         2     -1         0  unknown   \n",
       "2   cellular   18   jul       240         1     -1         0  unknown   \n",
       "3   cellular   22   jun       867         1     84         3  success   \n",
       "4   cellular    4   feb       380         1     -1         0  unknown   \n",
       "\n",
       "  subscribed  \n",
       "0         no  \n",
       "1         no  \n",
       "2         no  \n",
       "3        yes  \n",
       "4         no  "
      ]
     },
     "execution_count": 3,
     "metadata": {},
     "output_type": "execute_result"
    }
   ],
   "source": [
    "#Train Data\n",
    "\n",
    "df_train.head()"
   ]
  },
  {
   "cell_type": "code",
   "execution_count": 4,
   "id": "15b91a5e",
   "metadata": {},
   "outputs": [
    {
     "data": {
      "text/html": [
       "<div>\n",
       "<style scoped>\n",
       "    .dataframe tbody tr th:only-of-type {\n",
       "        vertical-align: middle;\n",
       "    }\n",
       "\n",
       "    .dataframe tbody tr th {\n",
       "        vertical-align: top;\n",
       "    }\n",
       "\n",
       "    .dataframe thead th {\n",
       "        text-align: right;\n",
       "    }\n",
       "</style>\n",
       "<table border=\"1\" class=\"dataframe\">\n",
       "  <thead>\n",
       "    <tr style=\"text-align: right;\">\n",
       "      <th></th>\n",
       "      <th>ID</th>\n",
       "      <th>age</th>\n",
       "      <th>job</th>\n",
       "      <th>marital</th>\n",
       "      <th>education</th>\n",
       "      <th>default</th>\n",
       "      <th>balance</th>\n",
       "      <th>housing</th>\n",
       "      <th>loan</th>\n",
       "      <th>contact</th>\n",
       "      <th>day</th>\n",
       "      <th>month</th>\n",
       "      <th>duration</th>\n",
       "      <th>campaign</th>\n",
       "      <th>pdays</th>\n",
       "      <th>previous</th>\n",
       "      <th>poutcome</th>\n",
       "    </tr>\n",
       "  </thead>\n",
       "  <tbody>\n",
       "    <tr>\n",
       "      <th>0</th>\n",
       "      <td>38441</td>\n",
       "      <td>32</td>\n",
       "      <td>services</td>\n",
       "      <td>married</td>\n",
       "      <td>secondary</td>\n",
       "      <td>no</td>\n",
       "      <td>118</td>\n",
       "      <td>yes</td>\n",
       "      <td>no</td>\n",
       "      <td>cellular</td>\n",
       "      <td>15</td>\n",
       "      <td>may</td>\n",
       "      <td>20</td>\n",
       "      <td>6</td>\n",
       "      <td>-1</td>\n",
       "      <td>0</td>\n",
       "      <td>unknown</td>\n",
       "    </tr>\n",
       "    <tr>\n",
       "      <th>1</th>\n",
       "      <td>40403</td>\n",
       "      <td>78</td>\n",
       "      <td>retired</td>\n",
       "      <td>divorced</td>\n",
       "      <td>primary</td>\n",
       "      <td>no</td>\n",
       "      <td>2787</td>\n",
       "      <td>no</td>\n",
       "      <td>no</td>\n",
       "      <td>telephone</td>\n",
       "      <td>1</td>\n",
       "      <td>jul</td>\n",
       "      <td>372</td>\n",
       "      <td>1</td>\n",
       "      <td>-1</td>\n",
       "      <td>0</td>\n",
       "      <td>unknown</td>\n",
       "    </tr>\n",
       "    <tr>\n",
       "      <th>2</th>\n",
       "      <td>3709</td>\n",
       "      <td>31</td>\n",
       "      <td>self-employed</td>\n",
       "      <td>single</td>\n",
       "      <td>tertiary</td>\n",
       "      <td>no</td>\n",
       "      <td>144</td>\n",
       "      <td>yes</td>\n",
       "      <td>no</td>\n",
       "      <td>unknown</td>\n",
       "      <td>16</td>\n",
       "      <td>may</td>\n",
       "      <td>676</td>\n",
       "      <td>1</td>\n",
       "      <td>-1</td>\n",
       "      <td>0</td>\n",
       "      <td>unknown</td>\n",
       "    </tr>\n",
       "    <tr>\n",
       "      <th>3</th>\n",
       "      <td>37422</td>\n",
       "      <td>57</td>\n",
       "      <td>services</td>\n",
       "      <td>single</td>\n",
       "      <td>primary</td>\n",
       "      <td>no</td>\n",
       "      <td>3777</td>\n",
       "      <td>yes</td>\n",
       "      <td>no</td>\n",
       "      <td>telephone</td>\n",
       "      <td>13</td>\n",
       "      <td>may</td>\n",
       "      <td>65</td>\n",
       "      <td>2</td>\n",
       "      <td>-1</td>\n",
       "      <td>0</td>\n",
       "      <td>unknown</td>\n",
       "    </tr>\n",
       "    <tr>\n",
       "      <th>4</th>\n",
       "      <td>12527</td>\n",
       "      <td>45</td>\n",
       "      <td>blue-collar</td>\n",
       "      <td>divorced</td>\n",
       "      <td>secondary</td>\n",
       "      <td>no</td>\n",
       "      <td>-705</td>\n",
       "      <td>no</td>\n",
       "      <td>yes</td>\n",
       "      <td>unknown</td>\n",
       "      <td>3</td>\n",
       "      <td>jul</td>\n",
       "      <td>111</td>\n",
       "      <td>1</td>\n",
       "      <td>-1</td>\n",
       "      <td>0</td>\n",
       "      <td>unknown</td>\n",
       "    </tr>\n",
       "  </tbody>\n",
       "</table>\n",
       "</div>"
      ],
      "text/plain": [
       "      ID  age            job   marital  education default  balance housing  \\\n",
       "0  38441   32       services   married  secondary      no      118     yes   \n",
       "1  40403   78        retired  divorced    primary      no     2787      no   \n",
       "2   3709   31  self-employed    single   tertiary      no      144     yes   \n",
       "3  37422   57       services    single    primary      no     3777     yes   \n",
       "4  12527   45    blue-collar  divorced  secondary      no     -705      no   \n",
       "\n",
       "  loan    contact  day month  duration  campaign  pdays  previous poutcome  \n",
       "0   no   cellular   15   may        20         6     -1         0  unknown  \n",
       "1   no  telephone    1   jul       372         1     -1         0  unknown  \n",
       "2   no    unknown   16   may       676         1     -1         0  unknown  \n",
       "3   no  telephone   13   may        65         2     -1         0  unknown  \n",
       "4  yes    unknown    3   jul       111         1     -1         0  unknown  "
      ]
     },
     "execution_count": 4,
     "metadata": {},
     "output_type": "execute_result"
    }
   ],
   "source": [
    "#Test Data \n",
    "\n",
    "df_test.head()"
   ]
  },
  {
   "cell_type": "code",
   "execution_count": 5,
   "id": "01654f27",
   "metadata": {},
   "outputs": [
    {
     "data": {
      "text/plain": [
       "((31647, 18), (13564, 17))"
      ]
     },
     "execution_count": 5,
     "metadata": {},
     "output_type": "execute_result"
    }
   ],
   "source": [
    "df_train.shape, df_test.shape"
   ]
  },
  {
   "cell_type": "code",
   "execution_count": 6,
   "id": "d7515baf",
   "metadata": {},
   "outputs": [
    {
     "data": {
      "text/plain": [
       "Index(['ID', 'age', 'job', 'marital', 'education', 'default', 'balance',\n",
       "       'housing', 'loan', 'contact', 'day', 'month', 'duration', 'campaign',\n",
       "       'pdays', 'previous', 'poutcome', 'subscribed'],\n",
       "      dtype='object')"
      ]
     },
     "execution_count": 6,
     "metadata": {},
     "output_type": "execute_result"
    }
   ],
   "source": [
    "df_train.columns "
   ]
  },
  {
   "cell_type": "code",
   "execution_count": 7,
   "id": "35542023",
   "metadata": {},
   "outputs": [
    {
     "data": {
      "text/plain": [
       "Index(['ID', 'age', 'job', 'marital', 'education', 'default', 'balance',\n",
       "       'housing', 'loan', 'contact', 'day', 'month', 'duration', 'campaign',\n",
       "       'pdays', 'previous', 'poutcome'],\n",
       "      dtype='object')"
      ]
     },
     "execution_count": 7,
     "metadata": {},
     "output_type": "execute_result"
    }
   ],
   "source": [
    "df_test.columns "
   ]
  },
  {
   "cell_type": "markdown",
   "id": "a398d7a0",
   "metadata": {},
   "source": [
    "Data Types "
   ]
  },
  {
   "cell_type": "code",
   "execution_count": 8,
   "id": "131d55b7",
   "metadata": {},
   "outputs": [
    {
     "data": {
      "text/html": [
       "<div>\n",
       "<style scoped>\n",
       "    .dataframe tbody tr th:only-of-type {\n",
       "        vertical-align: middle;\n",
       "    }\n",
       "\n",
       "    .dataframe tbody tr th {\n",
       "        vertical-align: top;\n",
       "    }\n",
       "\n",
       "    .dataframe thead th {\n",
       "        text-align: right;\n",
       "    }\n",
       "</style>\n",
       "<table border=\"1\" class=\"dataframe\">\n",
       "  <thead>\n",
       "    <tr style=\"text-align: right;\">\n",
       "      <th></th>\n",
       "      <th>Train</th>\n",
       "      <th>Test</th>\n",
       "    </tr>\n",
       "  </thead>\n",
       "  <tbody>\n",
       "    <tr>\n",
       "      <th>ID</th>\n",
       "      <td>int64</td>\n",
       "      <td>int64</td>\n",
       "    </tr>\n",
       "    <tr>\n",
       "      <th>age</th>\n",
       "      <td>int64</td>\n",
       "      <td>int64</td>\n",
       "    </tr>\n",
       "    <tr>\n",
       "      <th>job</th>\n",
       "      <td>object</td>\n",
       "      <td>object</td>\n",
       "    </tr>\n",
       "    <tr>\n",
       "      <th>marital</th>\n",
       "      <td>object</td>\n",
       "      <td>object</td>\n",
       "    </tr>\n",
       "    <tr>\n",
       "      <th>education</th>\n",
       "      <td>object</td>\n",
       "      <td>object</td>\n",
       "    </tr>\n",
       "    <tr>\n",
       "      <th>default</th>\n",
       "      <td>object</td>\n",
       "      <td>object</td>\n",
       "    </tr>\n",
       "    <tr>\n",
       "      <th>balance</th>\n",
       "      <td>int64</td>\n",
       "      <td>int64</td>\n",
       "    </tr>\n",
       "    <tr>\n",
       "      <th>housing</th>\n",
       "      <td>object</td>\n",
       "      <td>object</td>\n",
       "    </tr>\n",
       "    <tr>\n",
       "      <th>loan</th>\n",
       "      <td>object</td>\n",
       "      <td>object</td>\n",
       "    </tr>\n",
       "    <tr>\n",
       "      <th>contact</th>\n",
       "      <td>object</td>\n",
       "      <td>object</td>\n",
       "    </tr>\n",
       "    <tr>\n",
       "      <th>day</th>\n",
       "      <td>int64</td>\n",
       "      <td>int64</td>\n",
       "    </tr>\n",
       "    <tr>\n",
       "      <th>month</th>\n",
       "      <td>object</td>\n",
       "      <td>object</td>\n",
       "    </tr>\n",
       "    <tr>\n",
       "      <th>duration</th>\n",
       "      <td>int64</td>\n",
       "      <td>int64</td>\n",
       "    </tr>\n",
       "    <tr>\n",
       "      <th>campaign</th>\n",
       "      <td>int64</td>\n",
       "      <td>int64</td>\n",
       "    </tr>\n",
       "    <tr>\n",
       "      <th>pdays</th>\n",
       "      <td>int64</td>\n",
       "      <td>int64</td>\n",
       "    </tr>\n",
       "    <tr>\n",
       "      <th>previous</th>\n",
       "      <td>int64</td>\n",
       "      <td>int64</td>\n",
       "    </tr>\n",
       "    <tr>\n",
       "      <th>poutcome</th>\n",
       "      <td>object</td>\n",
       "      <td>object</td>\n",
       "    </tr>\n",
       "    <tr>\n",
       "      <th>subscribed</th>\n",
       "      <td>object</td>\n",
       "      <td>NaN</td>\n",
       "    </tr>\n",
       "  </tbody>\n",
       "</table>\n",
       "</div>"
      ],
      "text/plain": [
       "             Train    Test\n",
       "ID           int64   int64\n",
       "age          int64   int64\n",
       "job         object  object\n",
       "marital     object  object\n",
       "education   object  object\n",
       "default     object  object\n",
       "balance      int64   int64\n",
       "housing     object  object\n",
       "loan        object  object\n",
       "contact     object  object\n",
       "day          int64   int64\n",
       "month       object  object\n",
       "duration     int64   int64\n",
       "campaign     int64   int64\n",
       "pdays        int64   int64\n",
       "previous     int64   int64\n",
       "poutcome    object  object\n",
       "subscribed  object     NaN"
      ]
     },
     "execution_count": 8,
     "metadata": {},
     "output_type": "execute_result"
    }
   ],
   "source": [
    "data_types_train = pd.DataFrame(df_train.dtypes, columns = ['Train'])\n",
    "data_types_test = pd.DataFrame(df_test.dtypes, columns = ['Test'])\n",
    "data_types = pd.concat([data_types_train, data_types_test], axis = 1)\n",
    "data_types"
   ]
  },
  {
   "cell_type": "markdown",
   "id": "c5ed4448",
   "metadata": {},
   "source": [
    "Missing Values "
   ]
  },
  {
   "cell_type": "code",
   "execution_count": 9,
   "id": "980d1e0f",
   "metadata": {},
   "outputs": [
    {
     "data": {
      "text/html": [
       "<div>\n",
       "<style scoped>\n",
       "    .dataframe tbody tr th:only-of-type {\n",
       "        vertical-align: middle;\n",
       "    }\n",
       "\n",
       "    .dataframe tbody tr th {\n",
       "        vertical-align: top;\n",
       "    }\n",
       "\n",
       "    .dataframe thead th {\n",
       "        text-align: right;\n",
       "    }\n",
       "</style>\n",
       "<table border=\"1\" class=\"dataframe\">\n",
       "  <thead>\n",
       "    <tr style=\"text-align: right;\">\n",
       "      <th></th>\n",
       "      <th>Train</th>\n",
       "      <th>Test</th>\n",
       "    </tr>\n",
       "  </thead>\n",
       "  <tbody>\n",
       "    <tr>\n",
       "      <th>ID</th>\n",
       "      <td>0</td>\n",
       "      <td>0.0</td>\n",
       "    </tr>\n",
       "    <tr>\n",
       "      <th>age</th>\n",
       "      <td>0</td>\n",
       "      <td>0.0</td>\n",
       "    </tr>\n",
       "    <tr>\n",
       "      <th>job</th>\n",
       "      <td>0</td>\n",
       "      <td>0.0</td>\n",
       "    </tr>\n",
       "    <tr>\n",
       "      <th>marital</th>\n",
       "      <td>0</td>\n",
       "      <td>0.0</td>\n",
       "    </tr>\n",
       "    <tr>\n",
       "      <th>education</th>\n",
       "      <td>0</td>\n",
       "      <td>0.0</td>\n",
       "    </tr>\n",
       "    <tr>\n",
       "      <th>default</th>\n",
       "      <td>0</td>\n",
       "      <td>0.0</td>\n",
       "    </tr>\n",
       "    <tr>\n",
       "      <th>balance</th>\n",
       "      <td>0</td>\n",
       "      <td>0.0</td>\n",
       "    </tr>\n",
       "    <tr>\n",
       "      <th>housing</th>\n",
       "      <td>0</td>\n",
       "      <td>0.0</td>\n",
       "    </tr>\n",
       "    <tr>\n",
       "      <th>loan</th>\n",
       "      <td>0</td>\n",
       "      <td>0.0</td>\n",
       "    </tr>\n",
       "    <tr>\n",
       "      <th>contact</th>\n",
       "      <td>0</td>\n",
       "      <td>0.0</td>\n",
       "    </tr>\n",
       "    <tr>\n",
       "      <th>day</th>\n",
       "      <td>0</td>\n",
       "      <td>0.0</td>\n",
       "    </tr>\n",
       "    <tr>\n",
       "      <th>month</th>\n",
       "      <td>0</td>\n",
       "      <td>0.0</td>\n",
       "    </tr>\n",
       "    <tr>\n",
       "      <th>duration</th>\n",
       "      <td>0</td>\n",
       "      <td>0.0</td>\n",
       "    </tr>\n",
       "    <tr>\n",
       "      <th>campaign</th>\n",
       "      <td>0</td>\n",
       "      <td>0.0</td>\n",
       "    </tr>\n",
       "    <tr>\n",
       "      <th>pdays</th>\n",
       "      <td>0</td>\n",
       "      <td>0.0</td>\n",
       "    </tr>\n",
       "    <tr>\n",
       "      <th>previous</th>\n",
       "      <td>0</td>\n",
       "      <td>0.0</td>\n",
       "    </tr>\n",
       "    <tr>\n",
       "      <th>poutcome</th>\n",
       "      <td>0</td>\n",
       "      <td>0.0</td>\n",
       "    </tr>\n",
       "    <tr>\n",
       "      <th>subscribed</th>\n",
       "      <td>0</td>\n",
       "      <td>NaN</td>\n",
       "    </tr>\n",
       "  </tbody>\n",
       "</table>\n",
       "</div>"
      ],
      "text/plain": [
       "            Train  Test\n",
       "ID              0   0.0\n",
       "age             0   0.0\n",
       "job             0   0.0\n",
       "marital         0   0.0\n",
       "education       0   0.0\n",
       "default         0   0.0\n",
       "balance         0   0.0\n",
       "housing         0   0.0\n",
       "loan            0   0.0\n",
       "contact         0   0.0\n",
       "day             0   0.0\n",
       "month           0   0.0\n",
       "duration        0   0.0\n",
       "campaign        0   0.0\n",
       "pdays           0   0.0\n",
       "previous        0   0.0\n",
       "poutcome        0   0.0\n",
       "subscribed      0   NaN"
      ]
     },
     "execution_count": 9,
     "metadata": {},
     "output_type": "execute_result"
    }
   ],
   "source": [
    "missing_values_train = pd.DataFrame(df_train.isna().sum(), columns = ['Train'])\n",
    "missing_values_test = pd.DataFrame(df_test.isna().sum(), columns = ['Test'])\n",
    "missing_values = pd.concat([missing_values_train, missing_values_test], axis = 1)\n",
    "missing_values"
   ]
  },
  {
   "cell_type": "markdown",
   "id": "068446e7",
   "metadata": {},
   "source": [
    "Details of Subscribers "
   ]
  },
  {
   "cell_type": "code",
   "execution_count": 10,
   "id": "18cf41ac",
   "metadata": {},
   "outputs": [],
   "source": [
    "y_df = df_train[df_train['subscribed'] == 'yes']"
   ]
  },
  {
   "cell_type": "markdown",
   "id": "7e03f6b4",
   "metadata": {},
   "source": [
    "Numerical Analysis of Train Data "
   ]
  },
  {
   "cell_type": "code",
   "execution_count": 11,
   "id": "2b1737df",
   "metadata": {},
   "outputs": [
    {
     "data": {
      "text/html": [
       "<div>\n",
       "<style scoped>\n",
       "    .dataframe tbody tr th:only-of-type {\n",
       "        vertical-align: middle;\n",
       "    }\n",
       "\n",
       "    .dataframe tbody tr th {\n",
       "        vertical-align: top;\n",
       "    }\n",
       "\n",
       "    .dataframe thead th {\n",
       "        text-align: right;\n",
       "    }\n",
       "</style>\n",
       "<table border=\"1\" class=\"dataframe\">\n",
       "  <thead>\n",
       "    <tr style=\"text-align: right;\">\n",
       "      <th></th>\n",
       "      <th>age</th>\n",
       "      <th>balance</th>\n",
       "      <th>duration</th>\n",
       "      <th>campaign</th>\n",
       "      <th>pdays</th>\n",
       "      <th>previous</th>\n",
       "    </tr>\n",
       "  </thead>\n",
       "  <tbody>\n",
       "    <tr>\n",
       "      <th>count</th>\n",
       "      <td>31647.000000</td>\n",
       "      <td>31647.000000</td>\n",
       "      <td>31647.000000</td>\n",
       "      <td>31647.000000</td>\n",
       "      <td>31647.000000</td>\n",
       "      <td>31647.000000</td>\n",
       "    </tr>\n",
       "    <tr>\n",
       "      <th>mean</th>\n",
       "      <td>40.957247</td>\n",
       "      <td>1363.890258</td>\n",
       "      <td>258.113534</td>\n",
       "      <td>2.765697</td>\n",
       "      <td>39.576042</td>\n",
       "      <td>0.574272</td>\n",
       "    </tr>\n",
       "    <tr>\n",
       "      <th>std</th>\n",
       "      <td>10.625134</td>\n",
       "      <td>3028.304293</td>\n",
       "      <td>257.118973</td>\n",
       "      <td>3.113830</td>\n",
       "      <td>99.317592</td>\n",
       "      <td>2.422529</td>\n",
       "    </tr>\n",
       "    <tr>\n",
       "      <th>min</th>\n",
       "      <td>18.000000</td>\n",
       "      <td>-8019.000000</td>\n",
       "      <td>0.000000</td>\n",
       "      <td>1.000000</td>\n",
       "      <td>-1.000000</td>\n",
       "      <td>0.000000</td>\n",
       "    </tr>\n",
       "    <tr>\n",
       "      <th>25%</th>\n",
       "      <td>33.000000</td>\n",
       "      <td>73.000000</td>\n",
       "      <td>104.000000</td>\n",
       "      <td>1.000000</td>\n",
       "      <td>-1.000000</td>\n",
       "      <td>0.000000</td>\n",
       "    </tr>\n",
       "    <tr>\n",
       "      <th>50%</th>\n",
       "      <td>39.000000</td>\n",
       "      <td>450.000000</td>\n",
       "      <td>180.000000</td>\n",
       "      <td>2.000000</td>\n",
       "      <td>-1.000000</td>\n",
       "      <td>0.000000</td>\n",
       "    </tr>\n",
       "    <tr>\n",
       "      <th>75%</th>\n",
       "      <td>48.000000</td>\n",
       "      <td>1431.000000</td>\n",
       "      <td>318.500000</td>\n",
       "      <td>3.000000</td>\n",
       "      <td>-1.000000</td>\n",
       "      <td>0.000000</td>\n",
       "    </tr>\n",
       "    <tr>\n",
       "      <th>max</th>\n",
       "      <td>95.000000</td>\n",
       "      <td>102127.000000</td>\n",
       "      <td>4918.000000</td>\n",
       "      <td>63.000000</td>\n",
       "      <td>871.000000</td>\n",
       "      <td>275.000000</td>\n",
       "    </tr>\n",
       "  </tbody>\n",
       "</table>\n",
       "</div>"
      ],
      "text/plain": [
       "                age        balance      duration      campaign         pdays  \\\n",
       "count  31647.000000   31647.000000  31647.000000  31647.000000  31647.000000   \n",
       "mean      40.957247    1363.890258    258.113534      2.765697     39.576042   \n",
       "std       10.625134    3028.304293    257.118973      3.113830     99.317592   \n",
       "min       18.000000   -8019.000000      0.000000      1.000000     -1.000000   \n",
       "25%       33.000000      73.000000    104.000000      1.000000     -1.000000   \n",
       "50%       39.000000     450.000000    180.000000      2.000000     -1.000000   \n",
       "75%       48.000000    1431.000000    318.500000      3.000000     -1.000000   \n",
       "max       95.000000  102127.000000   4918.000000     63.000000    871.000000   \n",
       "\n",
       "           previous  \n",
       "count  31647.000000  \n",
       "mean       0.574272  \n",
       "std        2.422529  \n",
       "min        0.000000  \n",
       "25%        0.000000  \n",
       "50%        0.000000  \n",
       "75%        0.000000  \n",
       "max      275.000000  "
      ]
     },
     "execution_count": 11,
     "metadata": {},
     "output_type": "execute_result"
    }
   ],
   "source": [
    "df_train[['age', 'balance', 'duration', 'campaign', 'pdays', 'previous']].describe()"
   ]
  },
  {
   "cell_type": "markdown",
   "id": "86cf2591",
   "metadata": {},
   "source": [
    "Numerical analysis of Test data "
   ]
  },
  {
   "cell_type": "code",
   "execution_count": 12,
   "id": "016f8555",
   "metadata": {},
   "outputs": [
    {
     "data": {
      "text/html": [
       "<div>\n",
       "<style scoped>\n",
       "    .dataframe tbody tr th:only-of-type {\n",
       "        vertical-align: middle;\n",
       "    }\n",
       "\n",
       "    .dataframe tbody tr th {\n",
       "        vertical-align: top;\n",
       "    }\n",
       "\n",
       "    .dataframe thead th {\n",
       "        text-align: right;\n",
       "    }\n",
       "</style>\n",
       "<table border=\"1\" class=\"dataframe\">\n",
       "  <thead>\n",
       "    <tr style=\"text-align: right;\">\n",
       "      <th></th>\n",
       "      <th>age</th>\n",
       "      <th>balance</th>\n",
       "      <th>duration</th>\n",
       "      <th>campaign</th>\n",
       "      <th>pdays</th>\n",
       "      <th>previous</th>\n",
       "    </tr>\n",
       "  </thead>\n",
       "  <tbody>\n",
       "    <tr>\n",
       "      <th>count</th>\n",
       "      <td>13564.000000</td>\n",
       "      <td>13564.000000</td>\n",
       "      <td>13564.000000</td>\n",
       "      <td>13564.000000</td>\n",
       "      <td>13564.000000</td>\n",
       "      <td>13564.000000</td>\n",
       "    </tr>\n",
       "    <tr>\n",
       "      <th>mean</th>\n",
       "      <td>40.887128</td>\n",
       "      <td>1358.496535</td>\n",
       "      <td>258.278679</td>\n",
       "      <td>2.759510</td>\n",
       "      <td>41.648555</td>\n",
       "      <td>0.594441</td>\n",
       "    </tr>\n",
       "    <tr>\n",
       "      <th>std</th>\n",
       "      <td>10.604108</td>\n",
       "      <td>3082.940623</td>\n",
       "      <td>258.488648</td>\n",
       "      <td>3.060928</td>\n",
       "      <td>101.985178</td>\n",
       "      <td>1.998193</td>\n",
       "    </tr>\n",
       "    <tr>\n",
       "      <th>min</th>\n",
       "      <td>18.000000</td>\n",
       "      <td>-3313.000000</td>\n",
       "      <td>0.000000</td>\n",
       "      <td>1.000000</td>\n",
       "      <td>-1.000000</td>\n",
       "      <td>0.000000</td>\n",
       "    </tr>\n",
       "    <tr>\n",
       "      <th>25%</th>\n",
       "      <td>33.000000</td>\n",
       "      <td>71.000000</td>\n",
       "      <td>102.000000</td>\n",
       "      <td>1.000000</td>\n",
       "      <td>-1.000000</td>\n",
       "      <td>0.000000</td>\n",
       "    </tr>\n",
       "    <tr>\n",
       "      <th>50%</th>\n",
       "      <td>39.000000</td>\n",
       "      <td>445.000000</td>\n",
       "      <td>180.000000</td>\n",
       "      <td>2.000000</td>\n",
       "      <td>-1.000000</td>\n",
       "      <td>0.000000</td>\n",
       "    </tr>\n",
       "    <tr>\n",
       "      <th>75%</th>\n",
       "      <td>48.000000</td>\n",
       "      <td>1413.250000</td>\n",
       "      <td>319.000000</td>\n",
       "      <td>3.000000</td>\n",
       "      <td>-1.000000</td>\n",
       "      <td>0.000000</td>\n",
       "    </tr>\n",
       "    <tr>\n",
       "      <th>max</th>\n",
       "      <td>95.000000</td>\n",
       "      <td>98417.000000</td>\n",
       "      <td>3253.000000</td>\n",
       "      <td>58.000000</td>\n",
       "      <td>850.000000</td>\n",
       "      <td>55.000000</td>\n",
       "    </tr>\n",
       "  </tbody>\n",
       "</table>\n",
       "</div>"
      ],
      "text/plain": [
       "                age       balance      duration      campaign         pdays  \\\n",
       "count  13564.000000  13564.000000  13564.000000  13564.000000  13564.000000   \n",
       "mean      40.887128   1358.496535    258.278679      2.759510     41.648555   \n",
       "std       10.604108   3082.940623    258.488648      3.060928    101.985178   \n",
       "min       18.000000  -3313.000000      0.000000      1.000000     -1.000000   \n",
       "25%       33.000000     71.000000    102.000000      1.000000     -1.000000   \n",
       "50%       39.000000    445.000000    180.000000      2.000000     -1.000000   \n",
       "75%       48.000000   1413.250000    319.000000      3.000000     -1.000000   \n",
       "max       95.000000  98417.000000   3253.000000     58.000000    850.000000   \n",
       "\n",
       "           previous  \n",
       "count  13564.000000  \n",
       "mean       0.594441  \n",
       "std        1.998193  \n",
       "min        0.000000  \n",
       "25%        0.000000  \n",
       "50%        0.000000  \n",
       "75%        0.000000  \n",
       "max       55.000000  "
      ]
     },
     "execution_count": 12,
     "metadata": {},
     "output_type": "execute_result"
    }
   ],
   "source": [
    "df_test[['age', 'balance', 'duration', 'campaign', 'pdays', 'previous']].describe()"
   ]
  },
  {
   "cell_type": "markdown",
   "id": "ec869710",
   "metadata": {},
   "source": [
    "Train Data Correlation "
   ]
  },
  {
   "cell_type": "code",
   "execution_count": 13,
   "id": "cdbb6c7f",
   "metadata": {},
   "outputs": [
    {
     "data": {
      "text/plain": [
       "<AxesSubplot:>"
      ]
     },
     "execution_count": 13,
     "metadata": {},
     "output_type": "execute_result"
    },
    {
     "data": {
      "image/png": "[encoded data removed]",
      "text/plain": [
       "<Figure size 1440x720 with 2 Axes>"
      ]
     },
     "metadata": {
      "needs_background": "light"
     },
     "output_type": "display_data"
    }
   ],
   "source": [
    "fig, ax = plt.subplots()\n",
    "fig.set_size_inches(20,10)\n",
    "sns.heatmap(df_train.corr(), vmax = 1, vmin = -1, square = False, annot = True)"
   ]
  },
  {
   "cell_type": "markdown",
   "id": "258cdfbe",
   "metadata": {},
   "source": [
    "Number of Subscribers "
   ]
  },
  {
   "cell_type": "code",
   "execution_count": 14,
   "id": "d5920a63",
   "metadata": {},
   "outputs": [
    {
     "data": {
      "text/plain": [
       "Text(0, 0.5, 'Count')"
      ]
     },
     "execution_count": 14,
     "metadata": {},
     "output_type": "execute_result"
    },
    {
     "data": {
      "image/png": "[encoded data removed]",
      "text/plain": [
       "<Figure size 432x288 with 1 Axes>"
      ]
     },
     "metadata": {
      "needs_background": "light"
     },
     "output_type": "display_data"
    }
   ],
   "source": [
    "sns.countplot(x = 'subscribed', data = df_train)\n",
    "plt.xticks(fontsize = 10, ha = \"right\")\n",
    "plt.yticks(fontsize = 10)\n",
    "plt.xlabel('Subscribed', fontsize = 15)\n",
    "plt.ylabel('Count', fontsize = 15)"
   ]
  },
  {
   "cell_type": "markdown",
   "id": "68dcc0bc",
   "metadata": {},
   "source": [
    "Binning of age for analysis "
   ]
  },
  {
   "cell_type": "code",
   "execution_count": 15,
   "id": "f25cd75c",
   "metadata": {},
   "outputs": [],
   "source": [
    "age_group_train = []\n",
    "for i in df_train['age']:\n",
    "    if (i >= 18 and i <= 25):\n",
    "        age_group_train.append('18-25')\n",
    "    elif (i >= 26 and i <= 33):\n",
    "        age_group_train.append('26-33')\n",
    "    elif (i >= 34 and i <= 41):\n",
    "        age_group_train.append('34-41')\n",
    "    elif (i >= 42 and i <= 49):\n",
    "        age_group_train.append('42-49')\n",
    "    elif (i >= 50 and i <= 57):\n",
    "        age_group_train.append('50-57')\n",
    "    elif (i >= 58 and i <= 65):\n",
    "        age_group_train.append('58-65')\n",
    "    elif (i >= 66 and i <= 73):\n",
    "        age_group_train.append('66-73')\n",
    "    elif (i >= 74 and i <= 81):\n",
    "        age_group_train.append('74-81')\n",
    "    elif (i >= 82 and i <= 89):\n",
    "        age_group_train.append('82-89')\n",
    "    elif (i >= 90 and i <= 97):\n",
    "        age_group_train.append('90-97')\n",
    "    else:\n",
    "        pass\n",
    "df_train['age_group'] = age_group_train\n",
    "age_group_test = []\n",
    "for i in df_test['age']:\n",
    "    if (i >= 18 and i <= 25):\n",
    "        age_group_test.append('18-25')\n",
    "    elif (i >= 26 and i <= 33):\n",
    "        age_group_test.append('26-33')\n",
    "    elif (i >= 34 and i <= 41):\n",
    "        age_group_test.append('34-41')\n",
    "    elif (i >= 42 and i <= 49):\n",
    "        age_group_test.append('42-49')\n",
    "    elif (i >= 50 and i <= 57):\n",
    "        age_group_test.append('50-57')\n",
    "    elif (i >= 58 and i <= 65):\n",
    "        age_group_test.append('58-65')\n",
    "    elif (i >= 66 and i <= 73):\n",
    "        age_group_test.append('66-73')\n",
    "    elif (i >= 74 and i <= 81):\n",
    "        age_group_test.append('74-81')\n",
    "    elif (i >= 82 and i <= 89):\n",
    "        age_group_test.append('82-89')\n",
    "    elif (i >= 90 and i <= 97):\n",
    "        age_group_test.append('90-97')\n",
    "    else:\n",
    "        pass\n",
    "df_test['age_group'] = age_group_test"
   ]
  },
  {
   "cell_type": "markdown",
   "id": "4b7d5231",
   "metadata": {},
   "source": [
    "Relation Between age group and subscription "
   ]
  },
  {
   "cell_type": "code",
   "execution_count": 16,
   "id": "613b3d3a",
   "metadata": {},
   "outputs": [
    {
     "data": {
      "text/plain": [
       "Text(0, 0.5, 'Count')"
      ]
     },
     "execution_count": 16,
     "metadata": {},
     "output_type": "execute_result"
    },
    {
     "data": {
      "image/png": "[encoded data removed]",
      "text/plain": [
       "<Figure size 720x576 with 1 Axes>"
      ]
     },
     "metadata": {
      "needs_background": "light"
     },
     "output_type": "display_data"
    }
   ],
   "source": [
    "plt.figure(figsize = (10, 8))\n",
    "sns.countplot(x ='age_group', hue = 'subscribed', data = df_train)\n",
    "plt.xticks(fontsize = 10, ha = \"right\")\n",
    "plt.yticks(fontsize = 10)\n",
    "plt.xlabel('Age Group', fontsize = 15)\n",
    "plt.ylabel('Count', fontsize = 15)"
   ]
  },
  {
   "cell_type": "markdown",
   "id": "48478814",
   "metadata": {},
   "source": [
    "28% of subscribers are between 26-33 years of age.\n",
    "52% of subscribers are between 26-41 years of age.\n",
    "68% of subscribers are between 26-49 years of age.\n",
    "80% of subscribers are between 26-57 years of age."
   ]
  },
  {
   "cell_type": "markdown",
   "id": "44c580d5",
   "metadata": {},
   "source": [
    "Distribution of age "
   ]
  },
  {
   "cell_type": "code",
   "execution_count": 17,
   "id": "f3a3f450",
   "metadata": {},
   "outputs": [
    {
     "name": "stderr",
     "output_type": "stream",
     "text": [
      "c:\\ProgramData\\Anaconda3\\lib\\site-packages\\seaborn\\distributions.py:2551: FutureWarning: `distplot` is a deprecated function and will be removed in a future version. Please adapt your code to use either `displot` (a figure-level function with similar flexibility) or `histplot` (an axes-level function for histograms).\n",
      "  warnings.warn(msg, FutureWarning)\n",
      "c:\\ProgramData\\Anaconda3\\lib\\site-packages\\seaborn\\distributions.py:2551: FutureWarning: `distplot` is a deprecated function and will be removed in a future version. Please adapt your code to use either `displot` (a figure-level function with similar flexibility) or `histplot` (an axes-level function for histograms).\n",
      "  warnings.warn(msg, FutureWarning)\n"
     ]
    },
    {
     "data": {
      "image/png": "[encoded data removed]",
      "text/plain": [
       "<Figure size 432x288 with 1 Axes>"
      ]
     },
     "metadata": {
      "needs_background": "light"
     },
     "output_type": "display_data"
    }
   ],
   "source": [
    "sns.distplot(df_train['age'])\n",
    "sns.distplot(y_df['age'])\n",
    "plt.xticks(fontsize = 10, ha = \"right\")\n",
    "plt.yticks(fontsize = 10)\n",
    "plt.xlabel('Age', fontsize = 15)\n",
    "plt.legend(['Age', 'Subscribers Age'])\n",
    "plt.show()"
   ]
  },
  {
   "cell_type": "markdown",
   "id": "e5ba250d",
   "metadata": {},
   "source": [
    "Relation Between Type of Job and Subscription "
   ]
  },
  {
   "cell_type": "code",
   "execution_count": 18,
   "id": "3c40752b",
   "metadata": {},
   "outputs": [
    {
     "data": {
      "text/plain": [
       "Text(0, 0.5, 'Count')"
      ]
     },
     "execution_count": 18,
     "metadata": {},
     "output_type": "execute_result"
    },
    {
     "data": {
      "image/png": "[encoded data removed]",
      "text/plain": [
       "<Figure size 1440x1152 with 1 Axes>"
      ]
     },
     "metadata": {
      "needs_background": "light"
     },
     "output_type": "display_data"
    }
   ],
   "source": [
    "plt.figure(figsize = (20, 16))\n",
    "sns.countplot(x ='job', hue = 'subscribed', data = df_train)\n",
    "plt.xticks(fontsize = 10, ha = \"right\")\n",
    "plt.yticks(fontsize = 10)\n",
    "plt.xlabel('Job', fontsize = 15)\n",
    "plt.ylabel('Count', fontsize = 15)"
   ]
  },
  {
   "cell_type": "markdown",
   "id": "81039bd5",
   "metadata": {},
   "source": [
    "Relation between Maritial status and Subscription "
   ]
  },
  {
   "cell_type": "code",
   "execution_count": 19,
   "id": "da7e08bc",
   "metadata": {},
   "outputs": [
    {
     "data": {
      "text/plain": [
       "Text(0, 0.5, 'Count')"
      ]
     },
     "execution_count": 19,
     "metadata": {},
     "output_type": "execute_result"
    },
    {
     "data": {
      "image/png": "[encoded data removed]",
      "text/plain": [
       "<Figure size 432x288 with 1 Axes>"
      ]
     },
     "metadata": {
      "needs_background": "light"
     },
     "output_type": "display_data"
    }
   ],
   "source": [
    "sns.countplot(x ='marital', hue = 'subscribed', data = df_train)\n",
    "plt.xticks(fontsize = 10, ha = \"right\")\n",
    "plt.yticks(fontsize = 10)\n",
    "plt.xlabel('Marital Status', fontsize = 15)\n",
    "plt.ylabel('Count', fontsize = 15)"
   ]
  },
  {
   "cell_type": "markdown",
   "id": "ad9d42ad",
   "metadata": {},
   "source": [
    "Relation between Highest education and Subscription "
   ]
  },
  {
   "cell_type": "code",
   "execution_count": 20,
   "id": "c57dcccb",
   "metadata": {},
   "outputs": [
    {
     "data": {
      "text/plain": [
       "Text(0, 0.5, 'Count')"
      ]
     },
     "execution_count": 20,
     "metadata": {},
     "output_type": "execute_result"
    },
    {
     "data": {
      "image/png": "[encoded data removed]",
      "text/plain": [
       "<Figure size 432x288 with 1 Axes>"
      ]
     },
     "metadata": {
      "needs_background": "light"
     },
     "output_type": "display_data"
    }
   ],
   "source": [
    "sns.countplot(x ='education', hue = 'subscribed', data = df_train)\n",
    "plt.xticks(fontsize = 10, ha = \"right\")\n",
    "plt.yticks(fontsize = 10)\n",
    "plt.xlabel('Education', fontsize = 15)\n",
    "plt.ylabel('Count', fontsize = 15)"
   ]
  },
  {
   "cell_type": "markdown",
   "id": "e9640fa8",
   "metadata": {},
   "source": [
    "Relation between Defaulters and Subscribers "
   ]
  },
  {
   "cell_type": "code",
   "execution_count": 21,
   "id": "a6463aaf",
   "metadata": {},
   "outputs": [
    {
     "data": {
      "text/plain": [
       "Text(0, 0.5, 'Count')"
      ]
     },
     "execution_count": 21,
     "metadata": {},
     "output_type": "execute_result"
    },
    {
     "data": {
      "image/png": "[encoded data removed]",
      "text/plain": [
       "<Figure size 432x288 with 1 Axes>"
      ]
     },
     "metadata": {
      "needs_background": "light"
     },
     "output_type": "display_data"
    }
   ],
   "source": [
    "sns.countplot(x ='default', hue = 'subscribed', data = df_train)\n",
    "plt.xticks(fontsize = 10, ha = \"right\")\n",
    "plt.yticks(fontsize = 10)\n",
    "plt.xlabel('Default', fontsize = 15)\n",
    "plt.ylabel('Count', fontsize = 15)"
   ]
  },
  {
   "cell_type": "markdown",
   "id": "ea3224e8",
   "metadata": {},
   "source": [
    "Binning of Balance for Analysis "
   ]
  },
  {
   "cell_type": "code",
   "execution_count": 22,
   "id": "0dff1aa9",
   "metadata": {},
   "outputs": [],
   "source": [
    "balance_train = []\n",
    "for i in df_train['balance']:\n",
    "    if (i >= -14999 and i <= 0):\n",
    "        balance_train.append('Negative Balance')\n",
    "    elif (i >= 1 and i <= 15000):\n",
    "        balance_train.append('0K - 15K')\n",
    "    elif (i >= 15001 and i <= 30000):\n",
    "        balance_train.append('15K - 30K')\n",
    "    elif (i >= 30001 and i <= 45000):\n",
    "        balance_train.append('30K - 45K')\n",
    "    elif (i >= 45001 and i <= 60000):\n",
    "        balance_train.append('45K - 60K')\n",
    "    elif (i >= 60001 and i <= 75000):\n",
    "        balance_train.append('60K - 75K')\n",
    "    elif (i >= 75001 and i <= 90000):\n",
    "        balance_train.append('75K - 90K')\n",
    "    elif (i >= 90001 and i <= 105000):\n",
    "        balance_train.append('90K - 105K')\n",
    "    else:\n",
    "        pass\n",
    "df_train['balance_group'] = balance_train\n",
    "balance_test = []\n",
    "for i in df_test['balance']:\n",
    "    if (i >= -14999 and i <= 0):\n",
    "        balance_test.append('Negative Balance')\n",
    "    elif (i >= 1 and i <= 15000):\n",
    "        balance_test.append('0K - 15K')\n",
    "    elif (i >= 15001 and i <= 30000):\n",
    "        balance_test.append('15K - 30K')\n",
    "    elif (i >= 30001 and i <= 45000):\n",
    "        balance_test.append('30K - 45K')\n",
    "    elif (i >= 45001 and i <= 60000):\n",
    "        balance_test.append('45K - 60K')\n",
    "    elif (i >= 60001 and i <= 75000):\n",
    "        balance_test.append('60K - 75K')\n",
    "    elif (i >= 75001 and i <= 90000):\n",
    "        balance_test.append('75K - 90K')\n",
    "    elif (i >= 90001 and i <= 105000):\n",
    "        balance_test.append('90K - 105K')\n",
    "    else:\n",
    "        pass\n",
    "df_test['balance_group'] = balance_test"
   ]
  },
  {
   "cell_type": "markdown",
   "id": "59809a8f",
   "metadata": {},
   "source": [
    "Relation between balance and subscription "
   ]
  },
  {
   "cell_type": "code",
   "execution_count": 23,
   "id": "a9d623e5",
   "metadata": {},
   "outputs": [
    {
     "data": {
      "text/plain": [
       "<matplotlib.legend.Legend at 0x2c8106a5250>"
      ]
     },
     "execution_count": 23,
     "metadata": {},
     "output_type": "execute_result"
    },
    {
     "data": {
      "image/png": "[encoded data removed]",
      "text/plain": [
       "<Figure size 1440x1152 with 1 Axes>"
      ]
     },
     "metadata": {
      "needs_background": "light"
     },
     "output_type": "display_data"
    }
   ],
   "source": [
    "plt.figure(figsize = (20, 16))\n",
    "sns.countplot(x ='balance_group', hue = 'subscribed', data = df_train)\n",
    "plt.xticks(fontsize = 10, ha = \"right\")\n",
    "plt.yticks(fontsize = 10)\n",
    "plt.xlabel('Balance Group', fontsize = 15)\n",
    "plt.ylabel('Count', fontsize = 15)\n",
    "plt.legend(loc = 'upper right')"
   ]
  },
  {
   "cell_type": "markdown",
   "id": "cab6a80e",
   "metadata": {},
   "source": [
    "Distribution of Balance "
   ]
  },
  {
   "cell_type": "code",
   "execution_count": 27,
   "id": "121c066d",
   "metadata": {},
   "outputs": [
    {
     "name": "stderr",
     "output_type": "stream",
     "text": [
      "C:\\Users\\sanku\\anaconda3\\lib\\site-packages\\seaborn\\distributions.py:2557: FutureWarning: `distplot` is a deprecated function and will be removed in a future version. Please adapt your code to use either `displot` (a figure-level function with similar flexibility) or `histplot` (an axes-level function for histograms).\n",
      "  warnings.warn(msg, FutureWarning)\n",
      "C:\\Users\\sanku\\anaconda3\\lib\\site-packages\\seaborn\\distributions.py:2557: FutureWarning: `distplot` is a deprecated function and will be removed in a future version. Please adapt your code to use either `displot` (a figure-level function with similar flexibility) or `histplot` (an axes-level function for histograms).\n",
      "  warnings.warn(msg, FutureWarning)\n"
     ]
    },
    {
     "data": {
      "image/png": "[encoded data removed]",
      "text/plain": [
       "<Figure size 432x288 with 1 Axes>"
      ]
     },
     "metadata": {
      "needs_background": "light"
     },
     "output_type": "display_data"
    }
   ],
   "source": [
    "sns.distplot(df_train['balance'])\n",
    "sns.distplot(y_df['balance'])\n",
    "plt.xticks(fontsize = 10, ha = \"right\")\n",
    "plt.yticks(fontsize = 10)\n",
    "plt.xlabel('Balance', fontsize = 15)\n",
    "plt.legend(['Balance', 'Subscribers Balance'])\n",
    "plt.show()"
   ]
  },
  {
   "cell_type": "markdown",
   "id": "fe3adca9",
   "metadata": {},
   "source": [
    "Transforming Balance "
   ]
  },
  {
   "cell_type": "code",
   "execution_count": 28,
   "id": "c79abc56",
   "metadata": {},
   "outputs": [
    {
     "name": "stderr",
     "output_type": "stream",
     "text": [
      "C:\\Users\\sanku\\anaconda3\\lib\\site-packages\\seaborn\\distributions.py:2557: FutureWarning: `distplot` is a deprecated function and will be removed in a future version. Please adapt your code to use either `displot` (a figure-level function with similar flexibility) or `histplot` (an axes-level function for histograms).\n",
      "  warnings.warn(msg, FutureWarning)\n",
      "C:\\Users\\sanku\\anaconda3\\lib\\site-packages\\seaborn\\distributions.py:2557: FutureWarning: `distplot` is a deprecated function and will be removed in a future version. Please adapt your code to use either `displot` (a figure-level function with similar flexibility) or `histplot` (an axes-level function for histograms).\n",
      "  warnings.warn(msg, FutureWarning)\n"
     ]
    },
    {
     "data": {
      "image/png": "[encoded data removed]",
      "text/plain": [
       "<Figure size 432x288 with 1 Axes>"
      ]
     },
     "metadata": {
      "needs_background": "light"
     },
     "output_type": "display_data"
    }
   ],
   "source": [
    "sns.distplot((df_train['balance']) ** (1/5))\n",
    "sns.distplot((y_df['balance']) ** (1/5))\n",
    "plt.xticks(fontsize = 10, ha = \"right\")\n",
    "plt.yticks(fontsize = 10)\n",
    "plt.xlabel('Balance', fontsize = 15)\n",
    "plt.legend(['Balance', 'Subscribers Balance'])\n",
    "plt.show()\n",
    "df_train['balance'] = df_train['balance'] ** (1/5)\n",
    "df_test['balance'] = df_test['balance'] ** (1/5)\n",
    "df_train['balance'] = df_train['balance'].fillna(df_train['balance'].mean())\n",
    "df_test['balance'] = df_test['balance'].fillna(df_test['balance'].mean())"
   ]
  },
  {
   "cell_type": "markdown",
   "id": "e40be1b2",
   "metadata": {},
   "source": [
    "Relation Between Housing Loan and Subscription "
   ]
  },
  {
   "cell_type": "code",
   "execution_count": 29,
   "id": "950761db",
   "metadata": {},
   "outputs": [
    {
     "data": {
      "text/plain": [
       "Text(0, 0.5, 'Count')"
      ]
     },
     "execution_count": 29,
     "metadata": {},
     "output_type": "execute_result"
    },
    {
     "data": {
      "image/png": "[encoded data removed]",
      "text/plain": [
       "<Figure size 432x288 with 1 Axes>"
      ]
     },
     "metadata": {
      "needs_background": "light"
     },
     "output_type": "display_data"
    }
   ],
   "source": [
    "sns.countplot(x ='housing', hue = 'subscribed', data = df_train)\n",
    "plt.xticks(fontsize = 10, ha = \"right\")\n",
    "plt.yticks(fontsize = 10)\n",
    "plt.xlabel('Housing Loan', fontsize = 15)\n",
    "plt.ylabel('Count', fontsize = 15)"
   ]
  },
  {
   "cell_type": "markdown",
   "id": "c5fb5687",
   "metadata": {},
   "source": [
    "Relationship between Personal loan and subscription "
   ]
  },
  {
   "cell_type": "code",
   "execution_count": 30,
   "id": "962d049b",
   "metadata": {},
   "outputs": [
    {
     "data": {
      "text/plain": [
       "Text(0, 0.5, 'Count')"
      ]
     },
     "execution_count": 30,
     "metadata": {},
     "output_type": "execute_result"
    },
    {
     "data": {
      "image/png": "[encoded data removed]",
      "text/plain": [
       "<Figure size 432x288 with 1 Axes>"
      ]
     },
     "metadata": {
      "needs_background": "light"
     },
     "output_type": "display_data"
    }
   ],
   "source": [
    "sns.countplot(x ='loan', hue = 'subscribed', data = df_train)\n",
    "plt.xticks(fontsize = 10, ha = \"right\")\n",
    "plt.yticks(fontsize = 10)\n",
    "plt.xlabel('Personal Loan', fontsize = 15)\n",
    "plt.ylabel('Count', fontsize = 15)"
   ]
  },
  {
   "cell_type": "markdown",
   "id": "24f85a08",
   "metadata": {},
   "source": [
    "Relationship Between Medium of Contact and Subscription "
   ]
  },
  {
   "cell_type": "code",
   "execution_count": 31,
   "id": "e6b7ca83",
   "metadata": {},
   "outputs": [
    {
     "data": {
      "text/plain": [
       "Text(0, 0.5, 'Count')"
      ]
     },
     "execution_count": 31,
     "metadata": {},
     "output_type": "execute_result"
    },
    {
     "data": {
      "image/png": "[encoded data removed]",
      "text/plain": [
       "<Figure size 432x288 with 1 Axes>"
      ]
     },
     "metadata": {
      "needs_background": "light"
     },
     "output_type": "display_data"
    }
   ],
   "source": [
    "sns.countplot(x ='contact', hue = 'subscribed', data = df_train)\n",
    "plt.xticks(fontsize = 10, ha = \"right\")\n",
    "plt.yticks(fontsize = 10)\n",
    "plt.xlabel('Contact', fontsize = 15)\n",
    "plt.ylabel('Count', fontsize = 15)"
   ]
  },
  {
   "cell_type": "markdown",
   "id": "097e8e07",
   "metadata": {},
   "source": [
    "Categorizing data column into week "
   ]
  },
  {
   "cell_type": "code",
   "execution_count": 32,
   "id": "0885e9f0",
   "metadata": {},
   "outputs": [],
   "source": [
    "week_train = []\n",
    "for i in df_train['day']:\n",
    "    if i < 8:\n",
    "        week_train.append(1)\n",
    "    elif i >= 8 and i < 16:\n",
    "        week_train.append(2)\n",
    "    elif i >=16 and i < 22:\n",
    "        week_train.append(3)\n",
    "    else:\n",
    "        week_train.append(4)\n",
    "df_train['week'] = week_train\n",
    "df_train = df_train.drop('day', axis = 1)\n",
    "week_test = []\n",
    "for i in df_test['day']:\n",
    "    if i < 8:\n",
    "        week_test.append(1)\n",
    "    elif i >= 8 and i < 16:\n",
    "        week_test.append(2)\n",
    "    elif i >=16 and i < 22:\n",
    "        week_test.append(3)\n",
    "    else:\n",
    "        week_test.append(4)\n",
    "df_test['week'] = week_test\n",
    "df_test = df_test.drop('day', axis = 1)"
   ]
  },
  {
   "cell_type": "markdown",
   "id": "74e8ab72",
   "metadata": {},
   "source": [
    "Relationship between the week the customer was contacted and subscription "
   ]
  },
  {
   "cell_type": "code",
   "execution_count": 33,
   "id": "080e4ef1",
   "metadata": {},
   "outputs": [
    {
     "data": {
      "text/plain": [
       "Text(0, 0.5, 'Count')"
      ]
     },
     "execution_count": 33,
     "metadata": {},
     "output_type": "execute_result"
    },
    {
     "data": {
      "image/png": "[encoded data removed]",
      "text/plain": [
       "<Figure size 432x288 with 1 Axes>"
      ]
     },
     "metadata": {
      "needs_background": "light"
     },
     "output_type": "display_data"
    }
   ],
   "source": [
    "sns.countplot(x ='week', hue = 'subscribed', data = df_train)\n",
    "plt.xticks(fontsize = 10, ha = \"right\")\n",
    "plt.yticks(fontsize = 10)\n",
    "plt.xlabel('Week', fontsize = 15)\n",
    "plt.ylabel('Count', fontsize = 15)"
   ]
  },
  {
   "cell_type": "markdown",
   "id": "5113d116",
   "metadata": {},
   "source": [
    "Relationship between the month in which the customer was contacted and subscription "
   ]
  },
  {
   "cell_type": "code",
   "execution_count": 34,
   "id": "d13acbd8",
   "metadata": {},
   "outputs": [
    {
     "data": {
      "text/plain": [
       "Text(0, 0.5, 'Count')"
      ]
     },
     "execution_count": 34,
     "metadata": {},
     "output_type": "execute_result"
    },
    {
     "data": {
      "image/png": "[encoded data removed]",
      "text/plain": [
       "<Figure size 1440x1152 with 1 Axes>"
      ]
     },
     "metadata": {
      "needs_background": "light"
     },
     "output_type": "display_data"
    }
   ],
   "source": [
    "plt.figure(figsize = (20, 16))\n",
    "sns.countplot(x ='month', hue = 'subscribed', data = df_train)\n",
    "plt.xticks(fontsize = 10, ha = \"right\")\n",
    "plt.yticks(fontsize = 10)\n",
    "plt.xlabel('Month', fontsize = 15)\n",
    "plt.ylabel('Count', fontsize = 15)"
   ]
  },
  {
   "cell_type": "markdown",
   "id": "21f1912d",
   "metadata": {},
   "source": [
    "binning of Duration of Contact for analysis "
   ]
  },
  {
   "cell_type": "code",
   "execution_count": 35,
   "id": "71647172",
   "metadata": {},
   "outputs": [],
   "source": [
    "duration_train = []\n",
    "for i in df_train['duration']:\n",
    "    if (i >= 0 and i <= 500):\n",
    "        duration_train.append('0-500')\n",
    "    elif (i >= 501 and i <= 1000):\n",
    "        duration_train.append('501-1000')\n",
    "    elif (i >= 1001 and i <= 1500):\n",
    "        duration_train.append('1001-1500')\n",
    "    elif (i >= 1501 and i <= 2000):\n",
    "        duration_train.append('1501-2000')\n",
    "    elif (i >= 2001 and i <= 2500):\n",
    "        duration_train.append('2001 - 2500')\n",
    "    elif (i >= 2501 and i <= 3000):\n",
    "        duration_train.append('2501-3000')\n",
    "    elif (i >= 3001 and i <= 3500):\n",
    "        duration_train.append('3001-3500')\n",
    "    elif (i >= 3501 and i <= 4000):\n",
    "        duration_train.append('3501-4000')\n",
    "    elif (i >= 4001 and i <= 4500):\n",
    "        duration_train.append('4001-4500')\n",
    "    elif (i >= 4501 and i <= 5000):\n",
    "        duration_train.append('4501-5000')\n",
    "    else:\n",
    "        pass\n",
    "df_train['duration_group'] = duration_train\n",
    "duration_test = []\n",
    "for i in df_test['duration']:\n",
    "    if (i >= 0 and i <= 500):\n",
    "        duration_test.append('0-500')\n",
    "    elif (i >= 501 and i <= 1000):\n",
    "        duration_test.append('501-1000')\n",
    "    elif (i >= 1001 and i <= 1500):\n",
    "        duration_test.append('1001-1500')\n",
    "    elif (i >= 1501 and i <= 2000):\n",
    "        duration_test.append('1501-2000')\n",
    "    elif (i >= 2001 and i <= 2500):\n",
    "        duration_test.append('2001 - 2500')\n",
    "    elif (i >= 2501 and i <= 3000):\n",
    "        duration_test.append('2501-3000')\n",
    "    elif (i >= 3001 and i <= 3500):\n",
    "        duration_test.append('3001-3500')\n",
    "    elif (i >= 3501 and i <= 4000):\n",
    "        duration_test.append('3501-4000')\n",
    "    elif (i >= 4001 and i <= 4500):\n",
    "        duration_test.append('4001-4500')\n",
    "    elif (i >= 4501 and i <= 5000):\n",
    "        duration_test.append('4501-5000')\n",
    "    else:\n",
    "        pass\n",
    "df_test['duration_group'] = duration_test"
   ]
  },
  {
   "cell_type": "markdown",
   "id": "10c070d2",
   "metadata": {},
   "source": [
    "Relation between duration of contact and subscription "
   ]
  },
  {
   "cell_type": "code",
   "execution_count": 36,
   "id": "bc1feb52",
   "metadata": {},
   "outputs": [
    {
     "data": {
      "text/plain": [
       "<matplotlib.legend.Legend at 0x217771ce580>"
      ]
     },
     "execution_count": 36,
     "metadata": {},
     "output_type": "execute_result"
    },
    {
     "data": {
      "image/png": "[encoded data removed]",
      "text/plain": [
       "<Figure size 1440x1152 with 1 Axes>"
      ]
     },
     "metadata": {
      "needs_background": "light"
     },
     "output_type": "display_data"
    }
   ],
   "source": [
    "plt.figure(figsize = (20, 16))\n",
    "sns.countplot(x ='duration_group', hue = 'subscribed', data = df_train)\n",
    "plt.xticks(fontsize = 10, ha = \"right\")\n",
    "plt.yticks(fontsize = 10)\n",
    "plt.xlabel('Duration Group', fontsize = 15)\n",
    "plt.ylabel('Count', fontsize = 15)\n",
    "plt.legend(loc = 'upper right')"
   ]
  },
  {
   "cell_type": "markdown",
   "id": "88d715ec",
   "metadata": {},
   "source": [
    "Distribution of duration of contact "
   ]
  },
  {
   "cell_type": "code",
   "execution_count": 24,
   "id": "9f9772d0",
   "metadata": {},
   "outputs": [
    {
     "name": "stderr",
     "output_type": "stream",
     "text": [
      "c:\\ProgramData\\Anaconda3\\lib\\site-packages\\seaborn\\distributions.py:2551: FutureWarning: `distplot` is a deprecated function and will be removed in a future version. Please adapt your code to use either `displot` (a figure-level function with similar flexibility) or `histplot` (an axes-level function for histograms).\n",
      "  warnings.warn(msg, FutureWarning)\n",
      "c:\\ProgramData\\Anaconda3\\lib\\site-packages\\seaborn\\distributions.py:2551: FutureWarning: `distplot` is a deprecated function and will be removed in a future version. Please adapt your code to use either `displot` (a figure-level function with similar flexibility) or `histplot` (an axes-level function for histograms).\n",
      "  warnings.warn(msg, FutureWarning)\n"
     ]
    },
    {
     "data": {
      "image/png": "[encoded data removed]",
      "text/plain": [
       "<Figure size 432x288 with 1 Axes>"
      ]
     },
     "metadata": {
      "needs_background": "light"
     },
     "output_type": "display_data"
    }
   ],
   "source": [
    "sns.distplot(df_train['duration'])\n",
    "sns.distplot(y_df['duration'])\n",
    "plt.xticks(fontsize = 10, ha = \"right\")\n",
    "plt.yticks(fontsize = 10)\n",
    "plt.xlabel('Duration', fontsize = 15)\n",
    "plt.legend(['Duration', 'Subscribers Duration'])\n",
    "plt.show()"
   ]
  },
  {
   "cell_type": "markdown",
   "id": "12237f04",
   "metadata": {},
   "source": [
    "Transforming Duration of Contact "
   ]
  },
  {
   "cell_type": "code",
   "execution_count": 25,
   "id": "b3e4680e",
   "metadata": {},
   "outputs": [
    {
     "name": "stderr",
     "output_type": "stream",
     "text": [
      "c:\\ProgramData\\Anaconda3\\lib\\site-packages\\seaborn\\distributions.py:2551: FutureWarning: `distplot` is a deprecated function and will be removed in a future version. Please adapt your code to use either `displot` (a figure-level function with similar flexibility) or `histplot` (an axes-level function for histograms).\n",
      "  warnings.warn(msg, FutureWarning)\n",
      "c:\\ProgramData\\Anaconda3\\lib\\site-packages\\seaborn\\distributions.py:2551: FutureWarning: `distplot` is a deprecated function and will be removed in a future version. Please adapt your code to use either `displot` (a figure-level function with similar flexibility) or `histplot` (an axes-level function for histograms).\n",
      "  warnings.warn(msg, FutureWarning)\n"
     ]
    },
    {
     "data": {
      "image/png": "[encoded data removed]",
      "text/plain": [
       "<Figure size 432x288 with 1 Axes>"
      ]
     },
     "metadata": {
      "needs_background": "light"
     },
     "output_type": "display_data"
    }
   ],
   "source": [
    "sns.distplot((df_train['duration']) ** (1/3))\n",
    "sns.distplot((y_df['duration']) ** (1/3))\n",
    "plt.xticks(fontsize = 10, ha = \"right\")\n",
    "plt.yticks(fontsize = 10)\n",
    "plt.xlabel('Duration', fontsize = 15)\n",
    "plt.legend(['Duration', 'Subscribers Duration'])\n",
    "plt.show()\n",
    "df_train['duration'] = df_train['duration'] ** (1/3)\n",
    "df_test['duration'] = df_test['duration'] ** (1/3)"
   ]
  },
  {
   "cell_type": "markdown",
   "id": "9624e456",
   "metadata": {},
   "source": [
    "Binning of number of times a subscriber contacted in previous campaign for analysis "
   ]
  },
  {
   "cell_type": "code",
   "execution_count": 26,
   "id": "a900bcdc",
   "metadata": {},
   "outputs": [],
   "source": [
    "campaign_train = []\n",
    "for i in df_train['campaign']:\n",
    "    if (i >= 1 and i <= 7):\n",
    "        campaign_train.append('1-7')\n",
    "    elif (i >= 8 and i <= 14):\n",
    "        campaign_train.append('8-14')\n",
    "    elif (i >= 15 and i <= 21):\n",
    "        campaign_train.append('15-21')\n",
    "    elif (i >= 22 and i <= 28):\n",
    "        campaign_train.append('22-28')\n",
    "    elif (i >= 29 and i <= 35):\n",
    "        campaign_train.append('29-35')\n",
    "    elif (i >= 36 and i <= 42):\n",
    "        campaign_train.append('36-42')\n",
    "    elif (i >= 43 and i <= 49):\n",
    "        campaign_train.append('43-49')\n",
    "    elif (i >= 50 and i <= 56):\n",
    "        campaign_train.append('50-56')\n",
    "    elif (i >= 57 and i <= 63):\n",
    "        campaign_train.append('57-63')\n",
    "    else:\n",
    "        pass\n",
    "df_train['campaign_group'] = campaign_train\n",
    "campaign_test = []\n",
    "for i in df_test['campaign']:\n",
    "    if (i >= 1 and i <= 7):\n",
    "        campaign_test.append('1-7')\n",
    "    elif (i >= 8 and i <= 14):\n",
    "        campaign_test.append('8-14')\n",
    "    elif (i >= 15 and i <= 21):\n",
    "        campaign_test.append('15-21')\n",
    "    elif (i >= 22 and i <= 28):\n",
    "        campaign_test.append('22-28')\n",
    "    elif (i >= 29 and i <= 35):\n",
    "        campaign_test.append('29-35')\n",
    "    elif (i >= 36 and i <= 42):\n",
    "        campaign_test.append('36-42')\n",
    "    elif (i >= 43 and i <= 49):\n",
    "        campaign_test.append('43-49')\n",
    "    elif (i >= 50 and i <= 56):\n",
    "        campaign_test.append('50-56')\n",
    "    elif (i >= 57 and i <= 63):\n",
    "        campaign_test.append('57-63')\n",
    "    else:\n",
    "        pass\n",
    "df_test['campaign_group'] = campaign_test"
   ]
  },
  {
   "cell_type": "markdown",
   "id": "dc729a74",
   "metadata": {},
   "source": [
    "Relation between number of times a subscriber contacted in previous campaign and subscription "
   ]
  },
  {
   "cell_type": "code",
   "execution_count": 27,
   "id": "33ecc1bf",
   "metadata": {},
   "outputs": [
    {
     "data": {
      "text/plain": [
       "<matplotlib.legend.Legend at 0x2c80e40bc40>"
      ]
     },
     "execution_count": 27,
     "metadata": {},
     "output_type": "execute_result"
    },
    {
     "data": {
      "image/png": "[encoded data removed]",
      "text/plain": [
       "<Figure size 720x576 with 1 Axes>"
      ]
     },
     "metadata": {
      "needs_background": "light"
     },
     "output_type": "display_data"
    }
   ],
   "source": [
    "plt.figure(figsize = (10, 8))\n",
    "sns.countplot(x ='campaign_group', hue= 'subscribed', data = df_train)\n",
    "plt.xticks(fontsize = 10, ha = \"right\")\n",
    "plt.yticks(fontsize = 10)\n",
    "plt.xlabel('Campaign Group', fontsize = 15)\n",
    "plt.ylabel('Count', fontsize = 15)\n",
    "plt.legend(loc = 'upper right')"
   ]
  },
  {
   "cell_type": "markdown",
   "id": "24ddbe06",
   "metadata": {},
   "source": [
    "Transforming number of time a subscriber contacted in previous campaign "
   ]
  },
  {
   "cell_type": "code",
   "execution_count": 28,
   "id": "edd3d68e",
   "metadata": {},
   "outputs": [
    {
     "name": "stderr",
     "output_type": "stream",
     "text": [
      "c:\\ProgramData\\Anaconda3\\lib\\site-packages\\seaborn\\distributions.py:2551: FutureWarning: `distplot` is a deprecated function and will be removed in a future version. Please adapt your code to use either `displot` (a figure-level function with similar flexibility) or `histplot` (an axes-level function for histograms).\n",
      "  warnings.warn(msg, FutureWarning)\n",
      "c:\\ProgramData\\Anaconda3\\lib\\site-packages\\seaborn\\distributions.py:2551: FutureWarning: `distplot` is a deprecated function and will be removed in a future version. Please adapt your code to use either `displot` (a figure-level function with similar flexibility) or `histplot` (an axes-level function for histograms).\n",
      "  warnings.warn(msg, FutureWarning)\n"
     ]
    },
    {
     "data": {
      "image/png": "[encoded data removed]",
      "text/plain": [
       "<Figure size 432x288 with 1 Axes>"
      ]
     },
     "metadata": {
      "needs_background": "light"
     },
     "output_type": "display_data"
    }
   ],
   "source": [
    "sns.distplot((df_train['campaign']) ** (1/3))\n",
    "sns.distplot((y_df['campaign']) ** (1/3))\n",
    "plt.xticks(fontsize = 10, ha = \"right\")\n",
    "plt.yticks(fontsize = 10)\n",
    "plt.xlabel('Campaign', fontsize = 15)\n",
    "plt.legend(['Campaign', 'Subscribers Campaign'])\n",
    "plt.show()\n",
    "df_train['campaign'] = df_train['campaign'] ** (1/3)\n",
    "df_test['campaign'] = df_test['campaign'] ** (1/3)"
   ]
  },
  {
   "cell_type": "markdown",
   "id": "e72de65d",
   "metadata": {},
   "source": [
    "Changing -1 to 0 days passed since last contact "
   ]
  },
  {
   "cell_type": "code",
   "execution_count": 29,
   "id": "abf5712c",
   "metadata": {},
   "outputs": [],
   "source": [
    "pdays_train = []\n",
    "for i in df_train['pdays']:\n",
    "    if i < 0:\n",
    "        pdays_train.append(0)\n",
    "    else:\n",
    "        pdays_train.append(i)\n",
    "df_train['pdays'] = pdays_train\n",
    "pdays_test = []\n",
    "for i in df_test['pdays']:\n",
    "    if i < 0:\n",
    "        pdays_test.append(0)\n",
    "    else:\n",
    "        pdays_test.append(i)\n",
    "df_test['pdays'] = pdays_test"
   ]
  },
  {
   "cell_type": "markdown",
   "id": "f349cb76",
   "metadata": {},
   "source": [
    "Binning of days passed since last contact for analysis \n"
   ]
  },
  {
   "cell_type": "code",
   "execution_count": 30,
   "id": "acbf0f24",
   "metadata": {},
   "outputs": [],
   "source": [
    "pdays_train = []\n",
    "for i in df_train['pdays']:\n",
    "    if (i >= 0 and i <= 100):\n",
    "        pdays_train.append('1-100')\n",
    "    elif (i >= 101 and i <= 200):\n",
    "        pdays_train.append('101-200')\n",
    "    elif (i >= 201 and i <= 300):\n",
    "        pdays_train.append('201-300')\n",
    "    elif (i >= 301 and i <= 400):\n",
    "        pdays_train.append('301-400')\n",
    "    elif (i >= 401 and i <= 500):\n",
    "        pdays_train.append('401-500')\n",
    "    elif (i >= 501 and i <= 600):\n",
    "        pdays_train.append('501-600')\n",
    "    elif (i >= 601 and i <= 700):\n",
    "        pdays_train.append('601-700')\n",
    "    elif (i >= 701 and i <= 800):\n",
    "        pdays_train.append('701-800')\n",
    "    elif (i >= 801 and i <= 900):\n",
    "        pdays_train.append('801-900')\n",
    "    else:\n",
    "        pass\n",
    "df_train['pdays_group'] = pdays_train\n",
    "pdays_test = []\n",
    "for i in df_test['pdays']:\n",
    "    if (i >= 0 and i <= 100):\n",
    "        pdays_test.append('1-100')\n",
    "    elif (i >= 101 and i <= 200):\n",
    "        pdays_test.append('101-200')\n",
    "    elif (i >= 201 and i <= 300):\n",
    "        pdays_test.append('201-300')\n",
    "    elif (i >= 301 and i <= 400):\n",
    "        pdays_test.append('301-400')\n",
    "    elif (i >= 401 and i <= 500):\n",
    "        pdays_test.append('401-500')\n",
    "    elif (i >= 501 and i <= 600):\n",
    "        pdays_test.append('501-600')\n",
    "    elif (i >= 601 and i <= 700):\n",
    "        pdays_test.append('601-700')\n",
    "    elif (i >= 701 and i <= 800):\n",
    "        pdays_test.append('701-800')\n",
    "    elif (i >= 801 and i <= 900):\n",
    "        pdays_test.append('801-900')\n",
    "    else:\n",
    "        pass\n",
    "df_test['pdays_group'] = pdays_test"
   ]
  },
  {
   "cell_type": "markdown",
   "id": "6bbc260f",
   "metadata": {},
   "source": [
    "Relation between Days passed since last contact and subscription "
   ]
  },
  {
   "cell_type": "code",
   "execution_count": 31,
   "id": "6327510f",
   "metadata": {},
   "outputs": [
    {
     "data": {
      "text/plain": [
       "Text(0, 0.5, 'Count')"
      ]
     },
     "execution_count": 31,
     "metadata": {},
     "output_type": "execute_result"
    },
    {
     "data": {
      "image/png": "[encoded data removed]",
      "text/plain": [
       "<Figure size 720x576 with 1 Axes>"
      ]
     },
     "metadata": {
      "needs_background": "light"
     },
     "output_type": "display_data"
    }
   ],
   "source": [
    "plt.figure(figsize = (10, 8))\n",
    "sns.countplot(x ='pdays_group', hue= 'subscribed', data = df_train)\n",
    "plt.xticks(fontsize = 10, ha = \"right\")\n",
    "plt.yticks(fontsize = 10)\n",
    "plt.xlabel('Pdays Group', fontsize = 15)\n",
    "plt.ylabel('Count', fontsize = 15)"
   ]
  },
  {
   "cell_type": "markdown",
   "id": "1f04fbde",
   "metadata": {},
   "source": [
    "Distribution of days passed since last contact "
   ]
  },
  {
   "cell_type": "code",
   "execution_count": 32,
   "id": "d518d368",
   "metadata": {},
   "outputs": [
    {
     "name": "stderr",
     "output_type": "stream",
     "text": [
      "c:\\ProgramData\\Anaconda3\\lib\\site-packages\\seaborn\\distributions.py:1659: FutureWarning: The `bw` parameter is deprecated in favor of `bw_method` and `bw_adjust`. Using 10 for `bw_method`, but please see the docs for the new parameters and update your code.\n",
      "  warnings.warn(msg, FutureWarning)\n",
      "c:\\ProgramData\\Anaconda3\\lib\\site-packages\\seaborn\\distributions.py:1659: FutureWarning: The `bw` parameter is deprecated in favor of `bw_method` and `bw_adjust`. Using 10 for `bw_method`, but please see the docs for the new parameters and update your code.\n",
      "  warnings.warn(msg, FutureWarning)\n"
     ]
    },
    {
     "data": {
      "image/png": "[encoded data removed]",
      "text/plain": [
       "<Figure size 432x288 with 1 Axes>"
      ]
     },
     "metadata": {
      "needs_background": "light"
     },
     "output_type": "display_data"
    },
    {
     "name": "stderr",
     "output_type": "stream",
     "text": [
      "c:\\ProgramData\\Anaconda3\\lib\\site-packages\\seaborn\\distributions.py:2551: FutureWarning: `distplot` is a deprecated function and will be removed in a future version. Please adapt your code to use either `displot` (a figure-level function with similar flexibility) or `histplot` (an axes-level function for histograms).\n",
      "  warnings.warn(msg, FutureWarning)\n"
     ]
    },
    {
     "data": {
      "image/png": "[encoded data removed]",
      "text/plain": [
       "<Figure size 432x288 with 1 Axes>"
      ]
     },
     "metadata": {
      "needs_background": "light"
     },
     "output_type": "display_data"
    }
   ],
   "source": [
    "sns.kdeplot(df_train['pdays'], bw = 10)\n",
    "sns.kdeplot(y_df['pdays'], bw = 10)\n",
    "plt.xticks(fontsize = 10, ha = \"right\")\n",
    "plt.yticks(fontsize = 10)\n",
    "plt.xlabel('Pdays', fontsize = 15)\n",
    "plt.legend(['Pdays', 'Subscribers Pdays'])\n",
    "plt.show()\n",
    "sns.distplot(df_train['pdays'], kde = False)\n",
    "sns.distplot(y_df['pdays'], kde = False)\n",
    "plt.xticks(fontsize = 10, ha = \"right\")\n",
    "plt.yticks(fontsize = 10)\n",
    "plt.xlabel('Pdays', fontsize = 15)\n",
    "plt.legend(['Pdays', 'Subscribers Pdays'])\n",
    "plt.show()"
   ]
  },
  {
   "cell_type": "markdown",
   "id": "950343d7",
   "metadata": {},
   "source": [
    "Transforming days passes since last contact "
   ]
  },
  {
   "cell_type": "code",
   "execution_count": 33,
   "id": "d5e1fece",
   "metadata": {},
   "outputs": [
    {
     "name": "stderr",
     "output_type": "stream",
     "text": [
      "c:\\ProgramData\\Anaconda3\\lib\\site-packages\\seaborn\\distributions.py:1659: FutureWarning: The `bw` parameter is deprecated in favor of `bw_method` and `bw_adjust`. Using 10 for `bw_method`, but please see the docs for the new parameters and update your code.\n",
      "  warnings.warn(msg, FutureWarning)\n",
      "c:\\ProgramData\\Anaconda3\\lib\\site-packages\\seaborn\\distributions.py:1659: FutureWarning: The `bw` parameter is deprecated in favor of `bw_method` and `bw_adjust`. Using 10 for `bw_method`, but please see the docs for the new parameters and update your code.\n",
      "  warnings.warn(msg, FutureWarning)\n"
     ]
    },
    {
     "data": {
      "image/png": "[encoded data removed]",
      "text/plain": [
       "<Figure size 432x288 with 1 Axes>"
      ]
     },
     "metadata": {
      "needs_background": "light"
     },
     "output_type": "display_data"
    },
    {
     "name": "stderr",
     "output_type": "stream",
     "text": [
      "c:\\ProgramData\\Anaconda3\\lib\\site-packages\\seaborn\\distributions.py:2551: FutureWarning: `distplot` is a deprecated function and will be removed in a future version. Please adapt your code to use either `displot` (a figure-level function with similar flexibility) or `histplot` (an axes-level function for histograms).\n",
      "  warnings.warn(msg, FutureWarning)\n"
     ]
    },
    {
     "data": {
      "image/png": "[encoded data removed]",
      "text/plain": [
       "<Figure size 432x288 with 1 Axes>"
      ]
     },
     "metadata": {
      "needs_background": "light"
     },
     "output_type": "display_data"
    }
   ],
   "source": [
    "sns.kdeplot((df_train['pdays']) ** (1/3), bw = 10)\n",
    "sns.kdeplot((y_df['pdays']) ** (1/3), bw = 10)\n",
    "plt.xticks(fontsize = 10, ha = \"right\")\n",
    "plt.yticks(fontsize = 10)\n",
    "plt.xlabel('Pdays', fontsize = 15)\n",
    "plt.legend(['Pdays', 'Subscribers Pdays'])\n",
    "plt.show()\n",
    "sns.distplot((df_train['pdays']) ** (1/3), kde = False)\n",
    "sns.distplot((y_df['pdays']) ** (1/3), kde = False)\n",
    "plt.xticks(fontsize = 10, ha = \"right\")\n",
    "plt.yticks(fontsize = 10)\n",
    "plt.xlabel('Pdays', fontsize = 15)\n",
    "plt.legend(['Pdays', 'Subscribers Pdays'])\n",
    "plt.show()\n",
    "df_train['pdays'] = df_train['pdays'] ** (1/3)\n",
    "df_test['pdays'] = df_test['pdays'] ** (1/3)"
   ]
  },
  {
   "cell_type": "markdown",
   "id": "1a789112",
   "metadata": {},
   "source": [
    "Binning number of times subscriber is conctacted in past "
   ]
  },
  {
   "cell_type": "code",
   "execution_count": 34,
   "id": "a3c739dd",
   "metadata": {},
   "outputs": [],
   "source": [
    "previous_train = []\n",
    "for i in df_train['previous']:\n",
    "    if (i >= 0 and i <= 50):\n",
    "        previous_train.append('1-50')\n",
    "    elif (i >= 51 and i <= 100):\n",
    "        previous_train.append('51-100')\n",
    "    elif (i >= 101 and i <= 150):\n",
    "        previous_train.append('101-150')\n",
    "    elif (i >= 151 and i <= 200):\n",
    "        previous_train.append('151-200')\n",
    "    elif (i >= 201 and i <= 250):\n",
    "        previous_train.append('201-250')\n",
    "    elif (i >= 251 and i <= 300):\n",
    "        previous_train.append('251-300')\n",
    "    else:\n",
    "        pass\n",
    "df_train['previous_groups'] = previous_train\n",
    "previous_test = []\n",
    "for i in df_test['previous']:\n",
    "    if (i >= 0 and i <= 50):\n",
    "        previous_test.append('1-50')\n",
    "    elif (i >= 51 and i <= 100):\n",
    "        previous_test.append('51-100')\n",
    "    elif (i >= 101 and i <= 150):\n",
    "        previous_test.append('101-150')\n",
    "    elif (i >= 151 and i <= 200):\n",
    "        previous_test.append('151-200')\n",
    "    elif (i >= 201 and i <= 250):\n",
    "        previous_test.append('201-250')\n",
    "    elif (i >= 251 and i <= 300):\n",
    "        previous_test.append('251-300')\n",
    "    else:\n",
    "        pass\n",
    "df_test['previous_groups'] = previous_test"
   ]
  },
  {
   "cell_type": "markdown",
   "id": "a4a7beb5",
   "metadata": {},
   "source": [
    "Relation between number of times subscriber is contacted in past and subscription "
   ]
  },
  {
   "cell_type": "raw",
   "id": "4ef8aeec",
   "metadata": {},
   "source": [
    "plt.figure(figsize = (10, 8))\n",
    "sns.countplot(x ='previous_groups', hue= 'subscribed', data = df_train)\n",
    "plt.xticks(fontsize = 10, ha = \"right\")\n",
    "plt.yticks(fontsize = 10)\n",
    "plt.xlabel('Previous Group', fontsize = 15)\n",
    "plt.ylabel('Count', fontsize = 15)"
   ]
  },
  {
   "cell_type": "markdown",
   "id": "5f55958b",
   "metadata": {},
   "source": [
    "Distrubution of number of times subscriber is contacted in past "
   ]
  },
  {
   "cell_type": "code",
   "execution_count": 35,
   "id": "ea23650d",
   "metadata": {},
   "outputs": [
    {
     "name": "stderr",
     "output_type": "stream",
     "text": [
      "c:\\ProgramData\\Anaconda3\\lib\\site-packages\\seaborn\\distributions.py:1659: FutureWarning: The `bw` parameter is deprecated in favor of `bw_method` and `bw_adjust`. Using 10 for `bw_method`, but please see the docs for the new parameters and update your code.\n",
      "  warnings.warn(msg, FutureWarning)\n",
      "c:\\ProgramData\\Anaconda3\\lib\\site-packages\\seaborn\\distributions.py:1659: FutureWarning: The `bw` parameter is deprecated in favor of `bw_method` and `bw_adjust`. Using 10 for `bw_method`, but please see the docs for the new parameters and update your code.\n",
      "  warnings.warn(msg, FutureWarning)\n"
     ]
    },
    {
     "data": {
      "image/png": "[encoded data removed]",
      "text/plain": [
       "<Figure size 432x288 with 1 Axes>"
      ]
     },
     "metadata": {
      "needs_background": "light"
     },
     "output_type": "display_data"
    },
    {
     "name": "stderr",
     "output_type": "stream",
     "text": [
      "c:\\ProgramData\\Anaconda3\\lib\\site-packages\\seaborn\\distributions.py:2551: FutureWarning: `distplot` is a deprecated function and will be removed in a future version. Please adapt your code to use either `displot` (a figure-level function with similar flexibility) or `histplot` (an axes-level function for histograms).\n",
      "  warnings.warn(msg, FutureWarning)\n"
     ]
    },
    {
     "data": {
      "image/png": "[encoded data removed]",
      "text/plain": [
       "<Figure size 432x288 with 1 Axes>"
      ]
     },
     "metadata": {
      "needs_background": "light"
     },
     "output_type": "display_data"
    }
   ],
   "source": [
    "sns.kdeplot(df_train['previous'], bw = 10)\n",
    "sns.kdeplot(y_df['previous'], bw = 10)\n",
    "plt.xticks(fontsize = 10, ha = \"right\")\n",
    "plt.yticks(fontsize = 10)\n",
    "plt.xlabel('Previous', fontsize = 15)\n",
    "plt.legend(['Previous', 'Subscribers Previous'])\n",
    "plt.show()\n",
    "sns.distplot(df_train['previous'], kde = False)\n",
    "sns.distplot(y_df['previous'], kde = False)\n",
    "plt.xticks(fontsize = 10, ha = \"right\")\n",
    "plt.yticks(fontsize = 10)\n",
    "plt.xlabel('Previous', fontsize = 15)\n",
    "plt.legend(['Previous', 'Subscribers Previous'])\n",
    "plt.show()"
   ]
  },
  {
   "cell_type": "markdown",
   "id": "63d9c927",
   "metadata": {},
   "source": [
    "Transforming number of times subscriber is contacted in past "
   ]
  },
  {
   "cell_type": "code",
   "execution_count": 36,
   "id": "4385e603",
   "metadata": {},
   "outputs": [
    {
     "name": "stderr",
     "output_type": "stream",
     "text": [
      "c:\\ProgramData\\Anaconda3\\lib\\site-packages\\seaborn\\distributions.py:1659: FutureWarning: The `bw` parameter is deprecated in favor of `bw_method` and `bw_adjust`. Using 10 for `bw_method`, but please see the docs for the new parameters and update your code.\n",
      "  warnings.warn(msg, FutureWarning)\n",
      "c:\\ProgramData\\Anaconda3\\lib\\site-packages\\seaborn\\distributions.py:1659: FutureWarning: The `bw` parameter is deprecated in favor of `bw_method` and `bw_adjust`. Using 10 for `bw_method`, but please see the docs for the new parameters and update your code.\n",
      "  warnings.warn(msg, FutureWarning)\n"
     ]
    },
    {
     "data": {
      "image/png": "[encoded data removed]",
      "text/plain": [
       "<Figure size 432x288 with 1 Axes>"
      ]
     },
     "metadata": {
      "needs_background": "light"
     },
     "output_type": "display_data"
    },
    {
     "name": "stderr",
     "output_type": "stream",
     "text": [
      "c:\\ProgramData\\Anaconda3\\lib\\site-packages\\seaborn\\distributions.py:2551: FutureWarning: `distplot` is a deprecated function and will be removed in a future version. Please adapt your code to use either `displot` (a figure-level function with similar flexibility) or `histplot` (an axes-level function for histograms).\n",
      "  warnings.warn(msg, FutureWarning)\n"
     ]
    },
    {
     "data": {
      "image/png": "[encoded data removed]",
      "text/plain": [
       "<Figure size 432x288 with 1 Axes>"
      ]
     },
     "metadata": {
      "needs_background": "light"
     },
     "output_type": "display_data"
    }
   ],
   "source": [
    "sns.kdeplot((df_train['previous']) ** (1/2), bw = 10)\n",
    "sns.kdeplot((y_df['previous']) ** (1/2), bw = 10)\n",
    "plt.xticks(fontsize = 10, ha = \"right\")\n",
    "plt.yticks(fontsize = 10)\n",
    "plt.xlabel('Previous', fontsize = 15)\n",
    "plt.legend(['Previous', 'Subscribers Previous'])\n",
    "plt.show()\n",
    "sns.distplot((df_train['previous']) ** (1/2), kde = False)\n",
    "sns.distplot((y_df['previous']) ** (1/2), kde = False)\n",
    "plt.xticks(fontsize = 10, ha = \"right\")\n",
    "plt.yticks(fontsize = 10)\n",
    "plt.xlabel('Previous', fontsize = 15)\n",
    "plt.legend(['Previous', 'Subscribers Previous'])\n",
    "plt.show()\n",
    "df_train['previous'] = df_train['previous'] ** (1/2)\n",
    "df_test['previous'] = df_test['previous'] ** (1/2)"
   ]
  },
  {
   "cell_type": "markdown",
   "id": "490d307d",
   "metadata": {},
   "source": [
    "Relationship between previous outcome and subscription "
   ]
  },
  {
   "cell_type": "code",
   "execution_count": 37,
   "id": "c0d14ab9",
   "metadata": {},
   "outputs": [
    {
     "data": {
      "text/plain": [
       "Text(0, 0.5, 'Count')"
      ]
     },
     "execution_count": 37,
     "metadata": {},
     "output_type": "execute_result"
    },
    {
     "data": {
      "image/png": "[encoded data removed]",
      "text/plain": [
       "<Figure size 432x288 with 1 Axes>"
      ]
     },
     "metadata": {
      "needs_background": "light"
     },
     "output_type": "display_data"
    }
   ],
   "source": [
    "sns.countplot(x ='poutcome', hue = 'subscribed', data = df_train)\n",
    "plt.xticks(fontsize = 10, ha = \"right\")\n",
    "plt.yticks(fontsize = 10)\n",
    "plt.xlabel('Previous Outcome', fontsize = 15)\n",
    "plt.ylabel('Count', fontsize = 15)"
   ]
  },
  {
   "cell_type": "code",
   "execution_count": 40,
   "id": "3261ac0b",
   "metadata": {},
   "outputs": [
    {
     "data": {
      "text/html": [
       "<div>\n",
       "<style scoped>\n",
       "    .dataframe tbody tr th:only-of-type {\n",
       "        vertical-align: middle;\n",
       "    }\n",
       "\n",
       "    .dataframe tbody tr th {\n",
       "        vertical-align: top;\n",
       "    }\n",
       "\n",
       "    .dataframe thead th {\n",
       "        text-align: right;\n",
       "    }\n",
       "</style>\n",
       "<table border=\"1\" class=\"dataframe\">\n",
       "  <thead>\n",
       "    <tr style=\"text-align: right;\">\n",
       "      <th></th>\n",
       "      <th>ID</th>\n",
       "      <th>age</th>\n",
       "      <th>job</th>\n",
       "      <th>marital</th>\n",
       "      <th>education</th>\n",
       "      <th>default</th>\n",
       "      <th>balance</th>\n",
       "      <th>housing</th>\n",
       "      <th>loan</th>\n",
       "      <th>contact</th>\n",
       "      <th>day</th>\n",
       "      <th>month</th>\n",
       "      <th>duration</th>\n",
       "      <th>campaign</th>\n",
       "      <th>pdays</th>\n",
       "      <th>previous</th>\n",
       "      <th>poutcome</th>\n",
       "      <th>age_group</th>\n",
       "      <th>balance_group</th>\n",
       "      <th>campaign_group</th>\n",
       "      <th>pdays_group</th>\n",
       "      <th>previous_groups</th>\n",
       "    </tr>\n",
       "  </thead>\n",
       "  <tbody>\n",
       "    <tr>\n",
       "      <th>0</th>\n",
       "      <td>38441</td>\n",
       "      <td>32</td>\n",
       "      <td>services</td>\n",
       "      <td>married</td>\n",
       "      <td>secondary</td>\n",
       "      <td>no</td>\n",
       "      <td>118</td>\n",
       "      <td>yes</td>\n",
       "      <td>no</td>\n",
       "      <td>cellular</td>\n",
       "      <td>15</td>\n",
       "      <td>may</td>\n",
       "      <td>2.714418</td>\n",
       "      <td>1.817121</td>\n",
       "      <td>0.0</td>\n",
       "      <td>0.0</td>\n",
       "      <td>unknown</td>\n",
       "      <td>26-33</td>\n",
       "      <td>0K - 15K</td>\n",
       "      <td>1-7</td>\n",
       "      <td>1-100</td>\n",
       "      <td>1-50</td>\n",
       "    </tr>\n",
       "    <tr>\n",
       "      <th>1</th>\n",
       "      <td>40403</td>\n",
       "      <td>78</td>\n",
       "      <td>retired</td>\n",
       "      <td>divorced</td>\n",
       "      <td>primary</td>\n",
       "      <td>no</td>\n",
       "      <td>2787</td>\n",
       "      <td>no</td>\n",
       "      <td>no</td>\n",
       "      <td>telephone</td>\n",
       "      <td>1</td>\n",
       "      <td>jul</td>\n",
       "      <td>7.191966</td>\n",
       "      <td>1.000000</td>\n",
       "      <td>0.0</td>\n",
       "      <td>0.0</td>\n",
       "      <td>unknown</td>\n",
       "      <td>74-81</td>\n",
       "      <td>0K - 15K</td>\n",
       "      <td>1-7</td>\n",
       "      <td>1-100</td>\n",
       "      <td>1-50</td>\n",
       "    </tr>\n",
       "    <tr>\n",
       "      <th>2</th>\n",
       "      <td>3709</td>\n",
       "      <td>31</td>\n",
       "      <td>self-employed</td>\n",
       "      <td>single</td>\n",
       "      <td>tertiary</td>\n",
       "      <td>no</td>\n",
       "      <td>144</td>\n",
       "      <td>yes</td>\n",
       "      <td>no</td>\n",
       "      <td>unknown</td>\n",
       "      <td>16</td>\n",
       "      <td>may</td>\n",
       "      <td>8.776383</td>\n",
       "      <td>1.000000</td>\n",
       "      <td>0.0</td>\n",
       "      <td>0.0</td>\n",
       "      <td>unknown</td>\n",
       "      <td>26-33</td>\n",
       "      <td>0K - 15K</td>\n",
       "      <td>1-7</td>\n",
       "      <td>1-100</td>\n",
       "      <td>1-50</td>\n",
       "    </tr>\n",
       "    <tr>\n",
       "      <th>3</th>\n",
       "      <td>37422</td>\n",
       "      <td>57</td>\n",
       "      <td>services</td>\n",
       "      <td>single</td>\n",
       "      <td>primary</td>\n",
       "      <td>no</td>\n",
       "      <td>3777</td>\n",
       "      <td>yes</td>\n",
       "      <td>no</td>\n",
       "      <td>telephone</td>\n",
       "      <td>13</td>\n",
       "      <td>may</td>\n",
       "      <td>4.020726</td>\n",
       "      <td>1.259921</td>\n",
       "      <td>0.0</td>\n",
       "      <td>0.0</td>\n",
       "      <td>unknown</td>\n",
       "      <td>50-57</td>\n",
       "      <td>0K - 15K</td>\n",
       "      <td>1-7</td>\n",
       "      <td>1-100</td>\n",
       "      <td>1-50</td>\n",
       "    </tr>\n",
       "    <tr>\n",
       "      <th>4</th>\n",
       "      <td>12527</td>\n",
       "      <td>45</td>\n",
       "      <td>blue-collar</td>\n",
       "      <td>divorced</td>\n",
       "      <td>secondary</td>\n",
       "      <td>no</td>\n",
       "      <td>-705</td>\n",
       "      <td>no</td>\n",
       "      <td>yes</td>\n",
       "      <td>unknown</td>\n",
       "      <td>3</td>\n",
       "      <td>jul</td>\n",
       "      <td>4.805896</td>\n",
       "      <td>1.000000</td>\n",
       "      <td>0.0</td>\n",
       "      <td>0.0</td>\n",
       "      <td>unknown</td>\n",
       "      <td>42-49</td>\n",
       "      <td>Negative Balance</td>\n",
       "      <td>1-7</td>\n",
       "      <td>1-100</td>\n",
       "      <td>1-50</td>\n",
       "    </tr>\n",
       "  </tbody>\n",
       "</table>\n",
       "</div>"
      ],
      "text/plain": [
       "      ID  age            job   marital  education default  balance housing  \\\n",
       "0  38441   32       services   married  secondary      no      118     yes   \n",
       "1  40403   78        retired  divorced    primary      no     2787      no   \n",
       "2   3709   31  self-employed    single   tertiary      no      144     yes   \n",
       "3  37422   57       services    single    primary      no     3777     yes   \n",
       "4  12527   45    blue-collar  divorced  secondary      no     -705      no   \n",
       "\n",
       "  loan    contact  day month  duration  campaign  pdays  previous poutcome  \\\n",
       "0   no   cellular   15   may  2.714418  1.817121    0.0       0.0  unknown   \n",
       "1   no  telephone    1   jul  7.191966  1.000000    0.0       0.0  unknown   \n",
       "2   no    unknown   16   may  8.776383  1.000000    0.0       0.0  unknown   \n",
       "3   no  telephone   13   may  4.020726  1.259921    0.0       0.0  unknown   \n",
       "4  yes    unknown    3   jul  4.805896  1.000000    0.0       0.0  unknown   \n",
       "\n",
       "  age_group     balance_group campaign_group pdays_group previous_groups  \n",
       "0     26-33          0K - 15K            1-7       1-100            1-50  \n",
       "1     74-81          0K - 15K            1-7       1-100            1-50  \n",
       "2     26-33          0K - 15K            1-7       1-100            1-50  \n",
       "3     50-57          0K - 15K            1-7       1-100            1-50  \n",
       "4     42-49  Negative Balance            1-7       1-100            1-50  "
      ]
     },
     "execution_count": 40,
     "metadata": {},
     "output_type": "execute_result"
    }
   ],
   "source": [
    "df_test.head()"
   ]
  },
  {
   "cell_type": "markdown",
   "id": "0c926e5d",
   "metadata": {},
   "source": [
    "Encoding categorical columns "
   ]
  },
  {
   "cell_type": "code",
   "execution_count": 42,
   "id": "04331ad3",
   "metadata": {},
   "outputs": [],
   "source": [
    "df_train_dummies = pd.get_dummies(df_train[['job', 'marital', 'default', 'housing', 'loan', 'contact', 'poutcome']], drop_first = True)\n",
    "df_train_label = df_train[['education', 'month']].apply(LabelEncoder().fit_transform)\n",
    "df_test_dummies = pd.get_dummies(df_test[['job', 'marital', 'default', 'housing', 'loan', 'contact', 'poutcome']], drop_first = True)\n",
    "df_test_label = df_test[['education', 'month']].apply(LabelEncoder().fit_transform)\n",
    "df_train = pd.concat([df_train.drop(['job', 'marital', 'default', 'housing', 'loan', 'contact', 'poutcome', 'education', 'month'], axis = 1), df_train_dummies, df_train_label], axis = 1)\n",
    "df_test = pd.concat([df_test.drop(['job', 'marital', 'default', 'housing', 'loan', 'contact', 'poutcome', 'education', 'month'], axis = 1), df_test_dummies, df_test_label], axis = 1)"
   ]
  },
  {
   "cell_type": "code",
   "execution_count": 44,
   "id": "cc4867ba",
   "metadata": {},
   "outputs": [],
   "source": [
    "df_train = df_train.drop(['ID', 'age_group', 'balance_group', 'campaign_group', 'pdays_group', 'previous_groups'], axis = 1)\n",
    "df_test = df_test.drop(['ID', 'age_group', 'balance_group', 'campaign_group', 'pdays_group', 'previous_groups'], axis = 1)"
   ]
  },
  {
   "cell_type": "code",
   "execution_count": 45,
   "id": "08da280c",
   "metadata": {},
   "outputs": [],
   "source": [
    "df_train['subscribed'] = df_train['subscribed'].map({'yes': 1, 'no': 0})"
   ]
  },
  {
   "cell_type": "code",
   "execution_count": 46,
   "id": "b534de2f",
   "metadata": {},
   "outputs": [],
   "source": [
    "df_train_scaled = pd.DataFrame(StandardScaler().fit_transform(df_train.drop('subscribed', axis = 1)), columns = df_test.columns)\n",
    "df_test_scaled = pd.DataFrame(StandardScaler().fit_transform(df_test), columns = df_test.columns)"
   ]
  },
  {
   "cell_type": "markdown",
   "id": "fe52181e",
   "metadata": {},
   "source": [
    "Feature Selection "
   ]
  },
  {
   "cell_type": "code",
   "execution_count": 47,
   "id": "3db61a02",
   "metadata": {},
   "outputs": [
    {
     "data": {
      "text/html": [
       "<div>\n",
       "<style scoped>\n",
       "    .dataframe tbody tr th:only-of-type {\n",
       "        vertical-align: middle;\n",
       "    }\n",
       "\n",
       "    .dataframe tbody tr th {\n",
       "        vertical-align: top;\n",
       "    }\n",
       "\n",
       "    .dataframe thead th {\n",
       "        text-align: right;\n",
       "    }\n",
       "</style>\n",
       "<table border=\"1\" class=\"dataframe\">\n",
       "  <thead>\n",
       "    <tr style=\"text-align: right;\">\n",
       "      <th></th>\n",
       "      <th>Variable</th>\n",
       "      <th>Importance</th>\n",
       "    </tr>\n",
       "  </thead>\n",
       "  <tbody>\n",
       "    <tr>\n",
       "      <th>0</th>\n",
       "      <td>PC1</td>\n",
       "      <td>Explained Info    0.0\n",
       "dtype: float64</td>\n",
       "    </tr>\n",
       "    <tr>\n",
       "      <th>1</th>\n",
       "      <td>PC2</td>\n",
       "      <td>Explained Info    0.113951\n",
       "dtype: float64</td>\n",
       "    </tr>\n",
       "    <tr>\n",
       "      <th>2</th>\n",
       "      <td>PC3</td>\n",
       "      <td>Explained Info    0.192186\n",
       "dtype: float64</td>\n",
       "    </tr>\n",
       "    <tr>\n",
       "      <th>3</th>\n",
       "      <td>PC4</td>\n",
       "      <td>Explained Info    0.258881\n",
       "dtype: float64</td>\n",
       "    </tr>\n",
       "    <tr>\n",
       "      <th>4</th>\n",
       "      <td>PC5</td>\n",
       "      <td>Explained Info    0.307622\n",
       "dtype: float64</td>\n",
       "    </tr>\n",
       "    <tr>\n",
       "      <th>5</th>\n",
       "      <td>PC6</td>\n",
       "      <td>Explained Info    0.353959\n",
       "dtype: float64</td>\n",
       "    </tr>\n",
       "    <tr>\n",
       "      <th>6</th>\n",
       "      <td>PC7</td>\n",
       "      <td>Explained Info    0.394461\n",
       "dtype: float64</td>\n",
       "    </tr>\n",
       "    <tr>\n",
       "      <th>7</th>\n",
       "      <td>PC8</td>\n",
       "      <td>Explained Info    0.43309\n",
       "dtype: float64</td>\n",
       "    </tr>\n",
       "    <tr>\n",
       "      <th>8</th>\n",
       "      <td>PC9</td>\n",
       "      <td>Explained Info    0.471137\n",
       "dtype: float64</td>\n",
       "    </tr>\n",
       "    <tr>\n",
       "      <th>9</th>\n",
       "      <td>PC10</td>\n",
       "      <td>Explained Info    0.507759\n",
       "dtype: float64</td>\n",
       "    </tr>\n",
       "    <tr>\n",
       "      <th>10</th>\n",
       "      <td>PC11</td>\n",
       "      <td>Explained Info    0.543615\n",
       "dtype: float64</td>\n",
       "    </tr>\n",
       "    <tr>\n",
       "      <th>11</th>\n",
       "      <td>PC12</td>\n",
       "      <td>Explained Info    0.578321\n",
       "dtype: float64</td>\n",
       "    </tr>\n",
       "    <tr>\n",
       "      <th>12</th>\n",
       "      <td>PC13</td>\n",
       "      <td>Explained Info    0.612692\n",
       "dtype: float64</td>\n",
       "    </tr>\n",
       "    <tr>\n",
       "      <th>13</th>\n",
       "      <td>PC14</td>\n",
       "      <td>Explained Info    0.646948\n",
       "dtype: float64</td>\n",
       "    </tr>\n",
       "    <tr>\n",
       "      <th>14</th>\n",
       "      <td>PC15</td>\n",
       "      <td>Explained Info    0.68113\n",
       "dtype: float64</td>\n",
       "    </tr>\n",
       "    <tr>\n",
       "      <th>15</th>\n",
       "      <td>PC16</td>\n",
       "      <td>Explained Info    0.714939\n",
       "dtype: float64</td>\n",
       "    </tr>\n",
       "    <tr>\n",
       "      <th>16</th>\n",
       "      <td>PC17</td>\n",
       "      <td>Explained Info    0.746509\n",
       "dtype: float64</td>\n",
       "    </tr>\n",
       "    <tr>\n",
       "      <th>17</th>\n",
       "      <td>PC18</td>\n",
       "      <td>Explained Info    0.777451\n",
       "dtype: float64</td>\n",
       "    </tr>\n",
       "    <tr>\n",
       "      <th>18</th>\n",
       "      <td>PC19</td>\n",
       "      <td>Explained Info    0.807553\n",
       "dtype: float64</td>\n",
       "    </tr>\n",
       "    <tr>\n",
       "      <th>19</th>\n",
       "      <td>PC20</td>\n",
       "      <td>Explained Info    0.837519\n",
       "dtype: float64</td>\n",
       "    </tr>\n",
       "    <tr>\n",
       "      <th>20</th>\n",
       "      <td>PC21</td>\n",
       "      <td>Explained Info    0.866913\n",
       "dtype: float64</td>\n",
       "    </tr>\n",
       "    <tr>\n",
       "      <th>21</th>\n",
       "      <td>PC22</td>\n",
       "      <td>Explained Info    0.893405\n",
       "dtype: float64</td>\n",
       "    </tr>\n",
       "    <tr>\n",
       "      <th>22</th>\n",
       "      <td>PC23</td>\n",
       "      <td>Explained Info    0.916244\n",
       "dtype: float64</td>\n",
       "    </tr>\n",
       "    <tr>\n",
       "      <th>23</th>\n",
       "      <td>PC24</td>\n",
       "      <td>Explained Info    0.9342\n",
       "dtype: float64</td>\n",
       "    </tr>\n",
       "    <tr>\n",
       "      <th>24</th>\n",
       "      <td>PC25</td>\n",
       "      <td>Explained Info    0.951171\n",
       "dtype: float64</td>\n",
       "    </tr>\n",
       "    <tr>\n",
       "      <th>25</th>\n",
       "      <td>PC26</td>\n",
       "      <td>Explained Info    0.96769\n",
       "dtype: float64</td>\n",
       "    </tr>\n",
       "    <tr>\n",
       "      <th>26</th>\n",
       "      <td>PC27</td>\n",
       "      <td>Explained Info    0.98314\n",
       "dtype: float64</td>\n",
       "    </tr>\n",
       "    <tr>\n",
       "      <th>27</th>\n",
       "      <td>PC28</td>\n",
       "      <td>Explained Info    0.989979\n",
       "dtype: float64</td>\n",
       "    </tr>\n",
       "    <tr>\n",
       "      <th>28</th>\n",
       "      <td>PC29</td>\n",
       "      <td>Explained Info    0.994925\n",
       "dtype: float64</td>\n",
       "    </tr>\n",
       "    <tr>\n",
       "      <th>29</th>\n",
       "      <td>PC30</td>\n",
       "      <td>Explained Info    0.999332\n",
       "dtype: float64</td>\n",
       "    </tr>\n",
       "  </tbody>\n",
       "</table>\n",
       "</div>"
      ],
      "text/plain": [
       "   Variable                                 Importance\n",
       "0       PC1       Explained Info    0.0\n",
       "dtype: float64\n",
       "1       PC2  Explained Info    0.113951\n",
       "dtype: float64\n",
       "2       PC3  Explained Info    0.192186\n",
       "dtype: float64\n",
       "3       PC4  Explained Info    0.258881\n",
       "dtype: float64\n",
       "4       PC5  Explained Info    0.307622\n",
       "dtype: float64\n",
       "5       PC6  Explained Info    0.353959\n",
       "dtype: float64\n",
       "6       PC7  Explained Info    0.394461\n",
       "dtype: float64\n",
       "7       PC8   Explained Info    0.43309\n",
       "dtype: float64\n",
       "8       PC9  Explained Info    0.471137\n",
       "dtype: float64\n",
       "9      PC10  Explained Info    0.507759\n",
       "dtype: float64\n",
       "10     PC11  Explained Info    0.543615\n",
       "dtype: float64\n",
       "11     PC12  Explained Info    0.578321\n",
       "dtype: float64\n",
       "12     PC13  Explained Info    0.612692\n",
       "dtype: float64\n",
       "13     PC14  Explained Info    0.646948\n",
       "dtype: float64\n",
       "14     PC15   Explained Info    0.68113\n",
       "dtype: float64\n",
       "15     PC16  Explained Info    0.714939\n",
       "dtype: float64\n",
       "16     PC17  Explained Info    0.746509\n",
       "dtype: float64\n",
       "17     PC18  Explained Info    0.777451\n",
       "dtype: float64\n",
       "18     PC19  Explained Info    0.807553\n",
       "dtype: float64\n",
       "19     PC20  Explained Info    0.837519\n",
       "dtype: float64\n",
       "20     PC21  Explained Info    0.866913\n",
       "dtype: float64\n",
       "21     PC22  Explained Info    0.893405\n",
       "dtype: float64\n",
       "22     PC23  Explained Info    0.916244\n",
       "dtype: float64\n",
       "23     PC24    Explained Info    0.9342\n",
       "dtype: float64\n",
       "24     PC25  Explained Info    0.951171\n",
       "dtype: float64\n",
       "25     PC26   Explained Info    0.96769\n",
       "dtype: float64\n",
       "26     PC27   Explained Info    0.98314\n",
       "dtype: float64\n",
       "27     PC28  Explained Info    0.989979\n",
       "dtype: float64\n",
       "28     PC29  Explained Info    0.994925\n",
       "dtype: float64\n",
       "29     PC30  Explained Info    0.999332\n",
       "dtype: float64"
      ]
     },
     "execution_count": 47,
     "metadata": {},
     "output_type": "execute_result"
    }
   ],
   "source": [
    "pca_columns = []\n",
    "for i in range(df_train_scaled.shape[1]):\n",
    "    pca_columns.append('PC' + str(i+1))\n",
    "pca_model = PCA()\n",
    "pca_model.fit(df_train_scaled)\n",
    "df_pca_train = pd.DataFrame(pca_model.transform(df_train_scaled), columns = pca_columns)\n",
    "explained_info_train = pd.DataFrame(pca_model.explained_variance_ratio_, columns=['Explained Info']).sort_values(by = 'Explained Info', ascending = False)\n",
    "imp = []\n",
    "for i in range(explained_info_train.shape[0]):\n",
    "    imp.append(explained_info_train.head(i).sum())\n",
    "explained_info_train_sum = pd.DataFrame()\n",
    "explained_info_train_sum['Variable'] = pca_columns\n",
    "explained_info_train_sum['Importance'] = imp\n",
    "explained_info_train_sum"
   ]
  },
  {
   "cell_type": "code",
   "execution_count": 48,
   "id": "e241e561",
   "metadata": {},
   "outputs": [],
   "source": [
    "pca_columns = []\n",
    "for i in range(19):\n",
    "    pca_columns.append('PC' + str(i+1))\n",
    "pca_model = PCA(n_components = 19)\n",
    "pca_model.fit(df_train_scaled)\n",
    "df_pca_train = pd.DataFrame(pca_model.transform(df_train_scaled), columns = pca_columns)"
   ]
  },
  {
   "cell_type": "code",
   "execution_count": 49,
   "id": "0667b351",
   "metadata": {},
   "outputs": [
    {
     "data": {
      "text/html": [
       "<div>\n",
       "<style scoped>\n",
       "    .dataframe tbody tr th:only-of-type {\n",
       "        vertical-align: middle;\n",
       "    }\n",
       "\n",
       "    .dataframe tbody tr th {\n",
       "        vertical-align: top;\n",
       "    }\n",
       "\n",
       "    .dataframe thead th {\n",
       "        text-align: right;\n",
       "    }\n",
       "</style>\n",
       "<table border=\"1\" class=\"dataframe\">\n",
       "  <thead>\n",
       "    <tr style=\"text-align: right;\">\n",
       "      <th></th>\n",
       "      <th>PC1</th>\n",
       "      <th>PC2</th>\n",
       "      <th>PC3</th>\n",
       "      <th>PC4</th>\n",
       "      <th>PC5</th>\n",
       "      <th>PC6</th>\n",
       "      <th>PC7</th>\n",
       "      <th>PC8</th>\n",
       "      <th>PC9</th>\n",
       "      <th>PC10</th>\n",
       "      <th>PC11</th>\n",
       "      <th>PC12</th>\n",
       "      <th>PC13</th>\n",
       "      <th>PC14</th>\n",
       "      <th>PC15</th>\n",
       "      <th>PC16</th>\n",
       "      <th>PC17</th>\n",
       "      <th>PC18</th>\n",
       "      <th>PC19</th>\n",
       "    </tr>\n",
       "  </thead>\n",
       "  <tbody>\n",
       "    <tr>\n",
       "      <th>0</th>\n",
       "      <td>-0.571122</td>\n",
       "      <td>1.194901</td>\n",
       "      <td>2.189240</td>\n",
       "      <td>-0.231161</td>\n",
       "      <td>0.127129</td>\n",
       "      <td>1.334073</td>\n",
       "      <td>1.768407</td>\n",
       "      <td>0.670021</td>\n",
       "      <td>0.276009</td>\n",
       "      <td>0.529774</td>\n",
       "      <td>0.008122</td>\n",
       "      <td>0.142475</td>\n",
       "      <td>0.081630</td>\n",
       "      <td>0.588771</td>\n",
       "      <td>0.106732</td>\n",
       "      <td>-0.889046</td>\n",
       "      <td>2.569041</td>\n",
       "      <td>1.081345</td>\n",
       "      <td>0.226742</td>\n",
       "    </tr>\n",
       "    <tr>\n",
       "      <th>1</th>\n",
       "      <td>-0.881439</td>\n",
       "      <td>0.464468</td>\n",
       "      <td>1.532703</td>\n",
       "      <td>0.201468</td>\n",
       "      <td>0.023683</td>\n",
       "      <td>0.915968</td>\n",
       "      <td>0.475362</td>\n",
       "      <td>0.934121</td>\n",
       "      <td>-1.602247</td>\n",
       "      <td>2.916668</td>\n",
       "      <td>-2.911563</td>\n",
       "      <td>8.177837</td>\n",
       "      <td>-2.185926</td>\n",
       "      <td>4.693630</td>\n",
       "      <td>3.110809</td>\n",
       "      <td>3.965830</td>\n",
       "      <td>-0.061786</td>\n",
       "      <td>-0.098394</td>\n",
       "      <td>-1.522966</td>\n",
       "    </tr>\n",
       "    <tr>\n",
       "      <th>2</th>\n",
       "      <td>-0.689332</td>\n",
       "      <td>-0.048040</td>\n",
       "      <td>-0.911118</td>\n",
       "      <td>-0.240025</td>\n",
       "      <td>-0.295431</td>\n",
       "      <td>-0.814964</td>\n",
       "      <td>0.782649</td>\n",
       "      <td>-1.726606</td>\n",
       "      <td>-2.424333</td>\n",
       "      <td>-0.913358</td>\n",
       "      <td>0.491274</td>\n",
       "      <td>0.303285</td>\n",
       "      <td>0.103248</td>\n",
       "      <td>0.486114</td>\n",
       "      <td>-0.908011</td>\n",
       "      <td>0.116769</td>\n",
       "      <td>-0.111214</td>\n",
       "      <td>0.666047</td>\n",
       "      <td>0.291137</td>\n",
       "    </tr>\n",
       "    <tr>\n",
       "      <th>3</th>\n",
       "      <td>4.510163</td>\n",
       "      <td>0.168221</td>\n",
       "      <td>2.094708</td>\n",
       "      <td>-1.353012</td>\n",
       "      <td>2.352895</td>\n",
       "      <td>-0.266640</td>\n",
       "      <td>-1.220366</td>\n",
       "      <td>-0.172763</td>\n",
       "      <td>0.039424</td>\n",
       "      <td>-0.169253</td>\n",
       "      <td>-0.458679</td>\n",
       "      <td>0.150418</td>\n",
       "      <td>-2.880424</td>\n",
       "      <td>-1.676181</td>\n",
       "      <td>-1.895689</td>\n",
       "      <td>1.260017</td>\n",
       "      <td>0.394675</td>\n",
       "      <td>-0.350161</td>\n",
       "      <td>0.257991</td>\n",
       "    </tr>\n",
       "    <tr>\n",
       "      <th>4</th>\n",
       "      <td>-0.536282</td>\n",
       "      <td>-0.082300</td>\n",
       "      <td>-0.213692</td>\n",
       "      <td>0.313794</td>\n",
       "      <td>-0.365011</td>\n",
       "      <td>-2.292767</td>\n",
       "      <td>-1.768338</td>\n",
       "      <td>0.577751</td>\n",
       "      <td>-0.587526</td>\n",
       "      <td>-0.294876</td>\n",
       "      <td>0.093634</td>\n",
       "      <td>0.439688</td>\n",
       "      <td>0.941143</td>\n",
       "      <td>0.596992</td>\n",
       "      <td>0.010911</td>\n",
       "      <td>-0.689622</td>\n",
       "      <td>0.417975</td>\n",
       "      <td>0.577589</td>\n",
       "      <td>0.270587</td>\n",
       "    </tr>\n",
       "  </tbody>\n",
       "</table>\n",
       "</div>"
      ],
      "text/plain": [
       "        PC1       PC2       PC3       PC4       PC5       PC6       PC7  \\\n",
       "0 -0.571122  1.194901  2.189240 -0.231161  0.127129  1.334073  1.768407   \n",
       "1 -0.881439  0.464468  1.532703  0.201468  0.023683  0.915968  0.475362   \n",
       "2 -0.689332 -0.048040 -0.911118 -0.240025 -0.295431 -0.814964  0.782649   \n",
       "3  4.510163  0.168221  2.094708 -1.353012  2.352895 -0.266640 -1.220366   \n",
       "4 -0.536282 -0.082300 -0.213692  0.313794 -0.365011 -2.292767 -1.768338   \n",
       "\n",
       "        PC8       PC9      PC10      PC11      PC12      PC13      PC14  \\\n",
       "0  0.670021  0.276009  0.529774  0.008122  0.142475  0.081630  0.588771   \n",
       "1  0.934121 -1.602247  2.916668 -2.911563  8.177837 -2.185926  4.693630   \n",
       "2 -1.726606 -2.424333 -0.913358  0.491274  0.303285  0.103248  0.486114   \n",
       "3 -0.172763  0.039424 -0.169253 -0.458679  0.150418 -2.880424 -1.676181   \n",
       "4  0.577751 -0.587526 -0.294876  0.093634  0.439688  0.941143  0.596992   \n",
       "\n",
       "       PC15      PC16      PC17      PC18      PC19  \n",
       "0  0.106732 -0.889046  2.569041  1.081345  0.226742  \n",
       "1  3.110809  3.965830 -0.061786 -0.098394 -1.522966  \n",
       "2 -0.908011  0.116769 -0.111214  0.666047  0.291137  \n",
       "3 -1.895689  1.260017  0.394675 -0.350161  0.257991  \n",
       "4  0.010911 -0.689622  0.417975  0.577589  0.270587  "
      ]
     },
     "execution_count": 49,
     "metadata": {},
     "output_type": "execute_result"
    }
   ],
   "source": [
    "df_pca_train.head()"
   ]
  },
  {
   "cell_type": "code",
   "execution_count": 50,
   "id": "e58fd86a",
   "metadata": {},
   "outputs": [],
   "source": [
    "pca_model = PCA(n_components = 19)\n",
    "pca_model.fit(df_test_scaled)\n",
    "df_pca_test = pd.DataFrame(pca_model.transform(df_test_scaled), columns = pca_columns)"
   ]
  },
  {
   "cell_type": "code",
   "execution_count": 51,
   "id": "49b4f5b8",
   "metadata": {},
   "outputs": [],
   "source": [
    "X = df_pca_train\n",
    "y = df_train['subscribed']"
   ]
  },
  {
   "cell_type": "code",
   "execution_count": 52,
   "id": "ff908bb1",
   "metadata": {},
   "outputs": [
    {
     "data": {
      "text/plain": [
       "0    27932\n",
       "1     3715\n",
       "Name: subscribed, dtype: int64"
      ]
     },
     "execution_count": 52,
     "metadata": {},
     "output_type": "execute_result"
    }
   ],
   "source": [
    "df_train['subscribed'].value_counts()"
   ]
  },
  {
   "cell_type": "code",
   "execution_count": 53,
   "id": "79cfd6a3",
   "metadata": {},
   "outputs": [
    {
     "ename": "NameError",
     "evalue": "name 'SMOTE' is not defined",
     "output_type": "error",
     "traceback": [
      "\u001b[1;31m---------------------------------------------------------------------------\u001b[0m",
      "\u001b[1;31mNameError\u001b[0m                                 Traceback (most recent call last)",
      "\u001b[1;32m<ipython-input-53-d9ace7b770e7>\u001b[0m in \u001b[0;36m<module>\u001b[1;34m\u001b[0m\n\u001b[1;32m----> 1\u001b[1;33m \u001b[0msmote\u001b[0m \u001b[1;33m=\u001b[0m \u001b[0mSMOTE\u001b[0m\u001b[1;33m(\u001b[0m\u001b[1;33m)\u001b[0m\u001b[1;33m\u001b[0m\u001b[1;33m\u001b[0m\u001b[0m\n\u001b[0m\u001b[0;32m      2\u001b[0m \u001b[0mX_smote\u001b[0m\u001b[1;33m,\u001b[0m \u001b[0my_smote\u001b[0m \u001b[1;33m=\u001b[0m \u001b[0msmote\u001b[0m\u001b[1;33m.\u001b[0m\u001b[0mfit_resample\u001b[0m\u001b[1;33m(\u001b[0m\u001b[0mX\u001b[0m\u001b[1;33m,\u001b[0m \u001b[0my\u001b[0m\u001b[1;33m)\u001b[0m\u001b[1;33m\u001b[0m\u001b[1;33m\u001b[0m\u001b[0m\n\u001b[0;32m      3\u001b[0m \u001b[0my_smote\u001b[0m\u001b[1;33m.\u001b[0m\u001b[0mvalue_counts\u001b[0m\u001b[1;33m(\u001b[0m\u001b[1;33m)\u001b[0m\u001b[1;33m\u001b[0m\u001b[1;33m\u001b[0m\u001b[0m\n",
      "\u001b[1;31mNameError\u001b[0m: name 'SMOTE' is not defined"
     ]
    }
   ],
   "source": [
    "smote = SMOTE()\n",
    "X_smote, y_smote = smote.fit_resample(X, y)\n",
    "y_smote.value_counts()"
   ]
  },
  {
   "cell_type": "markdown",
   "id": "1a33ea2a",
   "metadata": {},
   "source": [
    "Train, Validation and Test data sets "
   ]
  },
  {
   "cell_type": "code",
   "execution_count": 66,
   "id": "22437268",
   "metadata": {},
   "outputs": [
    {
     "ename": "NameError",
     "evalue": "name 'X_smote' is not defined",
     "output_type": "error",
     "traceback": [
      "\u001b[1;31m---------------------------------------------------------------------------\u001b[0m",
      "\u001b[1;31mNameError\u001b[0m                                 Traceback (most recent call last)",
      "\u001b[1;32m<ipython-input-66-540c84c8f4da>\u001b[0m in \u001b[0;36m<module>\u001b[1;34m\u001b[0m\n\u001b[1;32m----> 1\u001b[1;33m \u001b[0mX_train\u001b[0m\u001b[1;33m,\u001b[0m \u001b[0mX_val\u001b[0m\u001b[1;33m,\u001b[0m \u001b[0my_train\u001b[0m\u001b[1;33m,\u001b[0m \u001b[0my_val\u001b[0m \u001b[1;33m=\u001b[0m \u001b[0mtrain_test_split\u001b[0m\u001b[1;33m(\u001b[0m\u001b[0mX_smote\u001b[0m\u001b[1;33m,\u001b[0m \u001b[0my_smote\u001b[0m\u001b[1;33m,\u001b[0m \u001b[0mtest_size\u001b[0m \u001b[1;33m=\u001b[0m \u001b[1;36m0.3\u001b[0m\u001b[1;33m,\u001b[0m \u001b[0mrandom_state\u001b[0m \u001b[1;33m=\u001b[0m \u001b[1;36m17\u001b[0m\u001b[1;33m)\u001b[0m\u001b[1;33m\u001b[0m\u001b[1;33m\u001b[0m\u001b[0m\n\u001b[0m\u001b[0;32m      2\u001b[0m \u001b[0mX_test\u001b[0m \u001b[1;33m=\u001b[0m \u001b[0mdf_pca_test\u001b[0m\u001b[1;33m\u001b[0m\u001b[1;33m\u001b[0m\u001b[0m\n",
      "\u001b[1;31mNameError\u001b[0m: name 'X_smote' is not defined"
     ]
    }
   ],
   "source": [
    "X_train, X_val, y_train, y_val = train_test_split(X_smote, y_smote, test_size = 0.3, random_state = 17)\n",
    "X_test = df_pca_test"
   ]
  },
  {
   "cell_type": "code",
   "execution_count": 67,
   "id": "07cbac31",
   "metadata": {},
   "outputs": [
    {
     "ename": "NameError",
     "evalue": "name 'X_train' is not defined",
     "output_type": "error",
     "traceback": [
      "\u001b[1;31m---------------------------------------------------------------------------\u001b[0m",
      "\u001b[1;31mNameError\u001b[0m                                 Traceback (most recent call last)",
      "\u001b[1;32m<ipython-input-67-5aa9b3868ee0>\u001b[0m in \u001b[0;36m<module>\u001b[1;34m\u001b[0m\n\u001b[1;32m----> 1\u001b[1;33m \u001b[0mX_train\u001b[0m\u001b[1;33m.\u001b[0m\u001b[0mshape\u001b[0m\u001b[1;33m,\u001b[0m \u001b[0mX_val\u001b[0m\u001b[1;33m.\u001b[0m\u001b[0mshape\u001b[0m\u001b[1;33m,\u001b[0m \u001b[0my_train\u001b[0m\u001b[1;33m.\u001b[0m\u001b[0mshape\u001b[0m\u001b[1;33m,\u001b[0m \u001b[0my_val\u001b[0m\u001b[1;33m.\u001b[0m\u001b[0mshape\u001b[0m\u001b[1;33m,\u001b[0m \u001b[0mX_test\u001b[0m\u001b[1;33m.\u001b[0m\u001b[0mshape\u001b[0m\u001b[1;33m\u001b[0m\u001b[1;33m\u001b[0m\u001b[0m\n\u001b[0m",
      "\u001b[1;31mNameError\u001b[0m: name 'X_train' is not defined"
     ]
    }
   ],
   "source": [
    "X_train.shape, X_val.shape, y_train.shape, y_val.shape, X_test.shape"
   ]
  },
  {
   "cell_type": "code",
   "execution_count": null,
   "id": "b77d95a8",
   "metadata": {},
   "outputs": [],
   "source": [
    "X_train.shape, X_val.shape, y_train.shape, y_val.shape, X_test.shape"
   ]
  },
  {
   "cell_type": "code",
   "execution_count": null,
   "id": "f603188b",
   "metadata": {},
   "outputs": [],
   "source": [
    "models = [LogisticRegression(), DecisionTreeClassifier(), RandomForestClassifier(), AdaBoostClassifier(), GradientBoostingClassifier(), KNeighborsClassifier(), SVC(), XGBClassifier()]\n",
    "model_names = ['LogisticRegression', 'DecisionTreeClassifier', 'RandomForestClassifier', 'AdaBoostClassifier', 'GradientBoostingClassifier', 'KNeighborsClassifier', 'SVC', 'XGBClassifier']\n",
    "accuracy_train = []\n",
    "accuracy_val = []\n",
    "for model in models:\n",
    "    mod = model\n",
    "    mod.fit(X_train, y_train)\n",
    "    y_pred_train = mod.predict(X_train)\n",
    "    y_pred_val = mod.predict(X_val)\n",
    "    accuracy_train.append(accuracy_score(y_train, y_pred_train))\n",
    "    accuracy_val.append(accuracy_score(y_val, y_pred_val))\n",
    "data = {'Modelling Algorithm' : model_names, 'Train Accuracy' : accuracy_train, 'Validation Accuracy' : accuracy_val}\n",
    "data = pd.DataFrame(data)\n",
    "data['Difference'] = ((np.abs(data['Train Accuracy'] - data['Validation Accuracy'])) * 100)/(data['Train Accuracy'])\n",
    "data.sort_values(by = 'Validation Accuracy', ascending = False)"
   ]
  },
  {
   "cell_type": "code",
   "execution_count": null,
   "id": "0f669394",
   "metadata": {},
   "outputs": [],
   "source": [
    "knc = KNeighborsClassifier()\n",
    "possible_parameter_values = {'n_neighbors' : range(1, 100)}\n",
    "knc_rs_cv = RandomizedSearchCV(estimator = knc, param_distributions = possible_parameter_values, cv = 10, scoring = 'accuracy')\n",
    "knc_rs_cv.fit(X_train, y_train)\n",
    "knc_rs_cv.best_params_"
   ]
  },
  {
   "cell_type": "markdown",
   "id": "64014ae0",
   "metadata": {},
   "source": [
    "Best score "
   ]
  },
  {
   "cell_type": "code",
   "execution_count": null,
   "id": "eb3d1fb0",
   "metadata": {},
   "outputs": [],
   "source": [
    "knc_rs_cv.best_score_"
   ]
  },
  {
   "cell_type": "code",
   "execution_count": null,
   "id": "ae86ab26",
   "metadata": {},
   "outputs": [],
   "source": [
    "Checking the model "
   ]
  },
  {
   "cell_type": "code",
   "execution_count": null,
   "id": "87a77598",
   "metadata": {},
   "outputs": [],
   "source": [
    "knc = KNeighborsClassifier(n_neighbors = 8)\n",
    "knc.fit(X_train, y_train)\n",
    "y_pred_val = knc.predict(X_val)"
   ]
  },
  {
   "cell_type": "markdown",
   "id": "34ded5a8",
   "metadata": {},
   "source": [
    "Accuracy "
   ]
  },
  {
   "cell_type": "code",
   "execution_count": null,
   "id": "be6f5d65",
   "metadata": {},
   "outputs": [],
   "source": [
    "accuracy_score(y_val, y_pred_val)"
   ]
  },
  {
   "cell_type": "markdown",
   "id": "7a0c3a0d",
   "metadata": {},
   "source": [
    "Final model and Prediction "
   ]
  },
  {
   "cell_type": "code",
   "execution_count": null,
   "id": "7a5e1f18",
   "metadata": {},
   "outputs": [],
   "source": [
    "knc = KNeighborsClassifier(n_neighbors = 8)\n",
    "knc.fit(X_train, y_train)\n",
    "y_pred_test = knc.predict(X_test)\n",
    "y_pred_test = pd.DataFrame(y_pred_test, columns = ['Prediction'])\n",
    "y_pred_test.head()"
   ]
  },
  {
   "cell_type": "code",
   "execution_count": null,
   "id": "a8777474",
   "metadata": {},
   "outputs": [],
   "source": [
    "Exporting Predictions to CSV"
   ]
  },
  {
   "cell_type": "code",
   "execution_count": null,
   "id": "360a41b3",
   "metadata": {},
   "outputs": [],
   "source": [
    "y_pred_test.to_csv('Prediction.csv')"
   ]
  },
  {
   "cell_type": "markdown",
   "id": "892f3251",
   "metadata": {},
   "source": [
    "Relation beween Dependent Variables and Subscription "
   ]
  },
  {
   "cell_type": "code",
   "execution_count": null,
   "id": "423abe7b",
   "metadata": {},
   "outputs": [],
   "source": [
    "pca_columns = []\n",
    "for i in range(19):\n",
    "    pca_columns.append('PC' + str(i+1))\n",
    "org_var = pd.DataFrame(pca_model.components_, index = pca_columns, columns = df_train_scaled.columns)\n",
    "values = []\n",
    "for i in org_var.columns:\n",
    "    values.append(org_var[i].sum())\n",
    "dep_var = pd.DataFrame()\n",
    "dep_var['Variables'] = df_train_scaled.columns\n",
    "dep_var['Values'] = values\n",
    "dep_var.sort_values(by = 'Values', ascending = False)"
   ]
  },
  {
   "cell_type": "code",
   "execution_count": null,
   "id": "c605c456",
   "metadata": {},
   "outputs": [],
   "source": []
  }
 ],
 "metadata": {
  "kernelspec": {
   "display_name": "Python 3",
   "language": "python",
   "name": "python3"
  },
  "language_info": {
   "codemirror_mode": {
    "name": "ipython",
    "version": 3
   },
   "file_extension": ".py",
   "mimetype": "text/x-python",
   "name": "python",
   "nbconvert_exporter": "python",
   "pygments_lexer": "ipython3",
   "version": "3.8.5"
  }
 },
 "nbformat": 4,
 "nbformat_minor": 5
}
